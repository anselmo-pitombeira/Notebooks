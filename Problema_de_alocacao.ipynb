{
  "nbformat": 4,
  "nbformat_minor": 0,
  "metadata": {
    "colab": {
      "name": "Cópia de Problema de alocação.ipynb",
      "provenance": [],
      "collapsed_sections": [],
      "include_colab_link": true
    },
    "kernelspec": {
      "name": "python3",
      "display_name": "Python 3"
    }
  },
  "cells": [
    {
      "cell_type": "markdown",
      "metadata": {
        "id": "view-in-github",
        "colab_type": "text"
      },
      "source": [
        "<a href=\"https://colab.research.google.com/github/anselmo-pitombeira/Notebooks/blob/master/Problema_de_alocacao.ipynb\" target=\"_parent\"><img src=\"https://colab.research.google.com/assets/colab-badge.svg\" alt=\"Open In Colab\"/></a>"
      ]
    },
    {
      "cell_type": "code",
      "metadata": {
        "id": "7u1beqq6hvp3"
      },
      "source": [
        "## Instalação do pyomo e do solver para o colab ##\n",
        "!pip install -q pyomo\n",
        "!apt-get install -y -qq coinor-cbc"
      ],
      "execution_count": null,
      "outputs": []
    },
    {
      "cell_type": "code",
      "metadata": {
        "id": "9n8x7VBQiJTy"
      },
      "source": [
        "## Modelo matemático ##\n",
        "## Min x11 + 4x12 + 6x13 + 3x14 + 9x21 + 7x22 + 10x23 + 9x24 + 4x31 + 5x32 + 11x33 + 7x34 +8x41 + 7x42 + 8x43 + 5x44 ##\n",
        "##                               ##\n",
        "## S.a x11 + x12 + x13 + x14 = 1 ##\n",
        "##     x21 + x22 + x23 + x24 = 1 ##\n",
        "##     x31 + x32 + x33 + x34 = 1 ##\n",
        "##     x41 + x42 + x43 + x44 = 1 ##\n",
        "##                               ##\n",
        "##     x11 + x21 + x31 + x41 = 1 ##\n",
        "##     x12 + x22 + x32 + x42 = 1 ##\n",
        "##     x13 + x23 + x33 + x43 = 1 ##\n",
        "##     x14 + x24 + x34 + x44 = 1 ##\n",
        "\n",
        "\n",
        "## Importando a biblioteca pyomo ##\n",
        "import pyomo.environ as pyEnv\n",
        "\n",
        "## Dados do problema ##\n",
        "custos = [[1, 4, 6, 3], [9, 7, 10, 9], [4, 5, 11, 7], [8, 7, 8, 5]]\n",
        "m = len(custos[0])\n",
        "n = len(custos[0])\n",
        "\n",
        "## Declarando o modelo através da biblioteca ##\n",
        "modelo = pyEnv.ConcreteModel()\n",
        "\n",
        "## Criando Indices ##\n",
        "modelo.Indices = pyEnv.RangeSet(m)\n",
        "modelo.Indices2 = pyEnv.RangeSet(n)\n",
        "\n",
        "## Criando as variáveis ##\n",
        "modelo.x = pyEnv.Var(modelo.Indices, modelo.Indices2, within = pyEnv.NonNegativeReals)\n",
        "modelo.Custo_alocacao = pyEnv.Param(modelo.Indices, modelo.Indices2, initialize = lambda modelo, i, j: custos[i-1][j-1])\n",
        "\n",
        "## Criando a Função Objetivo ##\n",
        "def Objetivo(modelo):\n",
        "  return sum(modelo.x[i,j] * modelo.Custo_alocacao[i,j] for i in modelo.Indices for j in modelo.Indices2)\n",
        "\n",
        "modelo.Objetivo = pyEnv.Objective(rule = Objetivo, sense = pyEnv.minimize)\n",
        "\n",
        "## Criando as restrições ##\n",
        "def rest1(modelo, i):\n",
        "  return sum(modelo.x[i,j] for j in modelo.Indices2) == 1\n",
        "\n",
        "def rest2(modelo, j):\n",
        "  return sum(modelo.x[i,j] for i in modelo.Indices) == 1\n",
        "\n",
        "modelo.rest1 = pyEnv.Constraint(modelo.Indices, rule = rest1)\n",
        "modelo.rest2 = pyEnv.Constraint(modelo.Indices2, rule = rest2)\n",
        "\n"
      ],
      "execution_count": null,
      "outputs": []
    },
    {
      "cell_type": "code",
      "source": [
        "## Chamando o Solver ##\n",
        "solver = pyEnv.SolverFactory('cbc')\n",
        "result_objetivo = solver.solve(modelo, tee = True)"
      ],
      "metadata": {
        "id": "Fj4WoCd5UUH7"
      },
      "execution_count": null,
      "outputs": []
    },
    {
      "cell_type": "code",
      "source": [
        "## Printando o resultado ##\n",
        "lista = list(modelo.x.keys())\n",
        "print(\"Alocação ótima:\\n\")\n",
        "for i in lista:\n",
        "  if modelo.x[i]() != 0:\n",
        "    print(i, '---', modelo.x[i]())\n",
        "print()\n",
        "print('Valor da função objetivo (custo mínimo) =', modelo.Objetivo())"
      ],
      "metadata": {
        "id": "ujnmOYpfUZKT"
      },
      "execution_count": null,
      "outputs": []
    }
  ]
}