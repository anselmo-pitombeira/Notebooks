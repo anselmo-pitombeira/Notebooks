{
  "nbformat": 4,
  "nbformat_minor": 0,
  "metadata": {
    "colab": {
      "name": "Cópia de Problema de alocação.ipynb",
      "provenance": [],
      "include_colab_link": true
    },
    "kernelspec": {
      "name": "python3",
      "display_name": "Python 3"
    }
  },
  "cells": [
    {
      "cell_type": "markdown",
      "metadata": {
        "id": "view-in-github",
        "colab_type": "text"
      },
      "source": [
        "<a href=\"https://colab.research.google.com/github/anselmo-pitombeira/Notebooks/blob/master/Problema_de_alocacao.ipynb\" target=\"_parent\"><img src=\"https://colab.research.google.com/assets/colab-badge.svg\" alt=\"Open In Colab\"/></a>"
      ]
    },
    {
      "cell_type": "code",
      "metadata": {
        "id": "7u1beqq6hvp3",
        "outputId": "c70b9c55-298a-466f-d2b6-9c08d934c55a",
        "colab": {
          "base_uri": "https://localhost:8080/"
        }
      },
      "source": [
        "## Instalação do pyomo e do solver para o colab ##\n",
        "!pip install -q pyomo\n",
        "!apt-get install -y -qq coinor-cbc"
      ],
      "execution_count": 1,
      "outputs": [
        {
          "output_type": "stream",
          "name": "stdout",
          "text": [
            "\u001b[2K     \u001b[90m━━━━━━━━━━━━━━━━━━━━━━━━━━━━━━━━━━━━━━━━\u001b[0m \u001b[32m12.7/12.7 MB\u001b[0m \u001b[31m21.9 MB/s\u001b[0m eta \u001b[36m0:00:00\u001b[0m\n",
            "\u001b[2K     \u001b[90m━━━━━━━━━━━━━━━━━━━━━━━━━━━━━━━━━━━━━━━━\u001b[0m \u001b[32m49.6/49.6 kB\u001b[0m \u001b[31m3.2 MB/s\u001b[0m eta \u001b[36m0:00:00\u001b[0m\n",
            "\u001b[?25hSelecting previously unselected package coinor-libcoinutils3v5:amd64.\n",
            "(Reading database ... 121753 files and directories currently installed.)\n",
            "Preparing to unpack .../0-coinor-libcoinutils3v5_2.11.4+repack1-2_amd64.deb ...\n",
            "Unpacking coinor-libcoinutils3v5:amd64 (2.11.4+repack1-2) ...\n",
            "Selecting previously unselected package coinor-libosi1v5:amd64.\n",
            "Preparing to unpack .../1-coinor-libosi1v5_0.108.6+repack1-2_amd64.deb ...\n",
            "Unpacking coinor-libosi1v5:amd64 (0.108.6+repack1-2) ...\n",
            "Selecting previously unselected package coinor-libclp1.\n",
            "Preparing to unpack .../2-coinor-libclp1_1.17.5+repack1-1_amd64.deb ...\n",
            "Unpacking coinor-libclp1 (1.17.5+repack1-1) ...\n",
            "Selecting previously unselected package coinor-libcgl1:amd64.\n",
            "Preparing to unpack .../3-coinor-libcgl1_0.60.3+repack1-3_amd64.deb ...\n",
            "Unpacking coinor-libcgl1:amd64 (0.60.3+repack1-3) ...\n",
            "Selecting previously unselected package coinor-libcbc3:amd64.\n",
            "Preparing to unpack .../4-coinor-libcbc3_2.10.7+ds1-1_amd64.deb ...\n",
            "Unpacking coinor-libcbc3:amd64 (2.10.7+ds1-1) ...\n",
            "Selecting previously unselected package coinor-cbc.\n",
            "Preparing to unpack .../5-coinor-cbc_2.10.7+ds1-1_amd64.deb ...\n",
            "Unpacking coinor-cbc (2.10.7+ds1-1) ...\n",
            "Setting up coinor-libcoinutils3v5:amd64 (2.11.4+repack1-2) ...\n",
            "Setting up coinor-libosi1v5:amd64 (0.108.6+repack1-2) ...\n",
            "Setting up coinor-libclp1 (1.17.5+repack1-1) ...\n",
            "Setting up coinor-libcgl1:amd64 (0.60.3+repack1-3) ...\n",
            "Setting up coinor-libcbc3:amd64 (2.10.7+ds1-1) ...\n",
            "Setting up coinor-cbc (2.10.7+ds1-1) ...\n",
            "Processing triggers for man-db (2.10.2-1) ...\n",
            "Processing triggers for libc-bin (2.35-0ubuntu3.4) ...\n",
            "/sbin/ldconfig.real: /usr/local/lib/libtbb.so.12 is not a symbolic link\n",
            "\n",
            "/sbin/ldconfig.real: /usr/local/lib/libtbbbind.so.3 is not a symbolic link\n",
            "\n",
            "/sbin/ldconfig.real: /usr/local/lib/libtbbbind_2_5.so.3 is not a symbolic link\n",
            "\n",
            "/sbin/ldconfig.real: /usr/local/lib/libtbbmalloc.so.2 is not a symbolic link\n",
            "\n",
            "/sbin/ldconfig.real: /usr/local/lib/libtbbbind_2_0.so.3 is not a symbolic link\n",
            "\n",
            "/sbin/ldconfig.real: /usr/local/lib/libtbbmalloc_proxy.so.2 is not a symbolic link\n",
            "\n"
          ]
        }
      ]
    },
    {
      "cell_type": "code",
      "source": [
        "## Importando a biblioteca pyomo ##\n",
        "import pyomo.environ as pyEnv\n",
        "import numpy as np"
      ],
      "metadata": {
        "id": "u0YW7dmLc_17"
      },
      "execution_count": 3,
      "outputs": []
    },
    {
      "cell_type": "code",
      "metadata": {
        "id": "9n8x7VBQiJTy"
      },
      "source": [
        "## Modelo matemático ##\n",
        "## Min x11 + 4x12 + 6x13 + 3x14 + 9x21 + 7x22 + 10x23 + 9x24 + 4x31 + 5x32 + 11x33 + 7x34 +8x41 + 7x42 + 8x43 + 5x44 ##\n",
        "##                               ##\n",
        "## S.a x11 + x12 + x13 + x14 = 1 ##\n",
        "##     x21 + x22 + x23 + x24 = 1 ##\n",
        "##     x31 + x32 + x33 + x34 = 1 ##\n",
        "##     x41 + x42 + x43 + x44 = 1 ##\n",
        "##                               ##\n",
        "##     x11 + x21 + x31 + x41 = 1 ##\n",
        "##     x12 + x22 + x32 + x42 = 1 ##\n",
        "##     x13 + x23 + x33 + x43 = 1 ##\n",
        "##     x14 + x24 + x34 + x44 = 1 ##\n",
        "\n",
        "## Dados do problema ##\n",
        "custos = np.array([[1, 4, 6, 3], [9, 7, 10, 9], [4, 5, 11, 7], [8, 7, 8, 5]])\n",
        "m = len(custos[0])\n",
        "n = len(custos[0])\n",
        "\n",
        "## Declarando o modelo através da biblioteca ##\n",
        "modelo = pyEnv.ConcreteModel()\n",
        "\n",
        "## Criando Indices ##\n",
        "modelo.Indices = list(range(n))\n",
        "\n",
        "## Criando as variáveis ##\n",
        "modelo.x = pyEnv.Var(modelo.Indices, modelo.Indices, within = pyEnv.Binary)\n",
        "\n",
        "## Criando a Função Objetivo ##\n",
        "def Objetivo(modelo):\n",
        "  return sum(modelo.x[i,j]*custos[i,j] for i in modelo.Indices for j in modelo.Indices)\n",
        "\n",
        "modelo.Objetivo = pyEnv.Objective(rule = Objetivo, sense = pyEnv.minimize)\n",
        "\n",
        "## Criando as restrições ##\n",
        "def rest1(modelo, i):\n",
        "  return sum(modelo.x[i,j] for j in modelo.Indices) == 1\n",
        "\n",
        "def rest2(modelo, j):\n",
        "  return sum(modelo.x[i,j] for i in modelo.Indices) == 1\n",
        "\n",
        "modelo.rest1 = pyEnv.Constraint(modelo.Indices, rule = rest1)\n",
        "modelo.rest2 = pyEnv.Constraint(modelo.Indices, rule = rest2)\n",
        "\n"
      ],
      "execution_count": 5,
      "outputs": []
    },
    {
      "cell_type": "code",
      "source": [
        "## Chamando o Solver ##\n",
        "solver = pyEnv.SolverFactory('cbc')\n",
        "result_objetivo = solver.solve(modelo, tee = True)"
      ],
      "metadata": {
        "id": "Fj4WoCd5UUH7",
        "outputId": "4078c392-35cc-4ce8-fb6f-1f257e6b9ab8",
        "colab": {
          "base_uri": "https://localhost:8080/"
        }
      },
      "execution_count": 6,
      "outputs": [
        {
          "output_type": "stream",
          "name": "stdout",
          "text": [
            "Welcome to the CBC MILP Solver \n",
            "Version: 2.10.7 \n",
            "Build Date: Feb 14 2022 \n",
            "\n",
            "command line - /usr/bin/cbc -printingOptions all -import /tmp/tmpfakcd715.pyomo.lp -stat=1 -solve -solu /tmp/tmpfakcd715.pyomo.soln (default strategy 1)\n",
            "Option for printingOptions changed from normal to all\n",
            "Presolve 8 (0) rows, 16 (0) columns and 32 (0) elements\n",
            "Statistics for presolved model\n",
            "Original problem has 16 integers (16 of which binary)\n",
            "==== 0 zero objective 10 different\n",
            "1 variables have objective of 1\n",
            "1 variables have objective of 3\n",
            "2 variables have objective of 4\n",
            "2 variables have objective of 5\n",
            "1 variables have objective of 6\n",
            "3 variables have objective of 7\n",
            "2 variables have objective of 8\n",
            "2 variables have objective of 9\n",
            "1 variables have objective of 10\n",
            "1 variables have objective of 11\n",
            "==== absolute objective values 10 different\n",
            "1 variables have objective of 1\n",
            "1 variables have objective of 3\n",
            "2 variables have objective of 4\n",
            "2 variables have objective of 5\n",
            "1 variables have objective of 6\n",
            "3 variables have objective of 7\n",
            "2 variables have objective of 8\n",
            "2 variables have objective of 9\n",
            "1 variables have objective of 10\n",
            "1 variables have objective of 11\n",
            "==== for integers 0 zero objective 10 different\n",
            "1 variables have objective of 1\n",
            "1 variables have objective of 3\n",
            "2 variables have objective of 4\n",
            "2 variables have objective of 5\n",
            "1 variables have objective of 6\n",
            "3 variables have objective of 7\n",
            "2 variables have objective of 8\n",
            "2 variables have objective of 9\n",
            "1 variables have objective of 10\n",
            "1 variables have objective of 11\n",
            "==== for integers absolute objective values 10 different\n",
            "1 variables have objective of 1\n",
            "1 variables have objective of 3\n",
            "2 variables have objective of 4\n",
            "2 variables have objective of 5\n",
            "1 variables have objective of 6\n",
            "3 variables have objective of 7\n",
            "2 variables have objective of 8\n",
            "2 variables have objective of 9\n",
            "1 variables have objective of 10\n",
            "1 variables have objective of 11\n",
            "===== end objective counts\n",
            "\n",
            "\n",
            "Problem has 8 rows, 16 columns (16 with objective) and 32 elements\n",
            "Column breakdown:\n",
            "0 of type 0.0->inf, 0 of type 0.0->up, 0 of type lo->inf, \n",
            "0 of type lo->up, 0 of type free, 0 of type fixed, \n",
            "0 of type -inf->0.0, 0 of type -inf->up, 16 of type 0.0->1.0 \n",
            "Row breakdown:\n",
            "0 of type E 0.0, 8 of type E 1.0, 0 of type E -1.0, \n",
            "0 of type E other, 0 of type G 0.0, 0 of type G 1.0, \n",
            "0 of type G other, 0 of type L 0.0, 0 of type L 1.0, \n",
            "0 of type L other, 0 of type Range 0.0->1.0, 0 of type Range other, \n",
            "0 of type Free \n",
            "Continuous objective value is 21 - 0.00 seconds\n",
            "Cgl0004I processed model has 8 rows, 16 columns (16 integer (16 of which binary)) and 32 elements\n",
            "Cutoff increment increased from 1e-05 to 0.9999\n",
            "Cbc0038I Initial state - 0 integers unsatisfied sum - 0\n",
            "Cbc0038I Solution found of 21\n",
            "Cbc0038I Before mini branch and bound, 16 integers at bound fixed and 0 continuous\n",
            "Cbc0038I Mini branch and bound did not improve solution (0.00 seconds)\n",
            "Cbc0038I After 0.00 seconds - Feasibility pump exiting with objective of 21 - took 0.00 seconds\n",
            "Cbc0012I Integer solution of 21 found by feasibility pump after 0 iterations and 0 nodes (0.00 seconds)\n",
            "Cbc0001I Search completed - best objective 21, took 0 iterations and 0 nodes (0.00 seconds)\n",
            "Cbc0035I Maximum depth 0, 0 variables fixed on reduced cost\n",
            "Cuts at root node changed objective from 21 to 21\n",
            "Probing was tried 0 times and created 0 cuts of which 0 were active after adding rounds of cuts (0.000 seconds)\n",
            "Gomory was tried 0 times and created 0 cuts of which 0 were active after adding rounds of cuts (0.000 seconds)\n",
            "Knapsack was tried 0 times and created 0 cuts of which 0 were active after adding rounds of cuts (0.000 seconds)\n",
            "Clique was tried 0 times and created 0 cuts of which 0 were active after adding rounds of cuts (0.000 seconds)\n",
            "MixedIntegerRounding2 was tried 0 times and created 0 cuts of which 0 were active after adding rounds of cuts (0.000 seconds)\n",
            "FlowCover was tried 0 times and created 0 cuts of which 0 were active after adding rounds of cuts (0.000 seconds)\n",
            "TwoMirCuts was tried 0 times and created 0 cuts of which 0 were active after adding rounds of cuts (0.000 seconds)\n",
            "ZeroHalf was tried 0 times and created 0 cuts of which 0 were active after adding rounds of cuts (0.000 seconds)\n",
            "\n",
            "Result - Optimal solution found\n",
            "\n",
            "Objective value:                21.00000000\n",
            "Enumerated nodes:               0\n",
            "Total iterations:               0\n",
            "Time (CPU seconds):             0.00\n",
            "Time (Wallclock seconds):       0.01\n",
            "\n",
            "Total time (CPU seconds):       0.00   (Wallclock seconds):       0.01\n",
            "\n"
          ]
        }
      ]
    },
    {
      "cell_type": "code",
      "source": [
        "## Printando o resultado ##\n",
        "lista = list(modelo.x.keys())\n",
        "print(\"Alocação ótima:\\n\")\n",
        "for i in lista:\n",
        "  if modelo.x[i]() != 0:\n",
        "    print(i, '---', modelo.x[i]())\n",
        "print()\n",
        "print('Valor da função objetivo (custo mínimo) =', modelo.Objetivo())"
      ],
      "metadata": {
        "id": "ujnmOYpfUZKT",
        "outputId": "53c28df5-affe-4eaa-f733-c0acb0b6cf20",
        "colab": {
          "base_uri": "https://localhost:8080/"
        }
      },
      "execution_count": 7,
      "outputs": [
        {
          "output_type": "stream",
          "name": "stdout",
          "text": [
            "Alocação ótima:\n",
            "\n",
            "(0, 0) --- 1.0\n",
            "(1, 2) --- 1.0\n",
            "(2, 1) --- 1.0\n",
            "(3, 3) --- 1.0\n",
            "\n",
            "Valor da função objetivo (custo mínimo) = 21.0\n"
          ]
        }
      ]
    }
  ]
}