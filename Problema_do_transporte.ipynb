{
  "nbformat": 4,
  "nbformat_minor": 0,
  "metadata": {
    "colab": {
      "name": "Problema do transporte.ipynb",
      "provenance": [],
      "collapsed_sections": [],
      "include_colab_link": true
    },
    "kernelspec": {
      "name": "python3",
      "display_name": "Python 3"
    }
  },
  "cells": [
    {
      "cell_type": "markdown",
      "metadata": {
        "id": "view-in-github",
        "colab_type": "text"
      },
      "source": [
        "<a href=\"https://colab.research.google.com/github/anselmo-pitombeira/Notebooks/blob/master/Problema_do_transporte.ipynb\" target=\"_parent\"><img src=\"https://colab.research.google.com/assets/colab-badge.svg\" alt=\"Open In Colab\"/></a>"
      ]
    },
    {
      "cell_type": "code",
      "metadata": {
        "id": "Uv-KsvoT5gei",
        "outputId": "792059c8-819e-4090-8413-43d4fc6dc5bb",
        "colab": {
          "base_uri": "https://localhost:8080/"
        }
      },
      "source": [
        "## Instalação do pyomo e do solver para o colab ##\n",
        "!pip install -q pyomo\n",
        "!apt-get install -y -qq coinor-cbc"
      ],
      "execution_count": 1,
      "outputs": [
        {
          "output_type": "stream",
          "name": "stdout",
          "text": [
            "\u001b[K     |████████████████████████████████| 9.7 MB 4.1 MB/s \n",
            "\u001b[K     |████████████████████████████████| 49 kB 5.9 MB/s \n",
            "\u001b[?25hSelecting previously unselected package coinor-libcoinutils3v5.\n",
            "(Reading database ... 155676 files and directories currently installed.)\n",
            "Preparing to unpack .../0-coinor-libcoinutils3v5_2.10.14+repack1-1_amd64.deb ...\n",
            "Unpacking coinor-libcoinutils3v5 (2.10.14+repack1-1) ...\n",
            "Selecting previously unselected package coinor-libosi1v5.\n",
            "Preparing to unpack .../1-coinor-libosi1v5_0.107.9+repack1-1_amd64.deb ...\n",
            "Unpacking coinor-libosi1v5 (0.107.9+repack1-1) ...\n",
            "Selecting previously unselected package coinor-libclp1.\n",
            "Preparing to unpack .../2-coinor-libclp1_1.16.11+repack1-1_amd64.deb ...\n",
            "Unpacking coinor-libclp1 (1.16.11+repack1-1) ...\n",
            "Selecting previously unselected package coinor-libcgl1.\n",
            "Preparing to unpack .../3-coinor-libcgl1_0.59.10+repack1-1_amd64.deb ...\n",
            "Unpacking coinor-libcgl1 (0.59.10+repack1-1) ...\n",
            "Selecting previously unselected package coinor-libcbc3.\n",
            "Preparing to unpack .../4-coinor-libcbc3_2.9.9+repack1-1_amd64.deb ...\n",
            "Unpacking coinor-libcbc3 (2.9.9+repack1-1) ...\n",
            "Selecting previously unselected package coinor-cbc.\n",
            "Preparing to unpack .../5-coinor-cbc_2.9.9+repack1-1_amd64.deb ...\n",
            "Unpacking coinor-cbc (2.9.9+repack1-1) ...\n",
            "Setting up coinor-libcoinutils3v5 (2.10.14+repack1-1) ...\n",
            "Setting up coinor-libosi1v5 (0.107.9+repack1-1) ...\n",
            "Setting up coinor-libclp1 (1.16.11+repack1-1) ...\n",
            "Setting up coinor-libcgl1 (0.59.10+repack1-1) ...\n",
            "Setting up coinor-libcbc3 (2.9.9+repack1-1) ...\n",
            "Setting up coinor-cbc (2.9.9+repack1-1) ...\n",
            "Processing triggers for man-db (2.8.3-2ubuntu0.1) ...\n",
            "Processing triggers for libc-bin (2.27-3ubuntu1.5) ...\n"
          ]
        }
      ]
    },
    {
      "cell_type": "code",
      "metadata": {
        "id": "XxWk7ADx5iYe"
      },
      "source": [
        "## Modelo matemático ##\n",
        "## Min 162x11 + 247x12 + 117x21 + 193x22 + 131x31 + 185x32 ##\n",
        "## S.a x11 + x12 = 1000 ##\n",
        "##     x21 + x22 = 1500 ##\n",
        "##     x31 + x32 = 1200 ##\n",
        "##     x11 + x21 + x31 = 2300 ##\n",
        "##     x12 + x22 + x32 = 1400 ##\n",
        "\n",
        "## Caso a implementação esteja sendo feita por uma IDE: ##\n",
        "## Abra o Anaconda Prompt e insira as seguintes chamadas: ##\n",
        "## conda install -c conda-forge pyomo ##\n",
        "## conda install -c conda-forge glpk ##\n",
        "\n",
        "\n",
        "## Importando a biblioteca pyomo ##\n",
        "import pyomo.environ as pyEnv\n",
        "\n",
        "## Dados do problema ##\n",
        "custos_ij = [[162, 247], [117, 193], [131, 185]]\n",
        "suprimentos = [1000, 1500, 1200]\n",
        "demandas = [2300, 1400]\n",
        "\n",
        "m = len(suprimentos)\n",
        "n = len(demandas)\n",
        "\n",
        "## Declarando o modelo através da biblioteca ##\n",
        "modelo = pyEnv.ConcreteModel()\n",
        "\n",
        "## Criando Indices ##\n",
        "modelo.Indices_fabricas = pyEnv.RangeSet(m)\n",
        "modelo.Indices_clientes = pyEnv.RangeSet(n)\n",
        "\n",
        "## Criando as variáveis ##\n",
        "modelo.x = pyEnv.Var(modelo.Indices_fabricas, modelo.Indices_clientes, within = pyEnv.NonNegativeReals)\n",
        "\n",
        "modelo.Custo_transporte = pyEnv.Param(modelo.Indices_fabricas, modelo.Indices_clientes, initialize = lambda modelo, i, j: custos_ij[i-1][j-1])\n",
        "modelo.Suprimentos = pyEnv.Param(modelo.Indices_fabricas, initialize = lambda modelo, i: suprimentos[i-1])\n",
        "modelo.Demandas = pyEnv.Param(modelo.Indices_clientes, initialize = lambda modelo, j: demandas[j-1])\n",
        "\n",
        "## Criando a Função Objetivo ##\n",
        "modelo.Objetivo = pyEnv.Objective(expr = sum(modelo.x[i,j] * modelo.Custo_transporte[i,j] for i in modelo.Indices_fabricas for j in modelo.Indices_clientes), sense = pyEnv.minimize)\n",
        "\n",
        "## Criando as restrições ##\n",
        "def rest1(modelo, i):\n",
        "  return sum(modelo.x[i,j] for j in modelo.Indices_clientes) == modelo.Suprimentos[i]\n",
        "\n",
        "def rest2(modelo, j):\n",
        "  return sum(modelo.x[i,j] for i in modelo.Indices_fabricas) == modelo.Demandas[j]\n",
        "\n",
        "modelo.rest1 = pyEnv.Constraint(modelo.Indices_fabricas, rule = rest1)\n",
        "modelo.rest2 = pyEnv.Constraint(modelo.Indices_clientes, rule = rest2)\n"
      ],
      "execution_count": 2,
      "outputs": []
    },
    {
      "cell_type": "code",
      "source": [
        "## Chamando o Solver Coin-OR CBC##\n",
        "solver = pyEnv.SolverFactory('cbc')\n",
        "result_objetivo = solver.solve(modelo, tee = True)   ##tee = True manda imprimir o log do solver"
      ],
      "metadata": {
        "id": "WcomjKNHkR8X",
        "outputId": "d2dccdaa-6e4e-4971-ca43-5724dcabdfbb",
        "colab": {
          "base_uri": "https://localhost:8080/"
        }
      },
      "execution_count": 3,
      "outputs": [
        {
          "output_type": "stream",
          "name": "stdout",
          "text": [
            "Welcome to the CBC MILP Solver \n",
            "Version: 2.9.9 \n",
            "Build Date: Aug 21 2017 \n",
            "\n",
            "command line - /usr/bin/cbc -printingOptions all -import /tmp/tmpfy6o24zc.pyomo.lp -stat=1 -solve -solu /tmp/tmpfy6o24zc.pyomo.soln (default strategy 1)\n",
            "Option for printingOptions changed from normal to all\n",
            "Presolve 2 (-4) rows, 3 (-4) columns and 6 (-7) elements\n",
            "Statistics for presolved model\n",
            "\n",
            "\n",
            "Problem has 2 rows, 3 columns (3 with objective) and 6 elements\n",
            "Column breakdown:\n",
            "0 of type 0.0->inf, 3 of type 0.0->up, 0 of type lo->inf, \n",
            "0 of type lo->up, 0 of type free, 0 of type fixed, \n",
            "0 of type -inf->0.0, 0 of type -inf->up, 0 of type 0.0->1.0 \n",
            "Row breakdown:\n",
            "0 of type E 0.0, 0 of type E 1.0, 0 of type E -1.0, \n",
            "2 of type E other, 0 of type G 0.0, 0 of type G 1.0, \n",
            "0 of type G other, 0 of type L 0.0, 0 of type L 1.0, \n",
            "0 of type L other, 0 of type Range 0.0->1.0, 0 of type Range other, \n",
            "0 of type Free \n",
            "Presolve 2 (-4) rows, 3 (-4) columns and 6 (-7) elements\n",
            "0  Obj 750907.6 Primal inf 4400.2001 (2) Dual inf 215 (3)\n",
            "1  Obj 574700\n",
            "Optimal - objective value 574700\n",
            "After Postsolve, objective 574700, infeasibilities - dual 0 (0), primal 0 (0)\n",
            "Optimal objective 574700 - 1 iterations time 0.002, Presolve 0.00\n",
            "Total time (CPU seconds):       0.00   (Wallclock seconds):       0.00\n",
            "\n"
          ]
        }
      ]
    },
    {
      "cell_type": "code",
      "source": [
        "## Printando o resultado ##\n",
        "print(\"Quantidades a transportar:\")\n",
        "lista = list(modelo.x.keys())\n",
        "\n",
        "print()\n",
        "for i in lista:\n",
        "  if modelo.x[i]() != 0:\n",
        "    print(i, '---', modelo.x[i]())\n",
        "print()\n",
        "print('Valor da função objetivo (custo mínimo) =', modelo.Objetivo())"
      ],
      "metadata": {
        "id": "sgRy27ZUkWQP",
        "outputId": "ebdc9b14-9ce6-4e02-cef7-10afa9244d7c",
        "colab": {
          "base_uri": "https://localhost:8080/"
        }
      },
      "execution_count": 4,
      "outputs": [
        {
          "output_type": "stream",
          "name": "stdout",
          "text": [
            "Quantidades a transportar:\n",
            "\n",
            "(1, 1) --- 1000.0\n",
            "(2, 1) --- 1300.0\n",
            "(2, 2) --- 200.0\n",
            "(3, 2) --- 1200.0\n",
            "\n",
            "Valor da função objetivo (custo mínimo) = 574700.0\n"
          ]
        }
      ]
    }
  ]
}