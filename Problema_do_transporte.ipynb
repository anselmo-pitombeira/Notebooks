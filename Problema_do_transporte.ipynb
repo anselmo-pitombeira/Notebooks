{
  "nbformat": 4,
  "nbformat_minor": 0,
  "metadata": {
    "colab": {
      "name": "Problema do transporte.ipynb",
      "provenance": [],
      "collapsed_sections": [],
      "include_colab_link": true
    },
    "kernelspec": {
      "name": "python3",
      "display_name": "Python 3"
    }
  },
  "cells": [
    {
      "cell_type": "markdown",
      "metadata": {
        "id": "view-in-github",
        "colab_type": "text"
      },
      "source": [
        "<a href=\"https://colab.research.google.com/github/anselmo-pitombeira/Notebooks/blob/master/Problema_do_transporte.ipynb\" target=\"_parent\"><img src=\"https://colab.research.google.com/assets/colab-badge.svg\" alt=\"Open In Colab\"/></a>"
      ]
    },
    {
      "cell_type": "code",
      "metadata": {
        "id": "Uv-KsvoT5gei",
        "colab_type": "code",
        "colab": {}
      },
      "source": [
        "## Instalação do pyomo e do solver para o colab ##\n",
        "!pip install -q pyomo\n",
        "!apt-get install -y -qq glpk-utils"
      ],
      "execution_count": null,
      "outputs": []
    },
    {
      "cell_type": "code",
      "metadata": {
        "id": "XxWk7ADx5iYe",
        "colab_type": "code",
        "colab": {}
      },
      "source": [
        "## Modelo matemático ##\n",
        "## Min 162x11 + 247x12 + 117x21 + 193x22 + 131x31 + 185x32 ##\n",
        "## S.a x11 + x12 ≤ 1000 ##\n",
        "##     x21 + x22 ≤ 1500 ##\n",
        "##     x31 + x32 ≤ 1200 ##\n",
        "##     x11 + x21 + x31 ≥ 2300 ##\n",
        "##     x12 + x22 + x32 ≥ 1400 ##\n",
        "\n",
        "## Caso a implementação esteja sendo feita por uma IDE: ##\n",
        "## Abra o Anaconda Prompt e insira as seguintes chamadas: ##\n",
        "## conda install -c conda-forge pyomo ##\n",
        "## conda install -c conda-forge glpk ##\n",
        "\n",
        "\n",
        "## Importando a biblioteca pyomo ##\n",
        "import pyomo.environ as pyEnv\n",
        "\n",
        "## Dados do problema ##\n",
        "custos_ij = [[162, 247], [117, 193], [131, 185]]\n",
        "suprimentos = [1000, 1500, 1200]\n",
        "demandas = [2300, 1400]\n",
        "\n",
        "m = len(suprimentos)\n",
        "n = len(demandas)\n",
        "\n",
        "## Declarando o modelo através da biblioteca ##\n",
        "modelo = pyEnv.ConcreteModel()\n",
        "\n",
        "## Criando Indices ##\n",
        "modelo.Indices_fabricas = pyEnv.RangeSet(m)\n",
        "modelo.Indices_clientes = pyEnv.RangeSet(n)\n",
        "\n",
        "## Criando as variáveis ##\n",
        "modelo.Variaveis = pyEnv.Var(modelo.Indices_fabricas, modelo.Indices_clientes, within = pyEnv.NonNegativeReals)\n",
        "\n",
        "modelo.Custo_transporte = pyEnv.Param(modelo.Indices_fabricas, modelo.Indices_clientes, initialize = lambda modelo, i, j: custos_ij[i-1][j-1])\n",
        "modelo.Suprimentos = pyEnv.Param(modelo.Indices_fabricas, initialize = lambda modelo, i: suprimentos[i-1])\n",
        "modelo.Demandas = pyEnv.Param(modelo.Indices_clientes, initialize = lambda modelo, j: demandas[j-1])\n",
        "\n",
        "## Criando a Função Objetivo ##\n",
        "modelo.Objetivo = pyEnv.Objective(expr = sum(modelo.Variaveis[i,j] * modelo.Custo_transporte[i,j] for i in modelo.Indices_fabricas for j in modelo.Indices_clientes), sense = pyEnv.minimize)\n",
        "\n",
        "## Criando as restrições ##\n",
        "def rest1(modelo, i):\n",
        "  return sum(modelo.Variaveis[i,j] for j in modelo.Indices_clientes) <= modelo.Suprimentos[i]\n",
        "\n",
        "def rest2(modelo, j):\n",
        "  return sum(modelo.Variaveis[i,j] for i in modelo.Indices_fabricas) >= modelo.Demandas[j]\n",
        "\n",
        "modelo.rest1 = pyEnv.Constraint(modelo.Indices_fabricas, rule = rest1)\n",
        "modelo.rest2 = pyEnv.Constraint(modelo.Indices_clientes, rule = rest2)\n",
        "\n",
        "## Chamando o Solver ##\n",
        "solver = pyEnv.SolverFactory('glpk', executable = '/usr/bin/glpsol')\n",
        "result_objetivo = solver.solve(modelo, tee = True)\n",
        "\n",
        "## Printando o resultado ##\n",
        "lista = list(modelo.Variaveis.keys())\n",
        "print()\n",
        "print()\n",
        "print()\n",
        "modelo.Objetivo()\n",
        "print(result_objetivo)\n",
        "print()\n",
        "for i in lista:\n",
        "  if modelo.Variaveis[i]() != 0:\n",
        "    print(i, '---', modelo.Variaveis[i]())\n",
        "print()\n",
        "print('Valor da função objetivo =', modelo.Objetivo())"
      ],
      "execution_count": null,
      "outputs": []
    }
  ]
}