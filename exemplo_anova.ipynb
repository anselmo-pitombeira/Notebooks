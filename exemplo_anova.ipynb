{
  "nbformat": 4,
  "nbformat_minor": 0,
  "metadata": {
    "colab": {
      "name": "exemplo_anova.ipynb",
      "provenance": [],
      "collapsed_sections": [],
      "authorship_tag": "ABX9TyOr4pfwphQQZJ7h+I232Bks",
      "include_colab_link": true
    },
    "kernelspec": {
      "name": "python3",
      "display_name": "Python 3"
    },
    "language_info": {
      "name": "python"
    }
  },
  "cells": [
    {
      "cell_type": "markdown",
      "metadata": {
        "id": "view-in-github",
        "colab_type": "text"
      },
      "source": [
        "<a href=\"https://colab.research.google.com/github/anselmo-pitombeira/Notebooks/blob/master/exemplo_anova.ipynb\" target=\"_parent\"><img src=\"https://colab.research.google.com/assets/colab-badge.svg\" alt=\"Open In Colab\"/></a>"
      ]
    },
    {
      "cell_type": "markdown",
      "metadata": {
        "id": "vRfjSCqa8DsA"
      },
      "source": [
        "## Exemplo de aplicação da Análise de Variância. (Montgomery, Cap.13)\n",
        "\n",
        "Um fabricante de papel utilizado na produção de sacolas de supermercado está interessado em aumentar a resistência à tração das sacolas. O setor de engenharia acredita que a resistência à tração é função da concentração de madeira de lei na polpa utilizada para a fabricação das sacolas.\n",
        "\n",
        "Um time de engenheiros decide então investigar 4 níveis de concentração de madeira: 5%, 10%, 15% e 20%. Para cada nível de concentração,eles produziram 6 espécimes, totalizando 24 espécimes que terão sua resistência à tração testada em laboratório em ordem aleatória.\n"
      ]
    },
    {
      "cell_type": "code",
      "metadata": {
        "colab": {
          "base_uri": "https://localhost:8080/"
        },
        "id": "k-cE8Ww56UsP",
        "outputId": "c77cddcd-e226-4838-c8fc-584a8d128f3e"
      },
      "source": [
        "import pandas as pd\n",
        "import statsmodels.api as sm\n",
        "from statsmodels.formula.api import ols"
      ],
      "execution_count": 1,
      "outputs": [
        {
          "output_type": "stream",
          "text": [
            "/usr/local/lib/python3.7/dist-packages/statsmodels/tools/_testing.py:19: FutureWarning: pandas.util.testing is deprecated. Use the functions in the public API at pandas.testing instead.\n",
            "  import pandas.util.testing as tm\n"
          ],
          "name": "stderr"
        }
      ]
    },
    {
      "cell_type": "markdown",
      "metadata": {
        "id": "ktyZdWfK9RIQ"
      },
      "source": [
        "Leitura de dados:"
      ]
    },
    {
      "cell_type": "code",
      "metadata": {
        "colab": {
          "base_uri": "https://localhost:8080/"
        },
        "id": "t87iyamZ9UIA",
        "outputId": "7b79ce42-c0aa-46d5-d347-3a8c17c9e20c"
      },
      "source": [
        "dados = pd.read_excel('Dados_Exemplo_ANOVA.xlsx')\n",
        "print(dados)"
      ],
      "execution_count": 3,
      "outputs": [
        {
          "output_type": "stream",
          "text": [
            "   Concentracao  Resistencia\n",
            "0             A            7\n",
            "1             A            8\n",
            "2             A           15\n",
            "3             A           11\n",
            "4             A            9\n",
            "5             A           10\n",
            "6             B           12\n",
            "7             B           17\n",
            "8             B           13\n",
            "9             B           18\n",
            "10            B           19\n",
            "11            B           15\n",
            "12            C           14\n",
            "13            C           18\n",
            "14            C           19\n",
            "15            C           17\n",
            "16            C           16\n",
            "17            C           18\n",
            "18            D           19\n",
            "19            D           25\n",
            "20            D           22\n",
            "21            D           23\n",
            "22            D           18\n",
            "23            D           20\n"
          ],
          "name": "stdout"
        }
      ]
    },
    {
      "cell_type": "markdown",
      "metadata": {
        "id": "_6zV5gn1A4bv"
      },
      "source": [
        "Estatísticas descritivas:"
      ]
    },
    {
      "cell_type": "code",
      "metadata": {
        "colab": {
          "base_uri": "https://localhost:8080/",
          "height": 237
        },
        "id": "DQNbumA8A7_4",
        "outputId": "2a31bc11-d099-4cc3-f7dc-820af74d390b"
      },
      "source": [
        "dados.groupby(\"Concentracao\").describe()"
      ],
      "execution_count": 14,
      "outputs": [
        {
          "output_type": "execute_result",
          "data": {
            "text/html": [
              "<div>\n",
              "<style scoped>\n",
              "    .dataframe tbody tr th:only-of-type {\n",
              "        vertical-align: middle;\n",
              "    }\n",
              "\n",
              "    .dataframe tbody tr th {\n",
              "        vertical-align: top;\n",
              "    }\n",
              "\n",
              "    .dataframe thead tr th {\n",
              "        text-align: left;\n",
              "    }\n",
              "\n",
              "    .dataframe thead tr:last-of-type th {\n",
              "        text-align: right;\n",
              "    }\n",
              "</style>\n",
              "<table border=\"1\" class=\"dataframe\">\n",
              "  <thead>\n",
              "    <tr>\n",
              "      <th></th>\n",
              "      <th colspan=\"8\" halign=\"left\">Resistencia</th>\n",
              "    </tr>\n",
              "    <tr>\n",
              "      <th></th>\n",
              "      <th>count</th>\n",
              "      <th>mean</th>\n",
              "      <th>std</th>\n",
              "      <th>min</th>\n",
              "      <th>25%</th>\n",
              "      <th>50%</th>\n",
              "      <th>75%</th>\n",
              "      <th>max</th>\n",
              "    </tr>\n",
              "    <tr>\n",
              "      <th>Concentracao</th>\n",
              "      <th></th>\n",
              "      <th></th>\n",
              "      <th></th>\n",
              "      <th></th>\n",
              "      <th></th>\n",
              "      <th></th>\n",
              "      <th></th>\n",
              "      <th></th>\n",
              "    </tr>\n",
              "  </thead>\n",
              "  <tbody>\n",
              "    <tr>\n",
              "      <th>A</th>\n",
              "      <td>6.0</td>\n",
              "      <td>10.000000</td>\n",
              "      <td>2.828427</td>\n",
              "      <td>7.0</td>\n",
              "      <td>8.25</td>\n",
              "      <td>9.5</td>\n",
              "      <td>10.75</td>\n",
              "      <td>15.0</td>\n",
              "    </tr>\n",
              "    <tr>\n",
              "      <th>B</th>\n",
              "      <td>6.0</td>\n",
              "      <td>15.666667</td>\n",
              "      <td>2.804758</td>\n",
              "      <td>12.0</td>\n",
              "      <td>13.50</td>\n",
              "      <td>16.0</td>\n",
              "      <td>17.75</td>\n",
              "      <td>19.0</td>\n",
              "    </tr>\n",
              "    <tr>\n",
              "      <th>C</th>\n",
              "      <td>6.0</td>\n",
              "      <td>17.000000</td>\n",
              "      <td>1.788854</td>\n",
              "      <td>14.0</td>\n",
              "      <td>16.25</td>\n",
              "      <td>17.5</td>\n",
              "      <td>18.00</td>\n",
              "      <td>19.0</td>\n",
              "    </tr>\n",
              "    <tr>\n",
              "      <th>D</th>\n",
              "      <td>6.0</td>\n",
              "      <td>21.166667</td>\n",
              "      <td>2.639444</td>\n",
              "      <td>18.0</td>\n",
              "      <td>19.25</td>\n",
              "      <td>21.0</td>\n",
              "      <td>22.75</td>\n",
              "      <td>25.0</td>\n",
              "    </tr>\n",
              "  </tbody>\n",
              "</table>\n",
              "</div>"
            ],
            "text/plain": [
              "             Resistencia                                                     \n",
              "                   count       mean       std   min    25%   50%    75%   max\n",
              "Concentracao                                                                 \n",
              "A                    6.0  10.000000  2.828427   7.0   8.25   9.5  10.75  15.0\n",
              "B                    6.0  15.666667  2.804758  12.0  13.50  16.0  17.75  19.0\n",
              "C                    6.0  17.000000  1.788854  14.0  16.25  17.5  18.00  19.0\n",
              "D                    6.0  21.166667  2.639444  18.0  19.25  21.0  22.75  25.0"
            ]
          },
          "metadata": {
            "tags": []
          },
          "execution_count": 14
        }
      ]
    },
    {
      "cell_type": "markdown",
      "metadata": {
        "id": "L7WvapEvAhGV"
      },
      "source": [
        "Visualizando um boxplot agrupado por concentração."
      ]
    },
    {
      "cell_type": "code",
      "metadata": {
        "colab": {
          "base_uri": "https://localhost:8080/",
          "height": 319
        },
        "id": "izF0A3Sd_2mb",
        "outputId": "1c91e3da-fff8-47ae-d5c8-b591cbb8fc60"
      },
      "source": [
        "dados.boxplot(by=\"Concentracao\")"
      ],
      "execution_count": 9,
      "outputs": [
        {
          "output_type": "execute_result",
          "data": {
            "text/plain": [
              "<matplotlib.axes._subplots.AxesSubplot at 0x7fd379d93b90>"
            ]
          },
          "metadata": {
            "tags": []
          },
          "execution_count": 9
        },
        {
          "output_type": "display_data",
          "data": {
            "image/png": "[encoded data removed]",
            "text/plain": [
              "<Figure size 432x288 with 1 Axes>"
            ]
          },
          "metadata": {
            "tags": [],
            "needs_background": "light"
          }
        }
      ]
    },
    {
      "cell_type": "markdown",
      "metadata": {
        "id": "eBAfeHNS9tBX"
      },
      "source": [
        "Construção do modelo linear. Note o uso do objeto *ols* que criará o modelo Resistência = f(Concentração). O uso da letra C indica que a concentração é uma variável categórica."
      ]
    },
    {
      "cell_type": "code",
      "metadata": {
        "id": "GlNbxAXm-DQR"
      },
      "source": [
        "modelo = ols(\"Resistencia ~ C(Concentracao)\", data=dados)"
      ],
      "execution_count": 4,
      "outputs": []
    },
    {
      "cell_type": "markdown",
      "metadata": {
        "id": "o2rSGopD-TUJ"
      },
      "source": [
        "Ajuste do modelo:"
      ]
    },
    {
      "cell_type": "code",
      "metadata": {
        "id": "06KSrZW1-VBH"
      },
      "source": [
        "resultados = modelo.fit()"
      ],
      "execution_count": 5,
      "outputs": []
    },
    {
      "cell_type": "markdown",
      "metadata": {
        "id": "YXVI_e5U-XkG"
      },
      "source": [
        "Criação da tabela ANOVA:"
      ]
    },
    {
      "cell_type": "code",
      "metadata": {
        "colab": {
          "base_uri": "https://localhost:8080/"
        },
        "id": "wropxzkx-bv8",
        "outputId": "789536da-c8ea-4b94-db3e-1b09a2184715"
      },
      "source": [
        "tabela = sm.stats.anova_lm(resultados)\n",
        "print(tabela)"
      ],
      "execution_count": 6,
      "outputs": [
        {
          "output_type": "stream",
          "text": [
            "                   df      sum_sq     mean_sq          F    PR(>F)\n",
            "C(Concentracao)   3.0  382.791667  127.597222  19.605207  0.000004\n",
            "Residual         20.0  130.166667    6.508333        NaN       NaN\n"
          ],
          "name": "stdout"
        }
      ]
    },
    {
      "cell_type": "markdown",
      "metadata": {
        "id": "YMqy3FE5-nOf"
      },
      "source": [
        "Note que a estatística F = 19.6, com valor-p igual a 0.000004, ou seja rejeita a hipótese nula aos níveis de significância 5% ou 1% (de fato, em qualquer nível maior que o valor-p)."
      ]
    },
    {
      "cell_type": "code",
      "metadata": {
        "id": "M2gAzpZ7DWDv"
      },
      "source": [
        ""
      ],
      "execution_count": null,
      "outputs": []
    }
  ]
}