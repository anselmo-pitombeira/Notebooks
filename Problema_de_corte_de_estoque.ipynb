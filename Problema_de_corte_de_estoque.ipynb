{
  "nbformat": 4,
  "nbformat_minor": 0,
  "metadata": {
    "colab": {
      "name": "Problema de corte de estoque.ipynb",
      "provenance": [],
      "authorship_tag": "ABX9TyOmrs2uSVgH+20ytsXhfUJC",
      "include_colab_link": true
    },
    "kernelspec": {
      "name": "python3",
      "display_name": "Python 3"
    }
  },
  "cells": [
    {
      "cell_type": "markdown",
      "metadata": {
        "id": "view-in-github",
        "colab_type": "text"
      },
      "source": [
        "<a href=\"https://colab.research.google.com/github/anselmo-pitombeira/Notebooks/blob/master/Problema_de_corte_de_estoque.ipynb\" target=\"_parent\"><img src=\"https://colab.research.google.com/assets/colab-badge.svg\" alt=\"Open In Colab\"/></a>"
      ]
    },
    {
      "cell_type": "markdown",
      "metadata": {
        "id": "qQfpgbPC50m0"
      },
      "source": [
        "# Problema de corte de estoque\n",
        "\n",
        "Neste notebook, implementamos um modelo de programação linear para o clássico problema de corte de estoque unidimensional, dado a seguir:\n",
        "\n",
        "\\begin{align}\n",
        "\\min \\quad z & = x_1+x_2+x_3+x_3+x_4+x_5 \\\\\n",
        "\\text{s.a.} &\\\\\n",
        "& x_1+2x_3+x_4 \\geq 10\\\\\n",
        "& x_1+2x_3+x_4 \\geq 12\\\\\n",
        "& x_1+x_2 \\geq 15\\\\\n",
        "& 2x_2+x_4+2x_5 \\geq 31\\\\\n",
        "& x_3+x_5 \\geq 17 \\\\\n",
        "& x_1, x_2, x_3, x_4, x_5 \\geq 0\n",
        "\\end{align}"
      ]
    },
    {
      "cell_type": "markdown",
      "metadata": {
        "id": "t-2Rh1Zn-i7f"
      },
      "source": [
        "## Instalação das bibliotecas necessárias"
      ]
    },
    {
      "cell_type": "code",
      "metadata": {
        "id": "Z9_ZwtNI-meW"
      },
      "source": [
        "!pip install pyomo\n",
        "!apt-get install coinor-cbc"
      ],
      "execution_count": null,
      "outputs": []
    },
    {
      "cell_type": "code",
      "metadata": {
        "id": "34RMq3xG6JWg"
      },
      "source": [
        "import pyomo.environ as pyEnv\n",
        "import numpy as np"
      ],
      "execution_count": null,
      "outputs": []
    },
    {
      "cell_type": "markdown",
      "metadata": {
        "id": "VTFTj3rf6Mfc"
      },
      "source": [
        "## Declaração dos dados do problema\n",
        "\n",
        "Note que cada padrão é uma coluna da matriz ```padroes```:\n",
        "\n"
      ]
    },
    {
      "cell_type": "code",
      "metadata": {
        "id": "ocUxFFDd6LYY"
      },
      "source": [
        "padroes = np.array([[1, 0, 0, 3, 1],\n",
        "                    [1, 0, 2, 1, 0],\n",
        "                    [1, 1, 0, 0, 0],\n",
        "                    [0, 2, 0, 1, 2],\n",
        "                    [0, 0, 1, 0, 1]])\n",
        "\n",
        "demandas = np.array([10, 12, 15, 31, 17])"
      ],
      "execution_count": null,
      "outputs": []
    },
    {
      "cell_type": "markdown",
      "metadata": {
        "id": "xxMSQzaO9P95"
      },
      "source": [
        "## Declaração do modelo"
      ]
    },
    {
      "cell_type": "code",
      "metadata": {
        "id": "7WgCOA-15nUI"
      },
      "source": [
        "m = padroes.shape[0]   ##Número de itens diferentes\n",
        "n = padroes.shape[1]   ##Número de padroes é o número de colunas\n",
        "\n",
        "##Criação da instância do modelo\n",
        "modelo = pyEnv.ConcreteModel()\n",
        "\n",
        "##Criação dos índices\n",
        "modelo.Indices = range(n)\n",
        "modelo.Indices2 = range(m)\n",
        "\n",
        "##Variáveis de decisão\n",
        "modelo.x = pyEnv.Var(modelo.Indices, within = pyEnv.NonNegativeReals)    ##Note a declaração das variáveis como não negativas\n",
        "\n",
        "##Função-objetivo\n",
        "modelo.Objetivo = pyEnv.Objective(expr = sum(modelo.x[i] for i in modelo.Indices),\n",
        "                                  sense = pyEnv.minimize)    ##Note a direção de minimização\n",
        "\n",
        "##Note aqui a declaração das restrições. Para não declarar cada restrição individualmente\n",
        "##definimos uma função que gera as restrições.\n",
        "\n",
        "def restricao(modelo, i):\n",
        "    return sum(padroes[i][j]*modelo.x[j] for j in modelo.Indices) >= demandas[i]\n",
        "\n",
        "##Note que para cada valor em modelo.Indices2 será criada uma restrição,\n",
        "##em que o índice i na função restricao assumirá um valor em modelo.Indices2\n",
        "modelo.rest = pyEnv.Constraint(modelo.Indices2, rule = restricao)\n"
      ],
      "execution_count": null,
      "outputs": []
    },
    {
      "cell_type": "markdown",
      "metadata": {
        "id": "pQecywPG-LKv"
      },
      "source": [
        "##Solução do modelo"
      ]
    },
    {
      "cell_type": "code",
      "metadata": {
        "id": "XpiChQ_C-OV3"
      },
      "source": [
        "solver = pyEnv.SolverFactory('cbc')\n",
        "result_objetivo = solver.solve(modelo, tee=True)"
      ],
      "execution_count": null,
      "outputs": []
    },
    {
      "cell_type": "markdown",
      "metadata": {
        "id": "oUAdua87-atW"
      },
      "source": [
        "## Print do resultado"
      ]
    },
    {
      "cell_type": "code",
      "metadata": {
        "id": "t2Vj8RkQ-dIu"
      },
      "source": [
        "lista = list(modelo.x.keys())\n",
        "print('\\nVariaveis: ')\n",
        "for i in lista:\n",
        "    print('x_'+str(i+1), '---', modelo.x[i]())\n",
        "\n",
        "print('\\nValor da função objetivo =', modelo.Objetivo())\n"
      ],
      "execution_count": null,
      "outputs": []
    }
  ]
}