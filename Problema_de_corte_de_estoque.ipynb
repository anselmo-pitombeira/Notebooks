{
  "nbformat": 4,
  "nbformat_minor": 0,
  "metadata": {
    "colab": {
      "name": "Problema de corte de estoque.ipynb",
      "provenance": [],
      "authorship_tag": "ABX9TyOoqS64d2dd6vzOtv3XByY+",
      "include_colab_link": true
    },
    "kernelspec": {
      "name": "python3",
      "display_name": "Python 3"
    }
  },
  "cells": [
    {
      "cell_type": "markdown",
      "metadata": {
        "id": "view-in-github",
        "colab_type": "text"
      },
      "source": [
        "<a href=\"https://colab.research.google.com/github/anselmo-pitombeira/Notebooks/blob/master/Problema_de_corte_de_estoque.ipynb\" target=\"_parent\"><img src=\"https://colab.research.google.com/assets/colab-badge.svg\" alt=\"Open In Colab\"/></a>"
      ]
    },
    {
      "cell_type": "markdown",
      "metadata": {
        "id": "qQfpgbPC50m0"
      },
      "source": [
        "# Problema de corte de estoque\n",
        "\n",
        "Neste notebook, implementamos um modelo de programação linear para o clássico problema de corte de estoque unidimensional, dado a seguir:\n",
        "\n",
        "\\begin{align}\n",
        "\\min \\quad z & = x_1+x_2+x_3+x_3+x_4+x_5 \\\\\n",
        "\\text{s.a.} &\\\\\n",
        "& x_1+3x_4+x_5 \\geq 10\\\\\n",
        "& x_1+2x_3+x_4 \\geq 12\\\\\n",
        "& x_1+x_2 \\geq 15\\\\\n",
        "& 2x_2+x_4+2x_5 \\geq 31\\\\\n",
        "& x_3+x_5 \\geq 17 \\\\\n",
        "& x_1, x_2, x_3, x_4, x_5 \\geq 0\n",
        "\\end{align}"
      ]
    },
    {
      "cell_type": "markdown",
      "metadata": {
        "id": "t-2Rh1Zn-i7f"
      },
      "source": [
        "## Instalação das bibliotecas necessárias"
      ]
    },
    {
      "cell_type": "code",
      "metadata": {
        "id": "Z9_ZwtNI-meW",
        "colab": {
          "base_uri": "https://localhost:8080/"
        },
        "outputId": "235bf449-894f-45be-b2eb-fdec82980dc9"
      },
      "source": [
        "!pip install pyomo\n",
        "!apt-get install coinor-cbc"
      ],
      "execution_count": 1,
      "outputs": [
        {
          "output_type": "stream",
          "name": "stdout",
          "text": [
            "Requirement already satisfied: pyomo in /usr/local/lib/python3.12/dist-packages (6.9.5)\n",
            "Requirement already satisfied: ply in /usr/local/lib/python3.12/dist-packages (from pyomo) (3.11)\n",
            "Reading package lists... Done\n",
            "Building dependency tree... Done\n",
            "Reading state information... Done\n",
            "The following additional packages will be installed:\n",
            "  coinor-libcbc3 coinor-libcgl1 coinor-libclp1 coinor-libcoinutils3v5\n",
            "  coinor-libosi1v5\n",
            "The following NEW packages will be installed:\n",
            "  coinor-cbc coinor-libcbc3 coinor-libcgl1 coinor-libclp1\n",
            "  coinor-libcoinutils3v5 coinor-libosi1v5\n",
            "0 upgraded, 6 newly installed, 0 to remove and 38 not upgraded.\n",
            "Need to get 2,908 kB of archives.\n",
            "After this operation, 8,310 kB of additional disk space will be used.\n",
            "Get:1 http://archive.ubuntu.com/ubuntu jammy/universe amd64 coinor-libcoinutils3v5 amd64 2.11.4+repack1-2 [465 kB]\n",
            "Get:2 http://archive.ubuntu.com/ubuntu jammy/universe amd64 coinor-libosi1v5 amd64 0.108.6+repack1-2 [275 kB]\n",
            "Get:3 http://archive.ubuntu.com/ubuntu jammy/universe amd64 coinor-libclp1 amd64 1.17.5+repack1-1 [937 kB]\n",
            "Get:4 http://archive.ubuntu.com/ubuntu jammy/universe amd64 coinor-libcgl1 amd64 0.60.3+repack1-3 [420 kB]\n",
            "Get:5 http://archive.ubuntu.com/ubuntu jammy/universe amd64 coinor-libcbc3 amd64 2.10.7+ds1-1 [799 kB]\n",
            "Get:6 http://archive.ubuntu.com/ubuntu jammy/universe amd64 coinor-cbc amd64 2.10.7+ds1-1 [11.6 kB]\n",
            "Fetched 2,908 kB in 0s (16.7 MB/s)\n",
            "Selecting previously unselected package coinor-libcoinutils3v5:amd64.\n",
            "(Reading database ... 126675 files and directories currently installed.)\n",
            "Preparing to unpack .../0-coinor-libcoinutils3v5_2.11.4+repack1-2_amd64.deb ...\n",
            "Unpacking coinor-libcoinutils3v5:amd64 (2.11.4+repack1-2) ...\n",
            "Selecting previously unselected package coinor-libosi1v5:amd64.\n",
            "Preparing to unpack .../1-coinor-libosi1v5_0.108.6+repack1-2_amd64.deb ...\n",
            "Unpacking coinor-libosi1v5:amd64 (0.108.6+repack1-2) ...\n",
            "Selecting previously unselected package coinor-libclp1.\n",
            "Preparing to unpack .../2-coinor-libclp1_1.17.5+repack1-1_amd64.deb ...\n",
            "Unpacking coinor-libclp1 (1.17.5+repack1-1) ...\n",
            "Selecting previously unselected package coinor-libcgl1:amd64.\n",
            "Preparing to unpack .../3-coinor-libcgl1_0.60.3+repack1-3_amd64.deb ...\n",
            "Unpacking coinor-libcgl1:amd64 (0.60.3+repack1-3) ...\n",
            "Selecting previously unselected package coinor-libcbc3:amd64.\n",
            "Preparing to unpack .../4-coinor-libcbc3_2.10.7+ds1-1_amd64.deb ...\n",
            "Unpacking coinor-libcbc3:amd64 (2.10.7+ds1-1) ...\n",
            "Selecting previously unselected package coinor-cbc.\n",
            "Preparing to unpack .../5-coinor-cbc_2.10.7+ds1-1_amd64.deb ...\n",
            "Unpacking coinor-cbc (2.10.7+ds1-1) ...\n",
            "Setting up coinor-libcoinutils3v5:amd64 (2.11.4+repack1-2) ...\n",
            "Setting up coinor-libosi1v5:amd64 (0.108.6+repack1-2) ...\n",
            "Setting up coinor-libclp1 (1.17.5+repack1-1) ...\n",
            "Setting up coinor-libcgl1:amd64 (0.60.3+repack1-3) ...\n",
            "Setting up coinor-libcbc3:amd64 (2.10.7+ds1-1) ...\n",
            "Setting up coinor-cbc (2.10.7+ds1-1) ...\n",
            "Processing triggers for man-db (2.10.2-1) ...\n",
            "Processing triggers for libc-bin (2.35-0ubuntu3.8) ...\n",
            "/sbin/ldconfig.real: /usr/local/lib/libumf.so.0 is not a symbolic link\n",
            "\n",
            "/sbin/ldconfig.real: /usr/local/lib/libtbbmalloc.so.2 is not a symbolic link\n",
            "\n",
            "/sbin/ldconfig.real: /usr/local/lib/libtbbbind.so.3 is not a symbolic link\n",
            "\n",
            "/sbin/ldconfig.real: /usr/local/lib/libur_adapter_level_zero_v2.so.0 is not a symbolic link\n",
            "\n",
            "/sbin/ldconfig.real: /usr/local/lib/libtbb.so.12 is not a symbolic link\n",
            "\n",
            "/sbin/ldconfig.real: /usr/local/lib/libur_adapter_opencl.so.0 is not a symbolic link\n",
            "\n",
            "/sbin/ldconfig.real: /usr/local/lib/libtcm.so.1 is not a symbolic link\n",
            "\n",
            "/sbin/ldconfig.real: /usr/local/lib/libtbbbind_2_0.so.3 is not a symbolic link\n",
            "\n",
            "/sbin/ldconfig.real: /usr/local/lib/libur_adapter_level_zero.so.0 is not a symbolic link\n",
            "\n",
            "/sbin/ldconfig.real: /usr/local/lib/libtcm_debug.so.1 is not a symbolic link\n",
            "\n",
            "/sbin/ldconfig.real: /usr/local/lib/libtbbbind_2_5.so.3 is not a symbolic link\n",
            "\n",
            "/sbin/ldconfig.real: /usr/local/lib/libtbbmalloc_proxy.so.2 is not a symbolic link\n",
            "\n",
            "/sbin/ldconfig.real: /usr/local/lib/libhwloc.so.15 is not a symbolic link\n",
            "\n",
            "/sbin/ldconfig.real: /usr/local/lib/libur_loader.so.0 is not a symbolic link\n",
            "\n"
          ]
        }
      ]
    },
    {
      "cell_type": "code",
      "metadata": {
        "id": "34RMq3xG6JWg"
      },
      "source": [
        "import pyomo.environ as pyEnv\n",
        "import numpy as np"
      ],
      "execution_count": 2,
      "outputs": []
    },
    {
      "cell_type": "markdown",
      "metadata": {
        "id": "VTFTj3rf6Mfc"
      },
      "source": [
        "## Declaração dos dados do problema\n",
        "\n",
        "Note que cada padrão é uma coluna da matriz ```padroes```:\n",
        "\n"
      ]
    },
    {
      "cell_type": "code",
      "metadata": {
        "id": "ocUxFFDd6LYY"
      },
      "source": [
        "padroes = np.array([[1, 0, 0, 3, 1],\n",
        "                    [1, 0, 2, 1, 0],\n",
        "                    [1, 1, 0, 0, 0],\n",
        "                    [0, 2, 0, 1, 2],\n",
        "                    [0, 0, 1, 0, 1]])\n",
        "\n",
        "demandas = np.array([10, 12, 15, 31, 17])"
      ],
      "execution_count": 3,
      "outputs": []
    },
    {
      "cell_type": "markdown",
      "metadata": {
        "id": "xxMSQzaO9P95"
      },
      "source": [
        "## Declaração do modelo"
      ]
    },
    {
      "cell_type": "code",
      "metadata": {
        "id": "7WgCOA-15nUI"
      },
      "source": [
        "m = padroes.shape[0]   ##Número de itens diferentes\n",
        "n = padroes.shape[1]   ##Número de padroes é o número de colunas\n",
        "\n",
        "##Criação da instância do modelo\n",
        "modelo = pyEnv.ConcreteModel()\n",
        "\n",
        "##Criação dos índices\n",
        "modelo.Indices = range(n)\n",
        "modelo.Indices2 = range(m)\n",
        "\n",
        "##Variáveis de decisão\n",
        "modelo.x = pyEnv.Var(modelo.Indices, within = pyEnv.NonNegativeIntegers)    ##Note a declaração das variáveis como não negativas\n",
        "\n",
        "##Função-objetivo\n",
        "modelo.Objetivo = pyEnv.Objective(expr = sum(modelo.x[i] for i in modelo.Indices),\n",
        "                                  sense = pyEnv.minimize)    ##Note a direção de minimização\n",
        "\n",
        "##Note aqui a declaração das restrições. Para não declarar cada restrição individualmente\n",
        "##definimos uma função que gera as restrições.\n",
        "\n",
        "def restricao(modelo, i):\n",
        "    return sum(padroes[i][j]*modelo.x[j] for j in modelo.Indices) >= demandas[i]\n",
        "\n",
        "##Note que para cada valor em modelo.Indices2 será criada uma restrição,\n",
        "##em que o índice i na função restricao assumirá um valor em modelo.Indices2\n",
        "modelo.rest = pyEnv.Constraint(modelo.Indices2, rule = restricao)\n"
      ],
      "execution_count": 4,
      "outputs": []
    },
    {
      "cell_type": "markdown",
      "metadata": {
        "id": "pQecywPG-LKv"
      },
      "source": [
        "##Solução do modelo"
      ]
    },
    {
      "cell_type": "code",
      "metadata": {
        "id": "XpiChQ_C-OV3",
        "colab": {
          "base_uri": "https://localhost:8080/"
        },
        "outputId": "4cf92800-d095-488f-de8d-30da1bccf9a4"
      },
      "source": [
        "solver = pyEnv.SolverFactory('cbc')\n",
        "result_objetivo = solver.solve(modelo, tee=True)"
      ],
      "execution_count": 5,
      "outputs": [
        {
          "output_type": "stream",
          "name": "stdout",
          "text": [
            "Welcome to the CBC MILP Solver \n",
            "Version: 2.10.7 \n",
            "Build Date: Feb 14 2022 \n",
            "\n",
            "command line - /usr/bin/cbc -printingOptions all -import /tmp/tmpe1bgs437.pyomo.lp -stat=1 -solve -solu /tmp/tmpe1bgs437.pyomo.soln (default strategy 1)\n",
            "Option for printingOptions changed from normal to all\n",
            "Presolve 5 (0) rows, 5 (0) columns and 13 (0) elements\n",
            "Statistics for presolved model\n",
            "Original problem has 5 integers (0 of which binary)\n",
            "==== 0 zero objective 1 different\n",
            "5 variables have objective of 1\n",
            "==== absolute objective values 1 different\n",
            "5 variables have objective of 1\n",
            "==== for integers 0 zero objective 1 different\n",
            "5 variables have objective of 1\n",
            "==== for integers absolute objective values 1 different\n",
            "5 variables have objective of 1\n",
            "===== end objective counts\n",
            "\n",
            "\n",
            "Problem has 5 rows, 5 columns (5 with objective) and 13 elements\n",
            "Column breakdown:\n",
            "5 of type 0.0->inf, 0 of type 0.0->up, 0 of type lo->inf, \n",
            "0 of type lo->up, 0 of type free, 0 of type fixed, \n",
            "0 of type -inf->0.0, 0 of type -inf->up, 0 of type 0.0->1.0 \n",
            "Row breakdown:\n",
            "0 of type E 0.0, 0 of type E 1.0, 0 of type E -1.0, \n",
            "0 of type E other, 0 of type G 0.0, 0 of type G 1.0, \n",
            "5 of type G other, 0 of type L 0.0, 0 of type L 1.0, \n",
            "0 of type L other, 0 of type Range 0.0->1.0, 0 of type Range other, \n",
            "0 of type Free \n",
            "Continuous objective value is 32 - 0.00 seconds\n",
            "Cgl0003I 0 fixed, 5 tightened bounds, 0 strengthened rows, 0 substitutions\n",
            "Cgl0004I processed model has 5 rows, 5 columns (5 integer (0 of which binary)) and 13 elements\n",
            "Cutoff increment increased from 1e-05 to 0.9999\n",
            "Cbc0012I Integer solution of 32 found by greedy cover after 0 iterations and 0 nodes (0.00 seconds)\n",
            "Cbc0001I Search completed - best objective 32, took 0 iterations and 0 nodes (0.00 seconds)\n",
            "Cbc0035I Maximum depth 0, 0 variables fixed on reduced cost\n",
            "Cuts at root node changed objective from 32 to 32\n",
            "Probing was tried 0 times and created 0 cuts of which 0 were active after adding rounds of cuts (0.000 seconds)\n",
            "Gomory was tried 0 times and created 0 cuts of which 0 were active after adding rounds of cuts (0.000 seconds)\n",
            "Knapsack was tried 0 times and created 0 cuts of which 0 were active after adding rounds of cuts (0.000 seconds)\n",
            "Clique was tried 0 times and created 0 cuts of which 0 were active after adding rounds of cuts (0.000 seconds)\n",
            "MixedIntegerRounding2 was tried 0 times and created 0 cuts of which 0 were active after adding rounds of cuts (0.000 seconds)\n",
            "FlowCover was tried 0 times and created 0 cuts of which 0 were active after adding rounds of cuts (0.000 seconds)\n",
            "TwoMirCuts was tried 0 times and created 0 cuts of which 0 were active after adding rounds of cuts (0.000 seconds)\n",
            "ZeroHalf was tried 0 times and created 0 cuts of which 0 were active after adding rounds of cuts (0.000 seconds)\n",
            "\n",
            "Result - Optimal solution found\n",
            "\n",
            "Objective value:                32.00000000\n",
            "Enumerated nodes:               0\n",
            "Total iterations:               0\n",
            "Time (CPU seconds):             0.00\n",
            "Time (Wallclock seconds):       0.01\n",
            "\n",
            "Total time (CPU seconds):       0.00   (Wallclock seconds):       0.01\n",
            "\n"
          ]
        }
      ]
    },
    {
      "cell_type": "markdown",
      "metadata": {
        "id": "oUAdua87-atW"
      },
      "source": [
        "## Print do resultado"
      ]
    },
    {
      "cell_type": "code",
      "metadata": {
        "id": "t2Vj8RkQ-dIu",
        "colab": {
          "base_uri": "https://localhost:8080/"
        },
        "outputId": "eb5459d4-475d-4600-8831-2b0d3bf4e096"
      },
      "source": [
        "print('\\nVariáveis de decisão: ')\n",
        "for i in modelo.x.keys():\n",
        "    print('x_'+str(i+1), '---', modelo.x[i]())\n",
        "\n",
        "##Gera um vetor com as quantidades de objetos cortados em cada padrão\n",
        "x = np.array([modelo.x[i]() for i in modelo.x.keys()], dtype=np.int32)\n",
        "print('\\nNúmero de objetos usados =', x.sum())\n",
        "\n",
        "##Computa quantidades de itens cortados por tipo\n",
        "q_itens_cortados = padroes.dot(x)\n",
        "print('\\nTotal de itens cortados por tipo:')\n",
        "\n",
        "for i in range(m):\n",
        "  print(f\"item {i+1}: quantidade = {q_itens_cortados[i]} | demanda = {demandas[i]}\")"
      ],
      "execution_count": 14,
      "outputs": [
        {
          "output_type": "stream",
          "name": "stdout",
          "text": [
            "\n",
            "Variáveis de decisão: \n",
            "x_1 --- 0.0\n",
            "x_2 --- 15.0\n",
            "x_3 --- 7.0\n",
            "x_4 --- 0.0\n",
            "x_5 --- 10.0\n",
            "\n",
            "Número de objetos usados = 32\n",
            "\n",
            "Total de itens cortados por tipo:\n",
            "item 1: quantidade = 10 | demanda = 10\n",
            "item 2: quantidade = 14 | demanda = 12\n",
            "item 3: quantidade = 15 | demanda = 15\n",
            "item 4: quantidade = 50 | demanda = 31\n",
            "item 5: quantidade = 17 | demanda = 17\n"
          ]
        }
      ]
    }
  ]
}