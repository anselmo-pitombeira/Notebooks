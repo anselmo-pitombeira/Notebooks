{
  "nbformat": 4,
  "nbformat_minor": 0,
  "metadata": {
    "colab": {
      "name": "Cópia de Problema da mochila.ipynb",
      "provenance": [],
      "collapsed_sections": [],
      "include_colab_link": true
    },
    "kernelspec": {
      "name": "python3",
      "display_name": "Python 3"
    }
  },
  "cells": [
    {
      "cell_type": "markdown",
      "metadata": {
        "id": "view-in-github",
        "colab_type": "text"
      },
      "source": [
        "<a href=\"https://colab.research.google.com/github/anselmo-pitombeira/Notebooks/blob/master/Problema_da_mochila.ipynb\" target=\"_parent\"><img src=\"https://colab.research.google.com/assets/colab-badge.svg\" alt=\"Open In Colab\"/></a>"
      ]
    },
    {
      "cell_type": "markdown",
      "metadata": {
        "id": "2P4ivktA-5Y3"
      },
      "source": [
        "# Alocação de investimentos/problema da mochila\n",
        "\n",
        "Este notebook ilustra a solução de um problema de alocação de investimentos, o qual é matematicamente equivalalente ao clássico *problema da mochila*, um dos mais simples e estudados problemas de otimização combinatória. \n",
        "\n",
        "Formularemos o problema como um modelo de **programação linear inteira**. O modelo será construído com uso da biblioteca **Pyomo** e será resolvido por meio do *solver* livre **COIN-OR CBC**.\n",
        "\n",
        "Mais informações quanto ao problema da mochila podem ser encontradas na aula correspondente no site da disciplina http://www.opl.ufc.br/pt/disciplinas/pesquisa_operacional/"
      ]
    },
    {
      "cell_type": "code",
      "metadata": {
        "id": "TSV5-sJn3yzD"
      },
      "source": [
        "## Instalação do pyomo e do solver para o colab ##\n",
        "!pip install pyomo\n",
        "!apt-get install coinor-cbc"
      ],
      "execution_count": null,
      "outputs": []
    },
    {
      "cell_type": "code",
      "metadata": {
        "id": "ECN0HDMH31zS"
      },
      "source": [
        "## Modelo matemático\n",
        "## Max 16x1 + 22x2 + 2x3 + 8x4\n",
        "## s.a 5x1 + 7x2 + 4x3 + 3x4 <= 14\n",
        "## x1, x2, x3, x4 >= 0 \n",
        "\n",
        "## Caso a implementação esteja sendo feita por uma IDE: ##\n",
        "## Abra o Anaconda Prompt e insira as seguintes chamadas: ##\n",
        "## conda install -c conda-forge pyomo ##\n",
        "## conda install -c conda-forge coincbc ##\n",
        "\n",
        "## Importando a biblioteca pyomo ##\n",
        "import pyomo.environ as pyEnv\n",
        "\n",
        "## Dados do problema ##\n",
        "vpl = [16, 22, 2, 4]\n",
        "aporte = [5, 7, 4, 3]\n",
        "disponibilidade = 14\n",
        "m = len(vpl)\n",
        "\n",
        "## Declarando o modelo através da biblioteca ##\n",
        "modelo = pyEnv.ConcreteModel()\n",
        "\n",
        "## Criando Indices ##\n",
        "modelo.Indices = range(m)\n",
        "\n",
        "## Criando as variáveis ##\n",
        "modelo.Variaveis = pyEnv.Var(modelo.Indices, within = pyEnv.Binary)    ##Note a declaração do tipo de variável como binário {0,1}\n",
        "\n",
        "## Criando a Função Objetivo ##\n",
        "modelo.Objetivo = pyEnv.Objective(expr = sum(vpl[i]*modelo.Variaveis[i] for i in modelo.Indices), sense = pyEnv.maximize)\n",
        "\n",
        "## Criando as restrições ##\n",
        "modelo.Restricoes = pyEnv.Constraint(expr = sum(aporte[i]*modelo.Variaveis[i] for i in modelo.Indices) <= disponibilidade)"
      ],
      "execution_count": null,
      "outputs": []
    },
    {
      "cell_type": "code",
      "metadata": {
        "id": "o60kMI6JDXxN"
      },
      "source": [
        "## Aplicando o Solver ##\n",
        "solver = pyEnv.SolverFactory('cbc', executable = '/usr/bin/cbc')   ##Criação da instância do solver\n",
        "result_objetivo = solver.solve(modelo, tee = True)                 ##Resolve o modelo"
      ],
      "execution_count": null,
      "outputs": []
    },
    {
      "cell_type": "code",
      "metadata": {
        "id": "nICbOJkUDaV5"
      },
      "source": [
        "## Impressão do resultado na tela##\n",
        "lista = list(modelo.Variaveis.keys())\n",
        "print('Solução ótima: \\n')\n",
        "for i in lista:\n",
        "  print(\"x\"+str(i+1), '---', modelo.Variaveis[i]())\n",
        "\n",
        "print('\\nValor ótimo da função objetivo =', modelo.Objetivo())"
      ],
      "execution_count": null,
      "outputs": []
    }
  ]
}