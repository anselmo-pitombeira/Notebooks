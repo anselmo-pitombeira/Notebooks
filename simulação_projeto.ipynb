{
  "nbformat": 4,
  "nbformat_minor": 0,
  "metadata": {
    "colab": {
      "name": "simulação_projeto.ipynb",
      "provenance": [],
      "authorship_tag": "ABX9TyO514zYLONKOI0usC0kI09G",
      "include_colab_link": true
    },
    "kernelspec": {
      "name": "python3",
      "display_name": "Python 3"
    }
  },
  "cells": [
    {
      "cell_type": "markdown",
      "metadata": {
        "id": "view-in-github",
        "colab_type": "text"
      },
      "source": [
        "<a href=\"https://colab.research.google.com/github/anselmo-pitombeira/Notebooks/blob/master/simula%C3%A7%C3%A3o_projeto.ipynb\" target=\"_parent\"><img src=\"https://colab.research.google.com/assets/colab-badge.svg\" alt=\"Open In Colab\"/></a>"
      ]
    },
    {
      "cell_type": "markdown",
      "metadata": {
        "id": "ZeldAvDvv1Y-"
      },
      "source": [
        "# Simulação de Tempo em Projetos\r\n",
        "\r\n",
        "Neste notebook, ilustramos como podemos usar simulação para estimar o tempo médio para o término de um projeto e a probabilidade desse tempo ultrapassar uma data limite."
      ]
    },
    {
      "cell_type": "code",
      "metadata": {
        "id": "uNSuNyLLvbwr"
      },
      "source": [
        "import numpy as np\r\n",
        "import numpy.random as rd\r\n",
        "import matplotlib.pyplot as plt\r\n",
        "\r\n",
        "rd.seed(1010)\r\n",
        "n = 10000    ##Tamanho da amostra\r\n",
        "\r\n",
        "amostra = []\r\n",
        "\r\n",
        "for i in range(n):\r\n",
        "    \r\n",
        "    t_a = rd.uniform(2,4)\r\n",
        "    t_b = rd.uniform(1,3)\r\n",
        "    t_c = rd.uniform(3,6)\r\n",
        "    \r\n",
        "    t_proj = np.maximum(t_a+t_b, t_c)\r\n",
        "    amostra.append(t_proj)\r\n",
        "    \r\n",
        "amostra = np.array(amostra)\r\n",
        "media = amostra.mean()\r\n",
        "desv_pad = amostra.std()\r\n",
        "prob = amostra[amostra > 6].size/n    ##Probabilidade de t_proj > 6\r\n",
        "    \r\n",
        "print(\"Duração média do projeto =\", media)\r\n",
        "print(\"Desvio-padrão =\", desv_pad)\r\n",
        "print(\"Probabilidade de duração > 6 = \", prob)\r\n",
        "\r\n",
        "plt.hist(amostra, bins=30)"
      ],
      "execution_count": null,
      "outputs": []
    }
  ]
}