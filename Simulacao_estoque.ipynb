{
  "nbformat": 4,
  "nbformat_minor": 0,
  "metadata": {
    "colab": {
      "name": "Simulação_estoque.ipynb",
      "provenance": [],
      "collapsed_sections": [],
      "authorship_tag": "ABX9TyOyC6yPuUwcDY9UrvF3cBpj",
      "include_colab_link": true
    },
    "kernelspec": {
      "name": "python3",
      "display_name": "Python 3"
    }
  },
  "cells": [
    {
      "cell_type": "markdown",
      "metadata": {
        "id": "view-in-github",
        "colab_type": "text"
      },
      "source": [
        "<a href=\"https://colab.research.google.com/github/anselmo-pitombeira/Notebooks/blob/master/Simula%C3%A7%C3%A3o_estoque.ipynb\" target=\"_parent\"><img src=\"https://colab.research.google.com/assets/colab-badge.svg\" alt=\"Open In Colab\"/></a>"
      ]
    },
    {
      "cell_type": "markdown",
      "metadata": {
        "id": "uNUOibfeZ5id"
      },
      "source": [
        "# Simulação de um sistema de estoque\r\n",
        "\r\n",
        "Nesse notebook, ilustramos a simulação de um sistema de estoque de um produto, usando uma política de controle do tipo $(r,R)$. Isto é, quando o estoque $y$ fica abaixo do nível $r$, ele é imediatamente reposto até $R$. A demanda segue uma distribuição de Poisson."
      ]
    },
    {
      "cell_type": "code",
      "metadata": {
        "id": "rQwHyKTUV_1Q"
      },
      "source": [
        "# -*- coding: utf-8 -*-\r\n",
        "\"\"\"\r\n",
        "\r\n",
        "Simula o controle de estoques de um produto\r\n",
        "\r\n",
        "@author: Anselmo\r\n",
        "\"\"\"\r\n",
        "import numpy as np\r\n",
        "import numpy.random as rd\r\n",
        "import matplotlib.pyplot as plt\r\n",
        "\r\n",
        "rd.seed(42)\r\n",
        "\r\n",
        "##Parâmetros\r\n",
        "y_inicial = 0         ##Nivel inicial do estoque (estado inicial)\r\n",
        "y = y_inicial         ##Estoque (variável de estado do sistema)\r\n",
        "d_media = 10          ##Demanda media por período (lambda)\r\n",
        "r = 10                ##Ponto de reposicao\r\n",
        "R = 30                ##Teto de reposição (capacidade máxima de armazenagem)\r\n",
        "T = 50                ##Períodos de tempo simulados\r\n",
        "c1 = 1.0\r\n",
        "c2 = 1.0\r\n",
        "\r\n",
        "nivel_estoque = []\r\n",
        "g_total = 0           ##Guarda o custo total\r\n",
        "\r\n",
        "for t in range(T):\r\n",
        "    \r\n",
        "    nivel_estoque.append(y)\r\n",
        "    print(\"\\nEstoque =\",  y)\r\n",
        "    \r\n",
        "    ##Toma decisão de repor ou não de acordo com a política\r\n",
        "    if y < r:\r\n",
        "        print(\"\\nFaz reposição\")\r\n",
        "        x = R-y    ##Quantidade a repor (completa até o teto R)\r\n",
        "    else:\r\n",
        "        x = 0      ##Repõe zero\r\n",
        "\r\n",
        "    ##Amostra a demanda\r\n",
        "    d = rd.poisson(d_media)\r\n",
        "\r\n",
        "    ##Computa o custo\r\n",
        "    g = c1*x+c2*(y+x-d)**2\r\n",
        "    g_total+=g\r\n",
        "\r\n",
        "    ##Atualiza a variável de estado\r\n",
        "    y = np.maximum(y+x-d, 0)    ##Note que y sempre >= 0\r\n",
        "\r\n",
        "print(\"Custo médio = \", g_total/T)\r\n",
        "plt.plot(nivel_estoque, lw=2.0, color='red')\r\n",
        "plt.xlabel('Tempo')\r\n",
        "plt.ylabel('Nível de estoque $y$')"
      ],
      "execution_count": null,
      "outputs": []
    }
  ]
}
