{
  "nbformat": 4,
  "nbformat_minor": 0,
  "metadata": {
    "colab": {
      "name": "Pi_monte_carlo.ipynb",
      "provenance": [],
      "authorship_tag": "ABX9TyMAGJgksMgJsP5YqICAzYig",
      "include_colab_link": true
    },
    "kernelspec": {
      "name": "python3",
      "display_name": "Python 3"
    }
  },
  "cells": [
    {
      "cell_type": "markdown",
      "metadata": {
        "id": "view-in-github",
        "colab_type": "text"
      },
      "source": [
        "<a href=\"https://colab.research.google.com/github/anselmo-pitombeira/Notebooks/blob/master/Pi_monte_carlo.ipynb\" target=\"_parent\"><img src=\"https://colab.research.google.com/assets/colab-badge.svg\" alt=\"Open In Colab\"/></a>"
      ]
    },
    {
      "cell_type": "code",
      "metadata": {
        "colab": {
          "base_uri": "https://localhost:8080/"
        },
        "id": "lSyfXBPN5l-0",
        "outputId": "95837e46-5952-4e65-eda3-e35d92eeacd2"
      },
      "source": [
        "import numpy.random as rd\n",
        "\n",
        "rd.seed(42)\n",
        "\n",
        "n = 1000000\n",
        "nc = 0\n",
        "\n",
        "for j in range(n):\n",
        "  x = rd.uniform(0,1)\n",
        "  y = rd.uniform(0,1)\n",
        "\n",
        "  if x**2+y**2 <= 1:\n",
        "    nc+=1\n",
        "\n",
        "pi = 4*nc/n\n",
        "\n",
        "print(\"Valor aproximado de pi = \", pi)\n",
        "\n"
      ],
      "execution_count": null,
      "outputs": [
        {
          "output_type": "stream",
          "text": [
            "Valor aproximado de pi =  3.141688\n"
          ],
          "name": "stdout"
        }
      ]
    }
  ]
}