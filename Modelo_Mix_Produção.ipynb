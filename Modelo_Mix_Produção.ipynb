{
  "nbformat": 4,
  "nbformat_minor": 0,
  "metadata": {
    "colab": {
      "name": "Modelo_Mix_Produção.ipynb",
      "provenance": [],
      "include_colab_link": true
    },
    "kernelspec": {
      "name": "python3",
      "display_name": "Python 3"
    }
  },
  "cells": [
    {
      "cell_type": "markdown",
      "metadata": {
        "id": "view-in-github",
        "colab_type": "text"
      },
      "source": [
        "<a href=\"https://colab.research.google.com/github/anselmo-pitombeira/Notebooks/blob/master/Modelo_Mix_Produ%C3%A7%C3%A3o.ipynb\" target=\"_parent\"><img src=\"https://colab.research.google.com/assets/colab-badge.svg\" alt=\"Open In Colab\"/></a>"
      ]
    },
    {
      "cell_type": "markdown",
      "metadata": {
        "id": "vvs-uQE-RDEa"
      },
      "source": [
        "## Problema de mix de produção\n",
        "\n",
        "Neste notebook, descrevemos como resolver um problema de decisão de mix de produção. O problema é formulado como um modelo de programação linear, e em seguida é resolvido com uso da biblioteca Pyomo para Python e o solver GLPK."
      ]
    },
    {
      "cell_type": "code",
      "metadata": {
        "id": "feCzGrsgQt8F",
        "outputId": "2e941e9f-2f1b-44a5-a5de-e48818de4884",
        "colab": {
          "base_uri": "https://localhost:8080/"
        }
      },
      "source": [
        "!pip install pyomo\n"
      ],
      "execution_count": 1,
      "outputs": [
        {
          "output_type": "stream",
          "name": "stdout",
          "text": [
            "Looking in indexes: https://pypi.org/simple, https://us-python.pkg.dev/colab-wheels/public/simple/\n",
            "Collecting pyomo\n",
            "  Downloading Pyomo-6.5.0-cp39-cp39-manylinux_2_17_x86_64.manylinux2014_x86_64.whl (11.0 MB)\n",
            "\u001b[2K     \u001b[90m━━━━━━━━━━━━━━━━━━━━━━━━━━━━━━━━━━━━━━━━\u001b[0m \u001b[32m11.0/11.0 MB\u001b[0m \u001b[31m75.1 MB/s\u001b[0m eta \u001b[36m0:00:00\u001b[0m\n",
            "\u001b[?25hCollecting ply\n",
            "  Downloading ply-3.11-py2.py3-none-any.whl (49 kB)\n",
            "\u001b[2K     \u001b[90m━━━━━━━━━━━━━━━━━━━━━━━━━━━━━━━━━━━━━━━━\u001b[0m \u001b[32m49.6/49.6 KB\u001b[0m \u001b[31m5.3 MB/s\u001b[0m eta \u001b[36m0:00:00\u001b[0m\n",
            "\u001b[?25hInstalling collected packages: ply, pyomo\n",
            "Successfully installed ply-3.11 pyomo-6.5.0\n"
          ]
        }
      ]
    },
    {
      "cell_type": "code",
      "metadata": {
        "id": "aDLKnX3uR2bN"
      },
      "source": [
        "import pyomo.environ as pyo\n",
        "import numpy as np\n",
        "\n",
        "##Dados do problema\n",
        "c = np.array([2,3])  ##Lucro\n",
        "A = np.array([[1.5, 3.0],\n",
        "              [3.5, 4.0],\n",
        "              [10.0, 7.0]])\n",
        "\n",
        "b = np.array([180,280,700])    ##Horas disponíveis"
      ],
      "execution_count": 2,
      "outputs": []
    },
    {
      "cell_type": "code",
      "metadata": {
        "id": "UbYo3ZONT1I-"
      },
      "source": [
        "modelo = pyo.ConcreteModel()\n",
        "##Variáveis de decisão\n",
        "n = 2    ##Número de variáveis\n",
        "\n",
        "modelo.x = pyo.Var([i for i in range(n)], domain=pyo.NonNegativeReals)\n",
        "\n",
        "##Função objetivo\n",
        "expr = sum(c[i]*modelo.x[i] for i in range(n))\n",
        "modelo.obj = pyo.Objective(expr = expr, sense=pyo.maximize)\n",
        "\n",
        "##Restrições horas\n",
        "modelo.r1 = pyo.Constraint(expr=sum(A[0,i]*modelo.x[i] for i in range(n))<=b[0])\n",
        "modelo.r2 = pyo.Constraint(expr=sum(A[1,i]*modelo.x[i] for i in range(n))<=b[1])\n",
        "modelo.r3 = pyo.Constraint(expr=sum(A[2,i]*modelo.x[i] for i in range(n))<=b[2])\n",
        "\n",
        "modelo.pprint()"
      ],
      "execution_count": null,
      "outputs": []
    },
    {
      "cell_type": "code",
      "metadata": {
        "id": "WNfq_QPnbp-J",
        "outputId": "ce26bfe5-df7f-4e79-89b2-25324a05ba21",
        "colab": {
          "base_uri": "https://localhost:8080/"
        }
      },
      "source": [
        "!apt-get install coinor-cbc\n"
      ],
      "execution_count": 10,
      "outputs": [
        {
          "output_type": "stream",
          "name": "stdout",
          "text": [
            "Reading package lists... Done\n",
            "Building dependency tree       \n",
            "Reading state information... Done\n",
            "The following additional packages will be installed:\n",
            "  coinor-libcbc3 coinor-libcgl1 coinor-libclp1 coinor-libcoinutils3v5\n",
            "  coinor-libosi1v5\n",
            "The following NEW packages will be installed:\n",
            "  coinor-cbc coinor-libcbc3 coinor-libcgl1 coinor-libclp1\n",
            "  coinor-libcoinutils3v5 coinor-libosi1v5\n",
            "0 upgraded, 6 newly installed, 0 to remove and 23 not upgraded.\n",
            "Need to get 2,875 kB of archives.\n",
            "After this operation, 8,782 kB of additional disk space will be used.\n",
            "Get:1 http://archive.ubuntu.com/ubuntu focal/universe amd64 coinor-libcoinutils3v5 amd64 2.11.4+repack1-1 [480 kB]\n",
            "Get:2 http://archive.ubuntu.com/ubuntu focal/universe amd64 coinor-libosi1v5 amd64 0.108.6+repack1-1 [294 kB]\n",
            "Get:3 http://archive.ubuntu.com/ubuntu focal/universe amd64 coinor-libclp1 amd64 1.17.5+repack1-1 [937 kB]\n",
            "Get:4 http://archive.ubuntu.com/ubuntu focal/universe amd64 coinor-libcgl1 amd64 0.60.3+repack1-2 [430 kB]\n",
            "Get:5 http://archive.ubuntu.com/ubuntu focal/universe amd64 coinor-libcbc3 amd64 2.10.3+repack1-1build1 [723 kB]\n",
            "Get:6 http://archive.ubuntu.com/ubuntu focal/universe amd64 coinor-cbc amd64 2.10.3+repack1-1build1 [11.4 kB]\n",
            "Fetched 2,875 kB in 1s (2,709 kB/s)\n",
            "Selecting previously unselected package coinor-libcoinutils3v5.\n",
            "(Reading database ... 128492 files and directories currently installed.)\n",
            "Preparing to unpack .../0-coinor-libcoinutils3v5_2.11.4+repack1-1_amd64.deb ...\n",
            "Unpacking coinor-libcoinutils3v5 (2.11.4+repack1-1) ...\n",
            "Selecting previously unselected package coinor-libosi1v5.\n",
            "Preparing to unpack .../1-coinor-libosi1v5_0.108.6+repack1-1_amd64.deb ...\n",
            "Unpacking coinor-libosi1v5 (0.108.6+repack1-1) ...\n",
            "Selecting previously unselected package coinor-libclp1.\n",
            "Preparing to unpack .../2-coinor-libclp1_1.17.5+repack1-1_amd64.deb ...\n",
            "Unpacking coinor-libclp1 (1.17.5+repack1-1) ...\n",
            "Selecting previously unselected package coinor-libcgl1.\n",
            "Preparing to unpack .../3-coinor-libcgl1_0.60.3+repack1-2_amd64.deb ...\n",
            "Unpacking coinor-libcgl1 (0.60.3+repack1-2) ...\n",
            "Selecting previously unselected package coinor-libcbc3.\n",
            "Preparing to unpack .../4-coinor-libcbc3_2.10.3+repack1-1build1_amd64.deb ...\n",
            "Unpacking coinor-libcbc3 (2.10.3+repack1-1build1) ...\n",
            "Selecting previously unselected package coinor-cbc.\n",
            "Preparing to unpack .../5-coinor-cbc_2.10.3+repack1-1build1_amd64.deb ...\n",
            "Unpacking coinor-cbc (2.10.3+repack1-1build1) ...\n",
            "Setting up coinor-libcoinutils3v5 (2.11.4+repack1-1) ...\n",
            "Setting up coinor-libosi1v5 (0.108.6+repack1-1) ...\n",
            "Setting up coinor-libclp1 (1.17.5+repack1-1) ...\n",
            "Setting up coinor-libcgl1 (0.60.3+repack1-2) ...\n",
            "Setting up coinor-libcbc3 (2.10.3+repack1-1build1) ...\n",
            "Setting up coinor-cbc (2.10.3+repack1-1build1) ...\n",
            "Processing triggers for man-db (2.9.1-1) ...\n",
            "Processing triggers for libc-bin (2.31-0ubuntu9.9) ...\n"
          ]
        }
      ]
    },
    {
      "cell_type": "code",
      "metadata": {
        "id": "UcpjzBdVcObI",
        "outputId": "e997a74b-23fc-485a-b475-7231219f5459",
        "colab": {
          "base_uri": "https://localhost:8080/"
        }
      },
      "source": [
        "solver = pyo.SolverFactory(\"cbc\")\n",
        "results = solver.solve(modelo, tee=True)"
      ],
      "execution_count": 12,
      "outputs": [
        {
          "output_type": "stream",
          "name": "stdout",
          "text": [
            "Welcome to the CBC MILP Solver \n",
            "Version: 2.10.3 \n",
            "Build Date: Mar 24 2020 \n",
            "\n",
            "command line - /usr/bin/cbc -printingOptions all -import /tmp/tmpg2v6trrq.pyomo.lp -stat=1 -solve -solu /tmp/tmpg2v6trrq.pyomo.soln (default strategy 1)\n",
            "Option for printingOptions changed from normal to all\n",
            " CoinLpIO::readLp(): Maximization problem reformulated as minimization\n",
            "Coin0009I Switching back to maximization to get correct duals etc\n",
            "Presolve 3 (-1) rows, 2 (-1) columns and 6 (-1) elements\n",
            "Statistics for presolved model\n",
            "\n",
            "\n",
            "Problem has 3 rows, 2 columns (2 with objective) and 6 elements\n",
            "Column breakdown:\n",
            "2 of type 0.0->inf, 0 of type 0.0->up, 0 of type lo->inf, \n",
            "0 of type lo->up, 0 of type free, 0 of type fixed, \n",
            "0 of type -inf->0.0, 0 of type -inf->up, 0 of type 0.0->1.0 \n",
            "Row breakdown:\n",
            "0 of type E 0.0, 0 of type E 1.0, 0 of type E -1.0, \n",
            "0 of type E other, 0 of type G 0.0, 0 of type G 1.0, \n",
            "0 of type G other, 0 of type L 0.0, 0 of type L 1.0, \n",
            "3 of type L other, 0 of type Range 0.0->1.0, 0 of type Range other, \n",
            "0 of type Free \n",
            "Presolve 3 (-1) rows, 2 (-1) columns and 6 (-1) elements\n",
            "0  Obj -0 Dual inf 4.999998 (2)\n",
            "2  Obj 193.33333\n",
            "Optimal - objective value 193.33333\n",
            "After Postsolve, objective 193.33333, infeasibilities - dual 0 (0), primal 0 (0)\n",
            "Optimal objective 193.3333333 - 2 iterations time 0.002, Presolve 0.00\n",
            "Total time (CPU seconds):       0.00   (Wallclock seconds):       0.00\n",
            "\n"
          ]
        }
      ]
    },
    {
      "cell_type": "code",
      "metadata": {
        "id": "RSWLl53mdSPB",
        "outputId": "0d21f3d8-13d6-4476-c60d-a6b6da031ac4",
        "colab": {
          "base_uri": "https://localhost:8080/"
        }
      },
      "source": [
        "print(\"Valor ótimo lucro = \", modelo.obj())\n",
        "print(\"Solução ótima = \", modelo.x.get_values())"
      ],
      "execution_count": 7,
      "outputs": [
        {
          "output_type": "stream",
          "name": "stdout",
          "text": [
            "Valor ótimo lucro =  193.3333333333335\n",
            "Solução ótima =  {0: 26.6666666666667, 1: 46.6666666666667}\n"
          ]
        }
      ]
    }
  ]
}