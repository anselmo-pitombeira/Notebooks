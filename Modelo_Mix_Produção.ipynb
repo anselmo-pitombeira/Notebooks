{
  "nbformat": 4,
  "nbformat_minor": 0,
  "metadata": {
    "colab": {
      "name": "Modelo_Mix_Produção.ipynb",
      "provenance": [],
      "include_colab_link": true
    },
    "kernelspec": {
      "name": "python3",
      "display_name": "Python 3"
    }
  },
  "cells": [
    {
      "cell_type": "markdown",
      "metadata": {
        "id": "view-in-github",
        "colab_type": "text"
      },
      "source": [
        "<a href=\"https://colab.research.google.com/github/anselmo-pitombeira/Notebooks/blob/master/Modelo_Mix_Produ%C3%A7%C3%A3o.ipynb\" target=\"_parent\"><img src=\"https://colab.research.google.com/assets/colab-badge.svg\" alt=\"Open In Colab\"/></a>"
      ]
    },
    {
      "cell_type": "markdown",
      "metadata": {
        "id": "vvs-uQE-RDEa"
      },
      "source": [
        "## Problema de mix de produção\n",
        "\n",
        "Neste notebook, descrevemos como resolver um problema de decisão de mix de produção. O problema é formulado como um modelo de programação linear, e em seguida é resolvido com uso da biblioteca Pyomo para Python e o solver GLPK."
      ]
    },
    {
      "cell_type": "code",
      "metadata": {
        "id": "feCzGrsgQt8F"
      },
      "source": [
        "!pip install pyomo\n"
      ],
      "execution_count": null,
      "outputs": []
    },
    {
      "cell_type": "code",
      "metadata": {
        "id": "aDLKnX3uR2bN"
      },
      "source": [
        "import pyomo.environ as pyo\n",
        "import numpy as np\n",
        "\n",
        "##Dados do problema\n",
        "c = np.array([2,3])  ##Lucro\n",
        "A = np.array([[1.5, 3.0],\n",
        "              [3.5, 4.0],\n",
        "              [10.0, 7.0]])\n",
        "\n",
        "b = np.array([180,280,700])    ##Horas disponíveis"
      ],
      "execution_count": null,
      "outputs": []
    },
    {
      "cell_type": "code",
      "metadata": {
        "id": "UbYo3ZONT1I-"
      },
      "source": [
        "modelo = pyo.ConcreteModel()\n",
        "##Variáveis de decisão\n",
        "n = 2    ##Número de variáveis\n",
        "\n",
        "modelo.x = pyo.Var([i for i in range(n)], domain=pyo.NonNegativeReals)\n",
        "\n",
        "##Função objetivo\n",
        "expr = sum(c[i]*modelo.x[i] for i in range(n))\n",
        "modelo.obj = pyo.Objective(expr = expr, sense=pyo.maximize)\n",
        "\n",
        "##Restrições horas\n",
        "modelo.r1 = pyo.Constraint(expr=sum(A[0,i]*modelo.x[i] for i in range(n))<=b[0])\n",
        "modelo.r2 = pyo.Constraint(expr=sum(A[1,i]*modelo.x[i] for i in range(n))<=b[1])\n",
        "modelo.r3 = pyo.Constraint(expr=sum(A[2,i]*modelo.x[i] for i in range(n))<=b[2])\n",
        "\n",
        "modelo.pprint()"
      ],
      "execution_count": null,
      "outputs": []
    },
    {
      "cell_type": "code",
      "metadata": {
        "id": "WNfq_QPnbp-J"
      },
      "source": [
        "!apt-get install glpk-utils"
      ],
      "execution_count": null,
      "outputs": []
    },
    {
      "cell_type": "code",
      "metadata": {
        "id": "UcpjzBdVcObI"
      },
      "source": [
        "solver = pyo.SolverFactory(\"glpk\", executable=\"/usr/bin/glpsol\")\n",
        "results = solver.solve(modelo)\n",
        "results.write()"
      ],
      "execution_count": null,
      "outputs": []
    },
    {
      "cell_type": "code",
      "metadata": {
        "id": "RSWLl53mdSPB"
      },
      "source": [
        "print(\"Valor ótimo lucro = \", modelo.obj.value())\n",
        "print(\"Solução ótima = \", modelo.x.get_values())"
      ],
      "execution_count": null,
      "outputs": []
    }
  ]
}