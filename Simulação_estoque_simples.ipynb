{
  "nbformat": 4,
  "nbformat_minor": 0,
  "metadata": {
    "colab": {
      "provenance": [],
      "include_colab_link": true
    },
    "kernelspec": {
      "name": "python3",
      "display_name": "Python 3"
    }
  },
  "cells": [
    {
      "cell_type": "markdown",
      "metadata": {
        "id": "view-in-github",
        "colab_type": "text"
      },
      "source": [
        "<a href=\"https://colab.research.google.com/github/anselmo-pitombeira/Notebooks/blob/master/Simula%C3%A7%C3%A3o_estoque_simples.ipynb\" target=\"_parent\"><img src=\"https://colab.research.google.com/assets/colab-badge.svg\" alt=\"Open In Colab\"/></a>"
      ]
    },
    {
      "cell_type": "markdown",
      "metadata": {
        "id": "uNUOibfeZ5id"
      },
      "source": [
        "# Simulação de um sistema de estoque\n",
        "\n",
        "Nesse notebook, ilustramos a simulação de um sistema de simples estoque de um produto. Quando o estoque $Y_t$ chega a zero, ele é reposto até $n$. A demanda segue uma distribuição de Poisson."
      ]
    },
    {
      "cell_type": "code",
      "metadata": {
        "id": "rQwHyKTUV_1Q",
        "colab": {
          "base_uri": "https://localhost:8080/",
          "height": 484
        },
        "outputId": "915ccfe9-972b-40c8-8cc1-60ec7263bb41"
      },
      "source": [
        "# -*- coding: utf-8 -*-\n",
        "\"\"\"\n",
        "\n",
        "Simula o controle de estoques de um produto\n",
        "\n",
        "@author: Anselmo\n",
        "\"\"\"\n",
        "import numpy as np\n",
        "import numpy.random as rd\n",
        "import matplotlib.pyplot as plt\n",
        "\n",
        "rd.seed(42)\n",
        "\n",
        "n = 100\n",
        "\n",
        "##Parâmetros\n",
        "y_inicial = n         ##Nivel inicial do estoque (estado inicial)\n",
        "y = y_inicial         ##Estoque (variável de estado do sistema)\n",
        "d_media = 10          ##Demanda media por período (lambda)\n",
        "T = 50               ##Períodos de tempo simulados\n",
        "\n",
        "nivel_estoque = []\n",
        "\n",
        "for t in range(T):\n",
        "\n",
        "    ##Registra o nível atual do estoque\n",
        "    nivel_estoque.append(y)\n",
        "\n",
        "    ##Repõe até n se o estoque se estiver zerado\n",
        "    if y == 0:\n",
        "      y = n\n",
        "\n",
        "    ##Amostra a demanda\n",
        "    d = rd.poisson(d_media)\n",
        "\n",
        "    ##Atualiza a variável de estado\n",
        "    y = np.maximum(y-d, 0)    ##Note que y sempre >= 0\n",
        "\n",
        "nivel_estoque = np.array(nivel_estoque)\n",
        "\n",
        "print(\"Nível médio do estoque = \", nivel_estoque.mean())\n",
        "\n",
        "plt.plot(nivel_estoque, lw=2.0, color='red', ds='steps')\n",
        "plt.xlabel('Tempo')\n",
        "plt.ylabel('Nível de estoque $y$')"
      ],
      "execution_count": 11,
      "outputs": [
        {
          "output_type": "stream",
          "name": "stdout",
          "text": [
            "Nível médio do estoque =  45.36\n"
          ]
        },
        {
          "output_type": "execute_result",
          "data": {
            "text/plain": [
              "Text(0, 0.5, 'Nível de estoque $y$')"
            ]
          },
          "metadata": {},
          "execution_count": 11
        },
        {
          "output_type": "display_data",
          "data": {
            "text/plain": [
              "<Figure size 640x480 with 1 Axes>"
            ],
            "image/png": "[encoded data removed]"
          },
          "metadata": {}
        }
      ]
    }
  ]
}