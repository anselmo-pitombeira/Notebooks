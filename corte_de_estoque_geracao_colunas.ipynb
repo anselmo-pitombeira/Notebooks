{
  "nbformat": 4,
  "nbformat_minor": 0,
  "metadata": {
    "colab": {
      "name": "corte_de_estoque_geracao_colunas.ipynb",
      "provenance": [],
      "collapsed_sections": [],
      "authorship_tag": "ABX9TyOtDJfdRfY2Yw7WPec6sTw9",
      "include_colab_link": true
    },
    "kernelspec": {
      "name": "python3",
      "display_name": "Python 3"
    },
    "language_info": {
      "name": "python"
    }
  },
  "cells": [
    {
      "cell_type": "markdown",
      "metadata": {
        "id": "view-in-github",
        "colab_type": "text"
      },
      "source": [
        "<a href=\"https://colab.research.google.com/github/anselmo-pitombeira/Notebooks/blob/master/corte_de_estoque_geracao_colunas.ipynb\" target=\"_parent\"><img src=\"https://colab.research.google.com/assets/colab-badge.svg\" alt=\"Open In Colab\"/></a>"
      ]
    },
    {
      "cell_type": "markdown",
      "source": [
        "#Solução do Problema de Corte de Estoque com Uso de Geração de Colunas\n",
        "\n",
        "Neste notebook, implementamos um algoritmo de geração de colunas para o problema de corte de estoque com uso da biblioteca Pyomo."
      ],
      "metadata": {
        "id": "RY2dWow8tfuO"
      }
    },
    {
      "cell_type": "markdown",
      "source": [
        "##Instalação das bibliotecas necessárias"
      ],
      "metadata": {
        "id": "yCISOnqZuBIB"
      }
    },
    {
      "cell_type": "code",
      "source": [
        "!pip install pyomo\n",
        "!apt-get install coinor-cbc"
      ],
      "metadata": {
        "id": "Yjb4ezfNrkAB"
      },
      "execution_count": null,
      "outputs": []
    },
    {
      "cell_type": "markdown",
      "source": [
        "##Definições de funções"
      ],
      "metadata": {
        "id": "oO2xfRUkuNH1"
      }
    },
    {
      "cell_type": "code",
      "execution_count": 16,
      "metadata": {
        "id": "9enpkR6lrNTp"
      },
      "outputs": [],
      "source": [
        "import numpy as np\n",
        "import pyomo.environ as pyo\n",
        "\n",
        "def pce_mestre(demanda, padroes):\n",
        "\n",
        "    \"\"\"\n",
        "    Define um modelo de programação linear para o problema de corte de estoque,\n",
        "    para ser usado como problema mestre restrito.\n",
        "\n",
        "    inputs:\n",
        "        demanda: Vetor com demandas por itens (vetor b)\n",
        "        padroes: Matriz cujas colunas são os padrões de corte (matriz A)\n",
        "    \"\"\"\n",
        "\n",
        "    model = pyo.ConcreteModel()       #Cria modelo\n",
        "    model.N = np.shape(padroes)[1]    ##Número de colunas (padrões)\n",
        "    model.m = np.shape(demanda)[0]    ##Número de itens\n",
        "    \n",
        "    #Variaveis de decisão do modelo\n",
        "    model.x = pyo.Var([i for i in range(model.N)], domain=pyo.NonNegativeReals)   ##Note as variáveis reais não negativas \n",
        "    \n",
        "    #Cria funcao objetivo\n",
        "    def obj_fun(model):   \n",
        "        return sum(model.x[j] for j in range(model.N))\n",
        "            \n",
        "    model.obj = pyo.Objective(rule=obj_fun, sense=pyo.minimize)\n",
        "    \n",
        "    ##Restrições\n",
        "    def demand(model, i):\n",
        "        return sum(model.x[j]*padroes[i][j] for j in range(model.N)) >= demanda[i]\n",
        "    \n",
        "    model.demand_res = pyo.Constraint(range(model.m), rule=demand)\n",
        " \n",
        "    return model\n",
        "\n",
        "def subproblema_mochila(c, p, L):\n",
        "    \"\"\"\n",
        "    Constroi um modelo do subproblema da mochila.\n",
        "\n",
        "    Inputs:\n",
        "        c - Vetor de coeficientes associados a cada item (valores das variáveis duais obtidas do prob. mestre)\n",
        "        p - Vetor com comprimentos de cada item\n",
        "        L - Capacidade da mochila (comprimento do objeto em estoque)\n",
        "    \n",
        "    \"\"\"\n",
        "    n = c.size ##Número de itens\n",
        "    modelo = pyo.ConcreteModel()\n",
        "    modelo.x = pyo.Var([i for i in range(n)], domain=pyo.NonNegativeIntegers)                       ##Var. de decisão\n",
        "    modelo.obj = pyo.Objective(expr=sum(c[i]*modelo.x[i] for i in range(n)), sense=pyo.maximize)    ##Função-objetivo\n",
        "    modelo.res_capacidade = pyo.Constraint(expr=sum(p[i]*modelo.x[i] for i in range(n)) <=L)        ##Restrição de mochila\n",
        "    \n",
        "    return modelo\n",
        "\n",
        "def solve_geracao_colunas(demanda, tam, L, maxiter=1000):\n",
        "    \n",
        "    m = len(tam)           ##Número de tamanhos possíveis dos itens\n",
        "    padroes = np.eye(m)    ##Padroes iniciais (matriz identidade)\n",
        "    \n",
        "    ##Cria o solver (outras opções possíveis é cplex, gurobi ou glpk, se estiverem instalados)\n",
        "    solver = pyo.SolverFactory('cbc', executable='/usr/bin/cbc')\n",
        "    \n",
        "    ##Loop principal\n",
        "    for i in range(maxiter):\n",
        "        print(\"Iteração = \",i)\n",
        "        mestre = pce_mestre(demanda, padroes)                    ##Cria o modelo do problema mestre restrito\n",
        "        mestre.dual = pyo.Suffix(direction=pyo.Suffix.IMPORT)    ##Definição das variáveis duais (preços-sombra)\n",
        "        solver.solve(mestre)                                     ##Resolve o problema mestre restrito \n",
        "        print(\"Fobj mestre = \", mestre.obj.expr())\n",
        "    \n",
        "        ##Extração dos valores as variáveis duais\n",
        "        duais = []\n",
        "        for i in range(m):\n",
        "            duais.append(mestre.dual[mestre.demand_res[i]])\n",
        "        \n",
        "        duais = np.array(duais)\n",
        "        \n",
        "        ##Resolve subproblema da mochilha\n",
        "        subproblema = subproblema_mochila(duais, tam, L)\n",
        "        solver.solve(subproblema)\n",
        "        valor_fobj = subproblema.obj.expr()\n",
        "\n",
        "        print(\"Valor subproblema = \", valor_fobj)\n",
        "\n",
        "        ##Testa o valor da fobj do problema da mochila\n",
        "        if valor_fobj <= 1.0:    \n",
        "            print(\"Otimo atingido\")\n",
        "            break\n",
        "        else:   ##Adiciona novo padrão\n",
        "            novo_padrao = np.array(list(subproblema.x.get_values().values()))    ##Recupera novo padrão (solução ótima do problema da mochila)\n",
        "            padroes = np.hstack([padroes, novo_padrao.reshape(-1,1)])            ##Adiciona novo padrão (adiciona coluna à matriz de padrões)\n",
        "    \n",
        "    solucao = np.array(list(mestre.x.get_values().values()))\n",
        "    ##padroes_usados = padroes[:, solucao>0.0]\n",
        "    ##solucao_arred = np.ceil(solucao[solucao>0.0])\n",
        "    ##solucao_arred = np.ceil(solucao)\n",
        "    \n",
        "    return padroes, solucao\n"
      ]
    },
    {
      "cell_type": "markdown",
      "source": [
        "##Aplicação em um exemplo"
      ],
      "metadata": {
        "id": "NoQiIn1JuSmO"
      }
    },
    {
      "cell_type": "code",
      "source": [
        "tamanhos = [200, 400, 600, 800, 1000]\n",
        "demanda = [30, 60, 45, 30, 15]\n",
        "L = 1200\n",
        "padroes, solucao = solve_geracao_colunas(demanda, tamanhos, L, maxiter=1000)\n",
        "solucao_arred = np.ceil(solucao)\n",
        "\n",
        "print(\"\\nPadroes finais = \\n\", padroes)\n",
        "print(\"\\nQuantidades de padroes usados = \\n\", solucao)\n",
        "print(\"\\nValor ótimo fobj (quant. de objetos cortados) = \", solucao.sum())\n",
        "print(\"\\nSolução arredondada = \\n\", solucao_arred)\n",
        "print(\"\\nNúmero de objetos cortados = \\n\", solucao_arred.sum())\n",
        "print(\"\\nQuantidades de itens produzidos =\\n\", padroes.dot(solucao_arred))\n",
        "print(\"\\nDemanda =\",demanda)\n"
      ],
      "metadata": {
        "id": "dSwfmdn5rndv"
      },
      "execution_count": null,
      "outputs": []
    }
  ]
}