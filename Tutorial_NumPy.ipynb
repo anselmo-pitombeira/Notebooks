{
  "nbformat": 4,
  "nbformat_minor": 0,
  "metadata": {
    "colab": {
      "name": "Tutorial_NumPy.ipynb",
      "version": "0.3.2",
      "provenance": [],
      "collapsed_sections": []
    },
    "kernelspec": {
      "name": "python3",
      "display_name": "Python 3"
    }
  },
  "cells": [
    {
      "metadata": {
        "id": "GRl0miKkTejx",
        "colab_type": "text"
      },
      "cell_type": "markdown",
      "source": [
        "# **Introdução ao NumPy**\n",
        "\n",
        "Autor: Prof. Dr. Anselmo R. Pitombeira Neto,\n",
        "OPL - Pesquisa Operacional em Produção e Logística,\n",
        "Departamento de Engenharia de Produção,\n",
        "Universidade Federal do Ceará\n",
        "\n",
        "ver 0.1\n",
        "\n",
        "---\n",
        "\n",
        "O Numerical Python (NumPy) é uma biblioteca para a linguagem Python com funções para se trabalhar com computação numérica. Seu principal objeto é o vetor n-dimensional, ou `ndarray`. Um vetor n-dimensional também é conhecido pelo nome *tensor*. A principal característica do `ndarray` é que ele deve ser homogêneo, ou seja, diferentemente do objeto lista, todos os seus elementos devem ser do mesmo tipo."
      ]
    },
    {
      "metadata": {
        "id": "eQP-auD3quje",
        "colab_type": "text"
      },
      "cell_type": "markdown",
      "source": [
        "## Criação de tensores\n",
        "\n",
        "Pode-se criar um `ndarray` passando um container como inicializador para um objeto da classe `array`:"
      ]
    },
    {
      "metadata": {
        "id": "kKbhlPsaTdct",
        "colab_type": "code",
        "outputId": "e79c42e2-6ccd-4f76-a913-ca2c2978eda4",
        "colab": {
          "base_uri": "https://localhost:8080/",
          "height": 34
        }
      },
      "cell_type": "code",
      "source": [
        "import numpy as np\n",
        "v = np.array([1,2,3,4])\n",
        "print(v)"
      ],
      "execution_count": 0,
      "outputs": [
        {
          "output_type": "stream",
          "text": [
            "[1 2 3 4]\n"
          ],
          "name": "stdout"
        }
      ]
    },
    {
      "metadata": {
        "id": "19_HvO7UXmKO",
        "colab_type": "text"
      },
      "cell_type": "markdown",
      "source": [
        "O tipo dos elementos de um `ndarray` pode ser acessado por meio do atributo `dtype`"
      ]
    },
    {
      "metadata": {
        "id": "SO5efaoTZuh7",
        "colab_type": "code",
        "outputId": "3b71de46-288b-4bb9-80ae-5f09e8d4a806",
        "colab": {
          "base_uri": "https://localhost:8080/",
          "height": 34
        }
      },
      "cell_type": "code",
      "source": [
        "print(v.dtype)"
      ],
      "execution_count": 0,
      "outputs": [
        {
          "output_type": "stream",
          "text": [
            "int64\n"
          ],
          "name": "stdout"
        }
      ]
    },
    {
      "metadata": {
        "id": "6h1xJyKoZ4Gy",
        "colab_type": "text"
      },
      "cell_type": "markdown",
      "source": [
        "Neste caso, ao criar o vetor, o tipo *default* assumido foi `int64`, mas o tipo desejado pode ser especificado na criação do tensor:"
      ]
    },
    {
      "metadata": {
        "id": "QMbt9IyYaLtM",
        "colab_type": "code",
        "outputId": "d3b69f0e-9e3c-4ecd-b7c0-cc56a1bdff2c",
        "colab": {
          "base_uri": "https://localhost:8080/",
          "height": 34
        }
      },
      "cell_type": "code",
      "source": [
        "v = np.array([1,2,3,4], dtype='float64')\n",
        "print(v.dtype)"
      ],
      "execution_count": 0,
      "outputs": [
        {
          "output_type": "stream",
          "text": [
            "float64\n"
          ],
          "name": "stdout"
        }
      ]
    },
    {
      "metadata": {
        "id": "B5qT6IFZdHOK",
        "colab_type": "text"
      },
      "cell_type": "markdown",
      "source": [
        "No caso, se utilizarmos números com pontos decimais, o tipo será automaticamente `float`:"
      ]
    },
    {
      "metadata": {
        "id": "0oMT87yqdNxo",
        "colab_type": "code",
        "outputId": "5c6a1c60-58c5-4fef-fbd3-3dd966fa6dab",
        "colab": {
          "base_uri": "https://localhost:8080/",
          "height": 34
        }
      },
      "cell_type": "code",
      "source": [
        "v = np.array([1.0,2.0,3.0,4.0])\n",
        "print(v.dtype)"
      ],
      "execution_count": 0,
      "outputs": [
        {
          "output_type": "stream",
          "text": [
            "float64\n"
          ],
          "name": "stdout"
        }
      ]
    },
    {
      "metadata": {
        "id": "67KByuuNbOiZ",
        "colab_type": "text"
      },
      "cell_type": "markdown",
      "source": [
        "Os tensores NumPy também possuem um atributo chamado `shape`. Esse atributo indica a forma do tensor, por exemplo:"
      ]
    },
    {
      "metadata": {
        "id": "3nVjxdR7bcV5",
        "colab_type": "code",
        "outputId": "d213bf73-3de4-495c-d42e-dc2c906af44c",
        "colab": {
          "base_uri": "https://localhost:8080/",
          "height": 34
        }
      },
      "cell_type": "code",
      "source": [
        "print(v.shape)"
      ],
      "execution_count": 0,
      "outputs": [
        {
          "output_type": "stream",
          "text": [
            "(4,)\n"
          ],
          "name": "stdout"
        }
      ]
    },
    {
      "metadata": {
        "id": "noxoGPhCbg3B",
        "colab_type": "text"
      },
      "cell_type": "markdown",
      "source": [
        "Neste caso, o tensor `v` possui 1 dimensão (ou eixo) com 4 elementos. Um tensor unidimensional corresponde a um vetor. Podemos também criar um tensor bidimensional (uma matriz) usando o atributo `shape`:\n"
      ]
    },
    {
      "metadata": {
        "id": "DBCVBk2vcUAH",
        "colab_type": "code",
        "outputId": "9a6994a2-91c1-47b6-c235-4e2f52b61c51",
        "colab": {
          "base_uri": "https://localhost:8080/",
          "height": 51
        }
      },
      "cell_type": "code",
      "source": [
        "v = np.array([1,2,3,4])\n",
        "v.shape = (2,2)\n",
        "print(v)"
      ],
      "execution_count": 0,
      "outputs": [
        {
          "output_type": "stream",
          "text": [
            "[[1 2]\n",
            " [3 4]]\n"
          ],
          "name": "stdout"
        }
      ]
    },
    {
      "metadata": {
        "id": "DLOuNcNPczIf",
        "colab_type": "text"
      },
      "cell_type": "markdown",
      "source": [
        "Outra forma útil de mudar o shape de um tensor é simplesmente utilizando a função reshape:"
      ]
    },
    {
      "metadata": {
        "id": "gpJ53kTUc2Mx",
        "colab_type": "code",
        "outputId": "5597074c-ece0-4036-ee32-c729d7e32bd9",
        "colab": {
          "base_uri": "https://localhost:8080/",
          "height": 51
        }
      },
      "cell_type": "code",
      "source": [
        "v = np.array([1,2,3,4]).reshape(2,2)\n",
        "print(v)"
      ],
      "execution_count": 0,
      "outputs": [
        {
          "output_type": "stream",
          "text": [
            "[[1 2]\n",
            " [3 4]]\n"
          ],
          "name": "stdout"
        }
      ]
    },
    {
      "metadata": {
        "id": "MndEPD7beNfy",
        "colab_type": "text"
      },
      "cell_type": "markdown",
      "source": [
        "O número de eixos (ou dimensões) de um tensor é dado pelo atributo `ndim`, enquanto o número total de elementos é dado por `size`:"
      ]
    },
    {
      "metadata": {
        "id": "d6ghGc-MfTFT",
        "colab_type": "code",
        "outputId": "7465004a-15d8-4be8-e0ed-c6a0a6c0ef20",
        "colab": {
          "base_uri": "https://localhost:8080/",
          "height": 272
        }
      },
      "cell_type": "code",
      "source": [
        "v = np.array(range(50)).reshape(2,5,5)\n",
        "\n",
        "print('Shape = ', v.shape)\n",
        "print('Número de dimensões = ', v.ndim)\n",
        "print('Número de elementos = ', v.size)\n",
        "print('Tensor v = \\n', v)"
      ],
      "execution_count": 0,
      "outputs": [
        {
          "output_type": "stream",
          "text": [
            "Shape =  (2, 5, 5)\n",
            "Número de dimensões =  3\n",
            "Número de elementos =  50\n",
            "Tensor v = \n",
            " [[[ 0  1  2  3  4]\n",
            "  [ 5  6  7  8  9]\n",
            "  [10 11 12 13 14]\n",
            "  [15 16 17 18 19]\n",
            "  [20 21 22 23 24]]\n",
            "\n",
            " [[25 26 27 28 29]\n",
            "  [30 31 32 33 34]\n",
            "  [35 36 37 38 39]\n",
            "  [40 41 42 43 44]\n",
            "  [45 46 47 48 49]]]\n"
          ],
          "name": "stdout"
        }
      ]
    },
    {
      "metadata": {
        "id": "6AQC8WECuHP3",
        "colab_type": "text"
      },
      "cell_type": "markdown",
      "source": [
        "As funções `zeros`, `ones` e `diag` são muito convenientes para a criação de tensores:"
      ]
    },
    {
      "metadata": {
        "id": "hxNc71OCuPJm",
        "colab_type": "code",
        "outputId": "a3eb91d9-4842-420f-cb4b-a8ac14e728d9",
        "colab": {
          "base_uri": "https://localhost:8080/",
          "height": 221
        }
      },
      "cell_type": "code",
      "source": [
        "V = np.zeros((3,3))\n",
        "print('V = \\n', V)\n",
        "U = np.ones((3,3))\n",
        "print('U = \\n', U)\n",
        "D = np.diag([10, 10, 10])\n",
        "print('D = \\n', D)"
      ],
      "execution_count": 0,
      "outputs": [
        {
          "output_type": "stream",
          "text": [
            "V = \n",
            " [[0. 0. 0.]\n",
            " [0. 0. 0.]\n",
            " [0. 0. 0.]]\n",
            "U = \n",
            " [[1. 1. 1.]\n",
            " [1. 1. 1.]\n",
            " [1. 1. 1.]]\n",
            "D = \n",
            " [[10  0  0]\n",
            " [ 0 10  0]\n",
            " [ 0  0 10]]\n"
          ],
          "name": "stdout"
        }
      ]
    },
    {
      "metadata": {
        "id": "Jvj19gEtwSBW",
        "colab_type": "text"
      },
      "cell_type": "markdown",
      "source": [
        "As funções arange e linspace permitem a criação de sequências como tensores NumPy:"
      ]
    },
    {
      "metadata": {
        "id": "JzQ1mgjfpS-g",
        "colab_type": "code",
        "outputId": "7a24a90a-12ec-459b-e8b1-e33e12fea4f9",
        "colab": {
          "base_uri": "https://localhost:8080/",
          "height": 68
        }
      },
      "cell_type": "code",
      "source": [
        "v = np.arange(0, 5, 0.5)\n",
        "u = np.linspace(0, 5, 10)\n",
        "print(\"v =\", v)\n",
        "print(\"u =\", u)"
      ],
      "execution_count": 0,
      "outputs": [
        {
          "output_type": "stream",
          "text": [
            "v = [0.  0.5 1.  1.5 2.  2.5 3.  3.5 4.  4.5]\n",
            "u = [0.         0.55555556 1.11111111 1.66666667 2.22222222 2.77777778\n",
            " 3.33333333 3.88888889 4.44444444 5.        ]\n"
          ],
          "name": "stdout"
        }
      ]
    },
    {
      "metadata": {
        "id": "7pqHqPzGYpDO",
        "colab_type": "text"
      },
      "cell_type": "markdown",
      "source": [
        "## Indexação de tensores\n",
        "\n",
        "O acesso aos elementos de um tensor pode ser feito utilizando colchetes e o índice do elemento:"
      ]
    },
    {
      "metadata": {
        "id": "wvBHKxJfZTHS",
        "colab_type": "code",
        "outputId": "9248c920-e57b-4f0f-dd9c-cadeebdbe50a",
        "colab": {
          "base_uri": "https://localhost:8080/",
          "height": 34
        }
      },
      "cell_type": "code",
      "source": [
        "print(v[1])"
      ],
      "execution_count": 0,
      "outputs": [
        {
          "output_type": "stream",
          "text": [
            "0.5\n"
          ],
          "name": "stdout"
        }
      ]
    },
    {
      "metadata": {
        "id": "09IGj904qBEy",
        "colab_type": "text"
      },
      "cell_type": "markdown",
      "source": [
        "Tensores com rank maior ou igual a 2, por exemplo, acessar o elemento com índice 0 no primeiro eixo e índice 1 no segundo eixo:"
      ]
    },
    {
      "metadata": {
        "id": "K6q0VUOkZouY",
        "colab_type": "code",
        "outputId": "b4339fb8-636d-41f5-a908-861461b67472",
        "colab": {
          "base_uri": "https://localhost:8080/",
          "height": 34
        }
      },
      "cell_type": "code",
      "source": [
        "v = np.array([10, 20, 30, 40]).reshape(2,2)\n",
        "print(v[0,1])"
      ],
      "execution_count": 0,
      "outputs": [
        {
          "output_type": "stream",
          "text": [
            "20\n"
          ],
          "name": "stdout"
        }
      ]
    },
    {
      "metadata": {
        "id": "_SbKgNJHZabL",
        "colab_type": "text"
      },
      "cell_type": "markdown",
      "source": [
        "Tensor de rank 3:"
      ]
    },
    {
      "metadata": {
        "id": "x0g26pAZaB2D",
        "colab_type": "code",
        "outputId": "7fa12dac-366f-4b10-eef6-8503c9be5931",
        "colab": {
          "base_uri": "https://localhost:8080/",
          "height": 153
        }
      },
      "cell_type": "code",
      "source": [
        "v = np.arange(8).reshape(2,2,2)\n",
        "print(\"v =\\n\", v)\n",
        "print(\"\\n v[0,0,1] =\", v[0,0,1])"
      ],
      "execution_count": 0,
      "outputs": [
        {
          "output_type": "stream",
          "text": [
            "v =\n",
            " [[[0 1]\n",
            "  [2 3]]\n",
            "\n",
            " [[4 5]\n",
            "  [6 7]]]\n",
            "\n",
            " v[0,0,1] = 1\n"
          ],
          "name": "stdout"
        }
      ]
    },
    {
      "metadata": {
        "id": "NjGAIQj6azC4",
        "colab_type": "text"
      },
      "cell_type": "markdown",
      "source": [
        "Subtensores contíguos de um tensor podem ser acessados utilizando o operador \" : \". Note que neste caso o NumPy não faz uma cópia dos dados, mas apenas cria uma *view* dos dados:"
      ]
    },
    {
      "metadata": {
        "id": "J2hlZl4YbLEM",
        "colab_type": "code",
        "outputId": "c028bf89-0c3b-4ec3-a592-afd1dfade759",
        "colab": {
          "base_uri": "https://localhost:8080/",
          "height": 34
        }
      },
      "cell_type": "code",
      "source": [
        "v = np.arange(10)\n",
        "u = v[1:3]\n",
        "print(u)"
      ],
      "execution_count": 0,
      "outputs": [
        {
          "output_type": "stream",
          "text": [
            "[1 2]\n"
          ],
          "name": "stdout"
        }
      ]
    },
    {
      "metadata": {
        "id": "-X2mznPqbcEX",
        "colab_type": "text"
      },
      "cell_type": "markdown",
      "source": [
        "No caso de uma matriz (um tensor de rank 2), pode-se acessar submatrizes:"
      ]
    },
    {
      "metadata": {
        "id": "nTUQEHhWbbo5",
        "colab_type": "code",
        "outputId": "9da31dd8-f905-4ea3-a9ee-ad0675b272ee",
        "colab": {
          "base_uri": "https://localhost:8080/",
          "height": 68
        }
      },
      "cell_type": "code",
      "source": [
        "A = np.arange(15).reshape(3,5)\n",
        "print(A)"
      ],
      "execution_count": 0,
      "outputs": [
        {
          "output_type": "stream",
          "text": [
            "[[ 0  1  2  3  4]\n",
            " [ 5  6  7  8  9]\n",
            " [10 11 12 13 14]]\n"
          ],
          "name": "stdout"
        }
      ]
    },
    {
      "metadata": {
        "id": "Pmjr-m8ccBKZ",
        "colab_type": "text"
      },
      "cell_type": "markdown",
      "source": [
        "Vamos selecionar somente a submatriz correspondente às linhas 0 e 1, e colunas 2 e 3:"
      ]
    },
    {
      "metadata": {
        "id": "0zYLkmgdcO64",
        "colab_type": "code",
        "outputId": "ea743284-432d-444f-f1b1-11ad41e5bef0",
        "colab": {
          "base_uri": "https://localhost:8080/",
          "height": 51
        }
      },
      "cell_type": "code",
      "source": [
        "subA = A[0:2, 2:4]\n",
        "print(subA)"
      ],
      "execution_count": 0,
      "outputs": [
        {
          "output_type": "stream",
          "text": [
            "[[2 3]\n",
            " [7 8]]\n"
          ],
          "name": "stdout"
        }
      ]
    },
    {
      "metadata": {
        "id": "u0C2yO-f8QnK",
        "colab_type": "text"
      },
      "cell_type": "markdown",
      "source": [
        "A indexação pode ser realiza também passando uma lista ou outro tensor que contém os índices dos elementos que queremos selecionar, por exemplo, abaixo queremos selecionar somente os elementos com índice 2 e 3. Observe que, neste caso, o tensor v resultante é um novo objeto criado a partir do tensor u e alocado na memória. Ocorre cópia dos dados.\n",
        "\n",
        "---\n",
        "\n"
      ]
    },
    {
      "metadata": {
        "id": "bMfs0Coy8Z5Y",
        "colab_type": "code",
        "outputId": "29e321ed-3710-4603-e23e-11716c51f43a",
        "colab": {
          "base_uri": "https://localhost:8080/",
          "height": 34
        }
      },
      "cell_type": "code",
      "source": [
        "u = np.array([2.0, 3.5, 4.0, -10.1])\n",
        "v = u[[2,3]]\n",
        "print(v)"
      ],
      "execution_count": 0,
      "outputs": [
        {
          "output_type": "stream",
          "text": [
            "[  4.  -10.1]\n"
          ],
          "name": "stdout"
        }
      ]
    },
    {
      "metadata": {
        "id": "njVFR6y79mub",
        "colab_type": "text"
      },
      "cell_type": "markdown",
      "source": [
        "Filtrando as colunas 2 e 4 de uma matriz:"
      ]
    },
    {
      "metadata": {
        "id": "uRMLAXtu9wWe",
        "colab_type": "code",
        "outputId": "1e422223-31de-45ed-dbad-aeff8a9396cb",
        "colab": {
          "base_uri": "https://localhost:8080/",
          "height": 119
        }
      },
      "cell_type": "code",
      "source": [
        "A = np.arange(10).reshape(2,5)\n",
        "B = A[:, [2,4]]\n",
        "print(\"A =\\n\", A)\n",
        "print(\"B =\\n\", B)"
      ],
      "execution_count": 0,
      "outputs": [
        {
          "output_type": "stream",
          "text": [
            "A =\n",
            " [[0 1 2 3 4]\n",
            " [5 6 7 8 9]]\n",
            "B =\n",
            " [[2 4]\n",
            " [7 9]]\n"
          ],
          "name": "stdout"
        }
      ]
    },
    {
      "metadata": {
        "id": "R6NilUlAwDRL",
        "colab_type": "text"
      },
      "cell_type": "markdown",
      "source": [
        "## Operações sobre tensores\n",
        "\n",
        "\n",
        "---\n",
        "\n"
      ]
    },
    {
      "metadata": {
        "id": "JafHKqHJqT4L",
        "colab_type": "text"
      },
      "cell_type": "markdown",
      "source": [
        "As operações sobre tensores NumPy são realizada elemento a elemento, por exemplo:"
      ]
    },
    {
      "metadata": {
        "id": "dsnrgcdmqmCa",
        "colab_type": "code",
        "outputId": "15d8adf2-3c97-4145-c88e-5b76f75db046",
        "colab": {
          "base_uri": "https://localhost:8080/",
          "height": 34
        }
      },
      "cell_type": "code",
      "source": [
        "v = np.array([10,20,30])\n",
        "u = np.array([2,2,2])\n",
        "w = u+v\n",
        "print(w)"
      ],
      "execution_count": 0,
      "outputs": [
        {
          "output_type": "stream",
          "text": [
            "[12 22 32]\n"
          ],
          "name": "stdout"
        }
      ]
    },
    {
      "metadata": {
        "id": "-r_KzvntraQ0",
        "colab_type": "text"
      },
      "cell_type": "markdown",
      "source": [
        "Note que no caso dos operadores * e / a operação também ocorre elemento a elemento:"
      ]
    },
    {
      "metadata": {
        "id": "FA2fJCk4runZ",
        "colab_type": "code",
        "outputId": "dbddea34-8712-467e-aab2-451556ca0848",
        "colab": {
          "base_uri": "https://localhost:8080/",
          "height": 51
        }
      },
      "cell_type": "code",
      "source": [
        "w = u*v\n",
        "print(\"w =\", w)\n",
        "x = u/v\n",
        "print(\"x =\", x)"
      ],
      "execution_count": 0,
      "outputs": [
        {
          "output_type": "stream",
          "text": [
            "w = [20 40 60]\n",
            "x = [0.2        0.1        0.06666667]\n"
          ],
          "name": "stdout"
        }
      ]
    },
    {
      "metadata": {
        "id": "C2A_D2OF1sb9",
        "colab_type": "text"
      },
      "cell_type": "markdown",
      "source": [
        "Elevar todos os elementos de um vetor a uma potência:"
      ]
    },
    {
      "metadata": {
        "id": "8Pxd95kW1xkN",
        "colab_type": "code",
        "outputId": "01a94839-34af-4b2c-cf1c-ab282f34cb1f",
        "colab": {
          "base_uri": "https://localhost:8080/",
          "height": 34
        }
      },
      "cell_type": "code",
      "source": [
        "x = np.array([10, 20])\n",
        "y = x**2\n",
        "print(y)"
      ],
      "execution_count": 0,
      "outputs": [
        {
          "output_type": "stream",
          "text": [
            "[100 400]\n"
          ],
          "name": "stdout"
        }
      ]
    },
    {
      "metadata": {
        "id": "an525xms4jMa",
        "colab_type": "text"
      },
      "cell_type": "markdown",
      "source": [
        "Alguns operadores unários como a média, menor valor, maior valor, etc possuem funções específicas:"
      ]
    },
    {
      "metadata": {
        "id": "Lm_kGVAJ4xOK",
        "colab_type": "code",
        "outputId": "dc6d6081-58c8-4491-89ed-b112308e71f3",
        "colab": {
          "base_uri": "https://localhost:8080/",
          "height": 68
        }
      },
      "cell_type": "code",
      "source": [
        "x = np.arange(10)\n",
        "media = x.mean()\n",
        "menor_valor = np.min(x)\n",
        "arg_max = np.argmax(x)\n",
        "print(\"Média =\", media)\n",
        "print(\"Menor valor =\", menor_valor)\n",
        "print(\"Arg max =\", arg_max)"
      ],
      "execution_count": 0,
      "outputs": [
        {
          "output_type": "stream",
          "text": [
            "Média = 4.5\n",
            "Menor valor = 0\n",
            "Arg max = 9\n"
          ],
          "name": "stdout"
        }
      ]
    },
    {
      "metadata": {
        "id": "5GnytAyG5LaN",
        "colab_type": "text"
      },
      "cell_type": "markdown",
      "source": [
        "Em tensores com rank maior ou igual a 2 pode-se identifcar o eixo em que se deseja aplicar as funções min, max, etc. Caso o eixo não seja especificado, a funções retornará o menor/maior valor entre todos incluindo todos os eixos:"
      ]
    },
    {
      "metadata": {
        "id": "DSw-nQKS51ET",
        "colab_type": "code",
        "outputId": "eae68e26-b2ae-4913-f81c-ad4378143801",
        "colab": {
          "base_uri": "https://localhost:8080/",
          "height": 102
        }
      },
      "cell_type": "code",
      "source": [
        "A = np.array([10, 30, 40, 20]).reshape(2,2)\n",
        "menor= A.min()\n",
        "menor_colunas = A.min(axis=0)\n",
        "print(\"A = \\n\", A)\n",
        "print(\"Menor valor = \", menor)\n",
        "print(\"Menor valor em cada coluna =\", menor_colunas)"
      ],
      "execution_count": 0,
      "outputs": [
        {
          "output_type": "stream",
          "text": [
            "A = \n",
            " [[10 30]\n",
            " [40 20]]\n",
            "Menor valor =  10\n",
            "Menor valor em cada coluna = [10 20]\n"
          ],
          "name": "stdout"
        }
      ]
    },
    {
      "metadata": {
        "id": "xz94sAsKsGsq",
        "colab_type": "text"
      },
      "cell_type": "markdown",
      "source": [
        "A operação de produto interno (ou produto escalar) pode ser realizada pela função `dot`:"
      ]
    },
    {
      "metadata": {
        "id": "K30DvjHZsUET",
        "colab_type": "code",
        "outputId": "38e2a5af-b261-47bf-93ab-805f7f10f8b8",
        "colab": {
          "base_uri": "https://localhost:8080/",
          "height": 51
        }
      },
      "cell_type": "code",
      "source": [
        "w = np.dot(u, v)\n",
        "print(\"w =\", w)\n",
        "\n",
        "x = u.dot(v)\n",
        "print(\"x =\", x)"
      ],
      "execution_count": 0,
      "outputs": [
        {
          "output_type": "stream",
          "text": [
            "w = 120\n",
            "x = 120\n"
          ],
          "name": "stdout"
        }
      ]
    },
    {
      "metadata": {
        "id": "C0D_ik69W4Z6",
        "colab_type": "text"
      },
      "cell_type": "markdown",
      "source": [
        "Multiplicação de um escalar por um vetor:"
      ]
    },
    {
      "metadata": {
        "id": "owY8HcjfW3aC",
        "colab_type": "code",
        "outputId": "a96318ac-d6ca-49f9-8261-35781bad82da",
        "colab": {
          "base_uri": "https://localhost:8080/",
          "height": 51
        }
      },
      "cell_type": "code",
      "source": [
        "print(\"w =\", w)\n",
        "x = 10*w\n",
        "print(\"x =\", x)"
      ],
      "execution_count": 0,
      "outputs": [
        {
          "output_type": "stream",
          "text": [
            "w = 120\n",
            "x = 1200\n"
          ],
          "name": "stdout"
        }
      ]
    },
    {
      "metadata": {
        "id": "JwyJGwDxEfNj",
        "colab_type": "text"
      },
      "cell_type": "markdown",
      "source": [
        "Um erro muito comum no uso do NumPy é não explorar sua eficiência computacional por meio das operações vetoriais. Dentro do possível, deve-se sempre organizar implementação de um algoritmo utilizando somente operações sobre tensores. Por exemplo, abaixo é feita a comparação entre o tempo computacional em usar a operação `dot` e uma implementação da mesma operação utilizando loops:"
      ]
    },
    {
      "metadata": {
        "id": "Yccxb0XDFIvT",
        "colab_type": "code",
        "outputId": "af83ac8a-c6df-451f-b13d-d7cd888c0ff0",
        "colab": {
          "base_uri": "https://localhost:8080/",
          "height": 68
        }
      },
      "cell_type": "code",
      "source": [
        "def produto_interno(u, v):\n",
        "  \n",
        "  prod = 0\n",
        "  \n",
        "  for i in range(u.size):\n",
        "    prod+=u[i]*v[i]\n",
        "    \n",
        "  return prod\n",
        "\n",
        "u = np.random.rand(10000)\n",
        "v = np.random.rand(10000)\n",
        "\n",
        "%timeit produto_interno(u,v)\n",
        "%timeit np.dot(u,v)"
      ],
      "execution_count": 0,
      "outputs": [
        {
          "output_type": "stream",
          "text": [
            "100 loops, best of 3: 3.24 ms per loop\n",
            "The slowest run took 15.66 times longer than the fastest. This could mean that an intermediate result is being cached.\n",
            "100000 loops, best of 3: 3.56 µs per loop\n"
          ],
          "name": "stdout"
        }
      ]
    },
    {
      "metadata": {
        "id": "WWKRVuHLYjGr",
        "colab_type": "text"
      },
      "cell_type": "markdown",
      "source": [
        "Observe que a operação `dot` é muito mais rápida. Isso ocorre porque a operação `dot` é implementada em linguagem C e realiza a operação de maneira vetorizada."
      ]
    },
    {
      "metadata": {
        "id": "k1Obs5hXXewy",
        "colab_type": "text"
      },
      "cell_type": "markdown",
      "source": [
        "## Matrizes\n",
        "\n",
        "Em NumPy, matrizes são tensores com 2 dimensões (tensores de rank 2). Embora exista um objeto `matrix`, em geral é mais prático tratar matrizes como tensores de rank 2:"
      ]
    },
    {
      "metadata": {
        "id": "juwF0cjsYbjz",
        "colab_type": "code",
        "outputId": "7b3a29ce-8ea6-417d-c068-3c9e650f0952",
        "colab": {
          "base_uri": "https://localhost:8080/",
          "height": 51
        }
      },
      "cell_type": "code",
      "source": [
        "A = np.array([[10, 20], [30, 40]])\n",
        "print(A)"
      ],
      "execution_count": 0,
      "outputs": [
        {
          "output_type": "stream",
          "text": [
            "[[10 20]\n",
            " [30 40]]\n"
          ],
          "name": "stdout"
        }
      ]
    },
    {
      "metadata": {
        "id": "AqlxtEjkqPTz",
        "colab_type": "text"
      },
      "cell_type": "markdown",
      "source": [
        "Criar uma matriz identidade:"
      ]
    },
    {
      "metadata": {
        "id": "ynq-VGzIdmWc",
        "colab_type": "code",
        "outputId": "4fa4331e-3c07-43f2-dbea-b65fa6c546b6",
        "colab": {
          "base_uri": "https://localhost:8080/",
          "height": 102
        }
      },
      "cell_type": "code",
      "source": [
        "I = np.eye(5)\n",
        "print(I)"
      ],
      "execution_count": 0,
      "outputs": [
        {
          "output_type": "stream",
          "text": [
            "[[1. 0. 0. 0. 0.]\n",
            " [0. 1. 0. 0. 0.]\n",
            " [0. 0. 1. 0. 0.]\n",
            " [0. 0. 0. 1. 0.]\n",
            " [0. 0. 0. 0. 1.]]\n"
          ],
          "name": "stdout"
        }
      ]
    },
    {
      "metadata": {
        "id": "EpTskAk-gUi4",
        "colab_type": "text"
      },
      "cell_type": "markdown",
      "source": [
        "Matrizes diagonais:"
      ]
    },
    {
      "metadata": {
        "id": "5uM9cpCoguu2",
        "colab_type": "code",
        "outputId": "f26d80a7-0c30-4074-9b87-7438426dae6d",
        "colab": {
          "base_uri": "https://localhost:8080/",
          "height": 102
        }
      },
      "cell_type": "code",
      "source": [
        "D = np.diag(np.arange(5))\n",
        "print(D)"
      ],
      "execution_count": 0,
      "outputs": [
        {
          "output_type": "stream",
          "text": [
            "[[0 0 0 0 0]\n",
            " [0 1 0 0 0]\n",
            " [0 0 2 0 0]\n",
            " [0 0 0 3 0]\n",
            " [0 0 0 0 4]]\n"
          ],
          "name": "stdout"
        }
      ]
    },
    {
      "metadata": {
        "id": "CXQISAWyhKrC",
        "colab_type": "text"
      },
      "cell_type": "markdown",
      "source": [
        "## Operações sobre matrizes\n",
        "\n",
        "Multilplicação de vetores e matrizes é realizada por meio da função `dot`:"
      ]
    },
    {
      "metadata": {
        "id": "K1ToFX4TmkNU",
        "colab_type": "code",
        "outputId": "2301627f-c043-4246-f715-c5a73fd8b63d",
        "colab": {
          "base_uri": "https://localhost:8080/",
          "height": 34
        }
      },
      "cell_type": "code",
      "source": [
        "v = np.array([10, 10])\n",
        "A = np.arange(4).reshape(2,2)\n",
        "u = A.dot(v)\n",
        "print(u)"
      ],
      "execution_count": 0,
      "outputs": [
        {
          "output_type": "stream",
          "text": [
            "[10 50]\n"
          ],
          "name": "stdout"
        }
      ]
    },
    {
      "metadata": {
        "id": "IAPTOIltoDwo",
        "colab_type": "text"
      },
      "cell_type": "markdown",
      "source": [
        "Multiplicação de matrizes:"
      ]
    },
    {
      "metadata": {
        "id": "K_YImIu3oGI8",
        "colab_type": "code",
        "outputId": "713a66ef-cf9a-48ad-e183-3d7c63dcf2d0",
        "colab": {
          "base_uri": "https://localhost:8080/",
          "height": 51
        }
      },
      "cell_type": "code",
      "source": [
        "A = np.ones((2,2))\n",
        "B = 10*np.ones((2,2))\n",
        "C= np.dot(A,B)\n",
        "print(C)"
      ],
      "execution_count": 0,
      "outputs": [
        {
          "output_type": "stream",
          "text": [
            "[[20. 20.]\n",
            " [20. 20.]]\n"
          ],
          "name": "stdout"
        }
      ]
    },
    {
      "metadata": {
        "id": "EBwKaPSF2sLs",
        "colab_type": "text"
      },
      "cell_type": "markdown",
      "source": [
        "A multiplicação de matrizes também pode ser realizada por meio do operador @:"
      ]
    },
    {
      "metadata": {
        "id": "DXSSIDNu2xgg",
        "colab_type": "code",
        "outputId": "101ecb05-357c-42c8-d616-38c9f12e4589",
        "colab": {
          "base_uri": "https://localhost:8080/",
          "height": 51
        }
      },
      "cell_type": "code",
      "source": [
        "C = A @ B\n",
        "print(C)"
      ],
      "execution_count": 0,
      "outputs": [
        {
          "output_type": "stream",
          "text": [
            "[[20. 20.]\n",
            " [20. 20.]]\n"
          ],
          "name": "stdout"
        }
      ]
    },
    {
      "metadata": {
        "id": "qzAth7z7o7WO",
        "colab_type": "text"
      },
      "cell_type": "markdown",
      "source": [
        "Transposição de matrizes pode ser feita com a função `transpose` ou simplesmente com a letra \" `T` \":"
      ]
    },
    {
      "metadata": {
        "id": "bFM3eZRao60Z",
        "colab_type": "code",
        "outputId": "8cce19f0-196c-4b18-98d6-ee3df6479e70",
        "colab": {
          "base_uri": "https://localhost:8080/",
          "height": 119
        }
      },
      "cell_type": "code",
      "source": [
        "A = np.arange(4).reshape(2,2)\n",
        "print(\"Transposta de A =\\n\", A.transpose())\n",
        "print(\"Transposta de A =\\n\", A.T)"
      ],
      "execution_count": 0,
      "outputs": [
        {
          "output_type": "stream",
          "text": [
            "Transposta de A =\n",
            " [[0 2]\n",
            " [1 3]]\n",
            "Transposta de A =\n",
            " [[0 2]\n",
            " [1 3]]\n"
          ],
          "name": "stdout"
        }
      ]
    },
    {
      "metadata": {
        "id": "Vbw5FgTXrqiM",
        "colab_type": "text"
      },
      "cell_type": "markdown",
      "source": [
        "## Funções universais\n",
        "\n",
        "O NumPy oferece diversas funções matemáticas clássicas, como exponencial, logaritmo, etc. Essas funções são aplicadas a todos os elementos de um tensor. Exemplo de aplicação da função exponencial:"
      ]
    },
    {
      "metadata": {
        "id": "QmBUZX_6qeAC",
        "colab_type": "code",
        "outputId": "1ad2f12e-bf96-4664-9c90-6d501aa7d5fb",
        "colab": {
          "base_uri": "https://localhost:8080/",
          "height": 34
        }
      },
      "cell_type": "code",
      "source": [
        "u = np.arange(5)\n",
        "v = np.exp(u)\n",
        "print(v)"
      ],
      "execution_count": 0,
      "outputs": [
        {
          "output_type": "stream",
          "text": [
            "[ 1.          2.71828183  7.3890561  20.08553692 54.59815003]\n"
          ],
          "name": "stdout"
        }
      ]
    },
    {
      "metadata": {
        "id": "1_0iSQ5pZKNW",
        "colab_type": "text"
      },
      "cell_type": "markdown",
      "source": [
        "Função seno:"
      ]
    },
    {
      "metadata": {
        "id": "t_sMO44SDSKZ",
        "colab_type": "code",
        "outputId": "3b31b475-94d2-4ff3-d579-8bd868c202db",
        "colab": {
          "base_uri": "https://localhost:8080/",
          "height": 34
        }
      },
      "cell_type": "code",
      "source": [
        "v = np.sin(u)\n",
        "print(v)"
      ],
      "execution_count": 0,
      "outputs": [
        {
          "output_type": "stream",
          "text": [
            "[ 0.          0.84147098  0.90929743  0.14112001 -0.7568025 ]\n"
          ],
          "name": "stdout"
        }
      ]
    },
    {
      "metadata": {
        "id": "agq52NgH7FMF",
        "colab_type": "text"
      },
      "cell_type": "markdown",
      "source": [
        "##Operadores lógicos\n",
        "\n",
        "As operações lógicas entre tensores ocorrem elemento a elemento. O resultado da operação é um tensor booleano com valores `True` ou `False` que indicam se a condição lógica é verdadeira ou falsa:"
      ]
    },
    {
      "metadata": {
        "id": "C38F0AfI7Ylt",
        "colab_type": "code",
        "outputId": "48fa542e-c144-4cd0-9421-cc0f43a0b489",
        "colab": {
          "base_uri": "https://localhost:8080/",
          "height": 51
        }
      },
      "cell_type": "code",
      "source": [
        "u = np.arange(4).reshape(2,2)\n",
        "v = 2*np.ones((2,2))\n",
        "w = u > v\n",
        "print(w)"
      ],
      "execution_count": 0,
      "outputs": [
        {
          "output_type": "stream",
          "text": [
            "[[False False]\n",
            " [False  True]]\n"
          ],
          "name": "stdout"
        }
      ]
    },
    {
      "metadata": {
        "id": "Txd0NUEo8C1Y",
        "colab_type": "text"
      },
      "cell_type": "markdown",
      "source": [
        "Os tensores booleanos podem ser usados para filtrar valores em um tensor, por exemplo:"
      ]
    },
    {
      "metadata": {
        "id": "lWRzG4CW-RM0",
        "colab_type": "code",
        "outputId": "5dab6214-f636-4c06-f3d5-4439bcbb015a",
        "colab": {
          "base_uri": "https://localhost:8080/",
          "height": 34
        }
      },
      "cell_type": "code",
      "source": [
        "u = np.array([-1, 2, -3])\n",
        "v = np.array([True, False, True])\n",
        "print(u[v])"
      ],
      "execution_count": 0,
      "outputs": [
        {
          "output_type": "stream",
          "text": [
            "[-1 -3]\n"
          ],
          "name": "stdout"
        }
      ]
    },
    {
      "metadata": {
        "id": "h53LsMpi-2yK",
        "colab_type": "text"
      },
      "cell_type": "markdown",
      "source": [
        "Note que podemos obter o mesmo efeito anterior de filtrar somente os valores negativos fazendo:"
      ]
    },
    {
      "metadata": {
        "id": "R0i-OoCw-_lM",
        "colab_type": "code",
        "outputId": "0638878e-3163-4866-9fed-264c9af0f0d6",
        "colab": {
          "base_uri": "https://localhost:8080/",
          "height": 34
        }
      },
      "cell_type": "code",
      "source": [
        "w = u[u < 0]\n",
        "print(w)"
      ],
      "execution_count": 0,
      "outputs": [
        {
          "output_type": "stream",
          "text": [
            "[-1 -3]\n"
          ],
          "name": "stdout"
        }
      ]
    },
    {
      "metadata": {
        "id": "cNl_BvwO_Itd",
        "colab_type": "text"
      },
      "cell_type": "markdown",
      "source": [
        "E podemos também atribuir um valor específico aos elementos de um tensor que satisfazem uma certa condições, por exemplo zerar todos os valores negativos:"
      ]
    },
    {
      "metadata": {
        "id": "GPwTLQB4_ROj",
        "colab_type": "code",
        "outputId": "52a1a422-06f7-4660-b497-fb87687ad020",
        "colab": {
          "base_uri": "https://localhost:8080/",
          "height": 51
        }
      },
      "cell_type": "code",
      "source": [
        "print(\"u =\", u)\n",
        "u[u < 0] = 0\n",
        "print(\"u =\", u)"
      ],
      "execution_count": 0,
      "outputs": [
        {
          "output_type": "stream",
          "text": [
            "u = [-1  2 -3]\n",
            "u = [0 2 0]\n"
          ],
          "name": "stdout"
        }
      ]
    },
    {
      "metadata": {
        "id": "5BB3duuOaJg5",
        "colab_type": "text"
      },
      "cell_type": "markdown",
      "source": [
        "\n",
        "---\n",
        "\n",
        "# Geração de números aleatórios"
      ]
    },
    {
      "metadata": {
        "id": "__OPp_GfZjso",
        "colab_type": "text"
      },
      "cell_type": "markdown",
      "source": [
        "---\n",
        "\n",
        "# Álgebra Linear\n",
        "\n",
        "O NumPy possui um submódulo específico para a realização de operações típicas da álgebra linear chamado `linalg`. Com este módulo é possível resolver sistemas lineares, obter inversas de matrizes, calcular autovalores e autovetores, etc.\n",
        "\n",
        "## Solução de sistemas lineares\n",
        "\n",
        "A solução de sistemas de equações lineares do tipo $Ax = b$ pode ser realizada por meio da função `solve`:"
      ]
    },
    {
      "metadata": {
        "id": "pIfk3sYhaFK7",
        "colab_type": "code",
        "outputId": "b67bacc5-5a28-4e3e-b24e-1fac02b95a79",
        "colab": {
          "base_uri": "https://localhost:8080/",
          "height": 34
        }
      },
      "cell_type": "code",
      "source": [
        "A = np.array([10, 20, 30, 40]).reshape(2,2)\n",
        "b = np.array([5,10])\n",
        "x = np.linalg.solve(A, b)\n",
        "print(x)"
      ],
      "execution_count": 0,
      "outputs": [
        {
          "output_type": "stream",
          "text": [
            "[0.   0.25]\n"
          ],
          "name": "stdout"
        }
      ]
    },
    {
      "metadata": {
        "id": "aMNYa_S8a-rN",
        "colab_type": "text"
      },
      "cell_type": "markdown",
      "source": [
        "Caso $b =[b_1, b_2, ..., b_p]$ em que cada $b_j, j = 1, ..., p$ é um vetor coluna, a função `solve` retorna uma matriz $x = [x_1, x_2, ..., x_p]$ em que cada $x_j$  é solução do sistema linear $Ax_j = b_j$."
      ]
    },
    {
      "metadata": {
        "id": "-81UpAPOcZVy",
        "colab_type": "code",
        "outputId": "213b7f29-cef3-485c-fb9b-944b1ec327c8",
        "colab": {
          "base_uri": "https://localhost:8080/",
          "height": 119
        }
      },
      "cell_type": "code",
      "source": [
        "b1 = np.array([5, 10]).reshape(2,1)\n",
        "b2 = np.array([10, 12]).reshape(2,1)\n",
        "b = np.hstack([b1, b2])\n",
        "print(\"b =\\n\", b)\n",
        "x = np.linalg.solve(A, b)\n",
        "print(\"x =\\n\", x)"
      ],
      "execution_count": 0,
      "outputs": [
        {
          "output_type": "stream",
          "text": [
            "b =\n",
            " [[ 5 10]\n",
            " [10 12]]\n",
            "x =\n",
            " [[ 0.   -0.8 ]\n",
            " [ 0.25  0.9 ]]\n"
          ],
          "name": "stdout"
        }
      ]
    }
  ]
}