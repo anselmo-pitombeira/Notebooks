{
  "nbformat": 4,
  "nbformat_minor": 0,
  "metadata": {
    "colab": {
      "name": "Intro_ao_NumPy.ipynb",
      "version": "0.3.2",
      "provenance": [],
      "collapsed_sections": [
        "GRl0miKkTejx",
        "eQP-auD3quje",
        "7pqHqPzGYpDO",
        "R6NilUlAwDRL",
        "k1Obs5hXXewy",
        "CXQISAWyhKrC",
        "Vbw5FgTXrqiM",
        "agq52NgH7FMF",
        "5BB3duuOaJg5"
      ]
    },
    "kernelspec": {
      "name": "python3",
      "display_name": "Python 3"
    }
  },
  "cells": [
    {
      "metadata": {
        "id": "GRl0miKkTejx",
        "colab_type": "text"
      },
      "cell_type": "markdown",
      "source": [
        "# **Introdução ao NumPy**\n",
        "\n",
        "Autor: Prof. Dr. Anselmo R. Pitombeira Neto,\n",
        "OPL - Pesquisa Operacional em Produção e Logística,\n",
        "Departamento de Engenharia de Produção,\n",
        "Universidade Federal do Ceará\n",
        "\n",
        "ver 0.1\n",
        "\n",
        "---\n",
        "\n",
        "O Numerical Python (NumPy) é uma biblioteca para a linguagem Python com funções para se trabalhar com computação numérica. Seu principal objeto é o vetor n-dimensional, ou `ndarray`. Um vetor n-dimensional também é conhecido pelo nome *tensor*. A principal característica do `ndarray` é que ele deve ser homogêneo, ou seja, diferentemente do objeto lista, todos os seus elementos devem ser do mesmo tipo."
      ]
    },
    {
      "metadata": {
        "id": "eQP-auD3quje",
        "colab_type": "text"
      },
      "cell_type": "markdown",
      "source": [
        "## Criação de tensores\n",
        "\n",
        "Pode-se criar um `ndarray` passando um container como inicializador para um objeto da classe `array`:"
      ]
    },
    {
      "metadata": {
        "id": "kKbhlPsaTdct",
        "colab_type": "code",
        "outputId": "8e101db3-4b7f-4942-a7e6-40405837364e",
        "colab": {
          "base_uri": "https://localhost:8080/",
          "height": 34
        }
      },
      "cell_type": "code",
      "source": [
        "import numpy as np\n",
        "v = np.array([1,2,3,4])\n",
        "print(v)"
      ],
      "execution_count": 1,
      "outputs": [
        {
          "output_type": "stream",
          "text": [
            "[1 2 3 4]\n"
          ],
          "name": "stdout"
        }
      ]
    },
    {
      "metadata": {
        "id": "19_HvO7UXmKO",
        "colab_type": "text"
      },
      "cell_type": "markdown",
      "source": [
        "O tipo dos elementos de um `ndarray` pode ser acessado por meio do atributo `dtype`"
      ]
    },
    {
      "metadata": {
        "id": "SO5efaoTZuh7",
        "colab_type": "code",
        "outputId": "70eca8a7-a072-455d-f668-f6c73fa147b5",
        "colab": {
          "base_uri": "https://localhost:8080/",
          "height": 34
        }
      },
      "cell_type": "code",
      "source": [
        "print(v.dtype)"
      ],
      "execution_count": 2,
      "outputs": [
        {
          "output_type": "stream",
          "text": [
            "int64\n"
          ],
          "name": "stdout"
        }
      ]
    },
    {
      "metadata": {
        "id": "6h1xJyKoZ4Gy",
        "colab_type": "text"
      },
      "cell_type": "markdown",
      "source": [
        "Neste caso, ao criar o vetor, o tipo *default* assumido foi `int64`, mas o tipo desejado pode ser especificado na criação do tensor:"
      ]
    },
    {
      "metadata": {
        "id": "QMbt9IyYaLtM",
        "colab_type": "code",
        "outputId": "cc38aa08-873e-4456-ca04-138caced6fc8",
        "colab": {
          "base_uri": "https://localhost:8080/",
          "height": 34
        }
      },
      "cell_type": "code",
      "source": [
        "v = np.array([1,2,3,4], dtype='float64')\n",
        "print(v.dtype)"
      ],
      "execution_count": 3,
      "outputs": [
        {
          "output_type": "stream",
          "text": [
            "float64\n"
          ],
          "name": "stdout"
        }
      ]
    },
    {
      "metadata": {
        "id": "B5qT6IFZdHOK",
        "colab_type": "text"
      },
      "cell_type": "markdown",
      "source": [
        "No caso, se utilizarmos números com pontos decimais, o tipo será automaticamente `float`:"
      ]
    },
    {
      "metadata": {
        "id": "0oMT87yqdNxo",
        "colab_type": "code",
        "outputId": "10398f85-6535-4746-c73b-9b9fbeabdc9b",
        "colab": {
          "base_uri": "https://localhost:8080/",
          "height": 34
        }
      },
      "cell_type": "code",
      "source": [
        "v = np.array([1.0,2.0,3.0,4.0])\n",
        "print(v.dtype)"
      ],
      "execution_count": 4,
      "outputs": [
        {
          "output_type": "stream",
          "text": [
            "float64\n"
          ],
          "name": "stdout"
        }
      ]
    },
    {
      "metadata": {
        "id": "67KByuuNbOiZ",
        "colab_type": "text"
      },
      "cell_type": "markdown",
      "source": [
        "Os tensores NumPy também possuem um atributo chamado `shape`. Esse atributo indica a forma do tensor, por exemplo:"
      ]
    },
    {
      "metadata": {
        "id": "3nVjxdR7bcV5",
        "colab_type": "code",
        "outputId": "7c0e2bd3-551f-43ac-cf72-2fcded2e9df3",
        "colab": {
          "base_uri": "https://localhost:8080/",
          "height": 34
        }
      },
      "cell_type": "code",
      "source": [
        "print(v.shape)"
      ],
      "execution_count": 5,
      "outputs": [
        {
          "output_type": "stream",
          "text": [
            "(4,)\n"
          ],
          "name": "stdout"
        }
      ]
    },
    {
      "metadata": {
        "id": "noxoGPhCbg3B",
        "colab_type": "text"
      },
      "cell_type": "markdown",
      "source": [
        "Neste caso, o tensor `v` possui 1 dimensão (ou eixo) com 4 elementos. Um tensor unidimensional corresponde a um vetor. Podemos também criar um tensor bidimensional (uma matriz) usando o atributo `shape`:\n"
      ]
    },
    {
      "metadata": {
        "id": "DBCVBk2vcUAH",
        "colab_type": "code",
        "outputId": "fe944fb6-f467-4be4-dc8d-f7b133183105",
        "colab": {
          "base_uri": "https://localhost:8080/",
          "height": 51
        }
      },
      "cell_type": "code",
      "source": [
        "v = np.array([1,2,3,4])\n",
        "v.shape = (2,2)\n",
        "print(v)"
      ],
      "execution_count": 6,
      "outputs": [
        {
          "output_type": "stream",
          "text": [
            "[[1 2]\n",
            " [3 4]]\n"
          ],
          "name": "stdout"
        }
      ]
    },
    {
      "metadata": {
        "id": "DLOuNcNPczIf",
        "colab_type": "text"
      },
      "cell_type": "markdown",
      "source": [
        "Outra forma útil de mudar o shape de um tensor é simplesmente utilizando a função reshape:"
      ]
    },
    {
      "metadata": {
        "id": "gpJ53kTUc2Mx",
        "colab_type": "code",
        "outputId": "459c9464-b258-4b62-d955-1f0774768687",
        "colab": {
          "base_uri": "https://localhost:8080/",
          "height": 51
        }
      },
      "cell_type": "code",
      "source": [
        "v = np.array([1,2,3,4]).reshape(2,2)\n",
        "print(v)"
      ],
      "execution_count": 7,
      "outputs": [
        {
          "output_type": "stream",
          "text": [
            "[[1 2]\n",
            " [3 4]]\n"
          ],
          "name": "stdout"
        }
      ]
    },
    {
      "metadata": {
        "id": "MndEPD7beNfy",
        "colab_type": "text"
      },
      "cell_type": "markdown",
      "source": [
        "O número de eixos (ou dimensões) de um tensor é dado pelo atributo `ndim`, enquanto o número total de elementos é dado por `size`:"
      ]
    },
    {
      "metadata": {
        "id": "d6ghGc-MfTFT",
        "colab_type": "code",
        "outputId": "3b33d02b-0d15-4393-926a-49811d04f258",
        "colab": {
          "base_uri": "https://localhost:8080/",
          "height": 272
        }
      },
      "cell_type": "code",
      "source": [
        "v = np.array(range(50)).reshape(2,5,5)\n",
        "\n",
        "print('Shape = ', v.shape)\n",
        "print('Número de dimensões = ', v.ndim)\n",
        "print('Número de elementos = ', v.size)\n",
        "print('Tensor v = \\n', v)"
      ],
      "execution_count": 8,
      "outputs": [
        {
          "output_type": "stream",
          "text": [
            "Shape =  (2, 5, 5)\n",
            "Número de dimensões =  3\n",
            "Número de elementos =  50\n",
            "Tensor v = \n",
            " [[[ 0  1  2  3  4]\n",
            "  [ 5  6  7  8  9]\n",
            "  [10 11 12 13 14]\n",
            "  [15 16 17 18 19]\n",
            "  [20 21 22 23 24]]\n",
            "\n",
            " [[25 26 27 28 29]\n",
            "  [30 31 32 33 34]\n",
            "  [35 36 37 38 39]\n",
            "  [40 41 42 43 44]\n",
            "  [45 46 47 48 49]]]\n"
          ],
          "name": "stdout"
        }
      ]
    },
    {
      "metadata": {
        "id": "6AQC8WECuHP3",
        "colab_type": "text"
      },
      "cell_type": "markdown",
      "source": [
        "As funções `zeros`, `ones` e `diag` são muito convenientes para a criação de tensores:"
      ]
    },
    {
      "metadata": {
        "id": "hxNc71OCuPJm",
        "colab_type": "code",
        "outputId": "eae2cff3-4243-4e6f-cf2c-4dfb0059e4df",
        "colab": {
          "base_uri": "https://localhost:8080/",
          "height": 221
        }
      },
      "cell_type": "code",
      "source": [
        "V = np.zeros((3,3))\n",
        "print('V = \\n', V)\n",
        "U = np.ones((3,3))\n",
        "print('U = \\n', U)\n",
        "D = np.diag([10, 10, 10])\n",
        "print('D = \\n', D)"
      ],
      "execution_count": 9,
      "outputs": [
        {
          "output_type": "stream",
          "text": [
            "V = \n",
            " [[0. 0. 0.]\n",
            " [0. 0. 0.]\n",
            " [0. 0. 0.]]\n",
            "U = \n",
            " [[1. 1. 1.]\n",
            " [1. 1. 1.]\n",
            " [1. 1. 1.]]\n",
            "D = \n",
            " [[10  0  0]\n",
            " [ 0 10  0]\n",
            " [ 0  0 10]]\n"
          ],
          "name": "stdout"
        }
      ]
    },
    {
      "metadata": {
        "id": "Jvj19gEtwSBW",
        "colab_type": "text"
      },
      "cell_type": "markdown",
      "source": [
        "As funções arange e linspace permitem a criação de sequências como tensores NumPy:"
      ]
    },
    {
      "metadata": {
        "id": "JzQ1mgjfpS-g",
        "colab_type": "code",
        "outputId": "abfaa185-0c72-4c1d-8f8d-0b87013a3584",
        "colab": {
          "base_uri": "https://localhost:8080/",
          "height": 68
        }
      },
      "cell_type": "code",
      "source": [
        "v = np.arange(0, 5, 0.5)\n",
        "u = np.linspace(0, 5, 10)\n",
        "print(\"v =\", v)\n",
        "print(\"u =\", u)"
      ],
      "execution_count": 10,
      "outputs": [
        {
          "output_type": "stream",
          "text": [
            "v = [0.  0.5 1.  1.5 2.  2.5 3.  3.5 4.  4.5]\n",
            "u = [0.         0.55555556 1.11111111 1.66666667 2.22222222 2.77777778\n",
            " 3.33333333 3.88888889 4.44444444 5.        ]\n"
          ],
          "name": "stdout"
        }
      ]
    },
    {
      "metadata": {
        "id": "7pqHqPzGYpDO",
        "colab_type": "text"
      },
      "cell_type": "markdown",
      "source": [
        "## Indexação de tensores\n",
        "\n",
        "O acesso aos elementos de um tensor pode ser feito utilizando colchetes e o índice do elemento:"
      ]
    },
    {
      "metadata": {
        "id": "wvBHKxJfZTHS",
        "colab_type": "code",
        "outputId": "98abf621-956b-4a44-d34e-0635ebb21bfb",
        "colab": {
          "base_uri": "https://localhost:8080/",
          "height": 34
        }
      },
      "cell_type": "code",
      "source": [
        "print(v[1])"
      ],
      "execution_count": 11,
      "outputs": [
        {
          "output_type": "stream",
          "text": [
            "0.5\n"
          ],
          "name": "stdout"
        }
      ]
    },
    {
      "metadata": {
        "id": "oVLakURJZjMS",
        "colab_type": "code",
        "outputId": "5dfa934b-df6e-4751-a9ea-b5aab0d46452",
        "colab": {
          "base_uri": "https://localhost:8080/",
          "height": 129
        }
      },
      "cell_type": "code",
      "source": [
        "Tensores com rank maior ou igual a 2, por exemplo, acessar o elemento com índice 0 no primeiro eixo e índice 1 no segundo eixo:"
      ],
      "execution_count": 12,
      "outputs": [
        {
          "output_type": "error",
          "ename": "SyntaxError",
          "evalue": "ignored",
          "traceback": [
            "\u001b[0;36m  File \u001b[0;32m\"<ipython-input-12-55ed7ae24916>\"\u001b[0;36m, line \u001b[0;32m1\u001b[0m\n\u001b[0;31m    Tensores com rank maior ou igual a 2, por exemplo, acessar o elemento com índice 0 no primeiro eixo e índice 1 no segundo eixo:\u001b[0m\n\u001b[0m               ^\u001b[0m\n\u001b[0;31mSyntaxError\u001b[0m\u001b[0;31m:\u001b[0m invalid syntax\n"
          ]
        }
      ]
    },
    {
      "metadata": {
        "id": "K6q0VUOkZouY",
        "colab_type": "code",
        "colab": {}
      },
      "cell_type": "code",
      "source": [
        "v = np.array([10, 20, 30, 40]).reshape(2,2)\n",
        "print(v[0,1])"
      ],
      "execution_count": 0,
      "outputs": []
    },
    {
      "metadata": {
        "id": "_SbKgNJHZabL",
        "colab_type": "text"
      },
      "cell_type": "markdown",
      "source": [
        "Tensor de rank 3:"
      ]
    },
    {
      "metadata": {
        "id": "x0g26pAZaB2D",
        "colab_type": "code",
        "colab": {}
      },
      "cell_type": "code",
      "source": [
        "v = np.arange(8).reshape(2,2,2)\n",
        "print(\"v =\\n\", v)\n",
        "print(\"\\n v[0,0,1] =\", v[0,0,1])"
      ],
      "execution_count": 0,
      "outputs": []
    },
    {
      "metadata": {
        "id": "NjGAIQj6azC4",
        "colab_type": "text"
      },
      "cell_type": "markdown",
      "source": [
        "Subtensores contíguos de um tensor podem ser acessados utilizando o operador \" : \". Note que neste caso o NumPy não faz uma cópia dos dados, mas apenas cria uma *view* dos dados:"
      ]
    },
    {
      "metadata": {
        "id": "J2hlZl4YbLEM",
        "colab_type": "code",
        "colab": {}
      },
      "cell_type": "code",
      "source": [
        "v = np.arange(10)\n",
        "u = v[1:3]\n",
        "print(u)"
      ],
      "execution_count": 0,
      "outputs": []
    },
    {
      "metadata": {
        "id": "-X2mznPqbcEX",
        "colab_type": "text"
      },
      "cell_type": "markdown",
      "source": [
        "No caso de uma matriz (um tensor de rank 2), pode-se acessar submatrizes:"
      ]
    },
    {
      "metadata": {
        "id": "nTUQEHhWbbo5",
        "colab_type": "code",
        "colab": {}
      },
      "cell_type": "code",
      "source": [
        "A = np.arange(15).reshape(3,5)\n",
        "print(A)"
      ],
      "execution_count": 0,
      "outputs": []
    },
    {
      "metadata": {
        "id": "Pmjr-m8ccBKZ",
        "colab_type": "text"
      },
      "cell_type": "markdown",
      "source": [
        "Vamos selecionar somente a submatriz correspondente às linhas 0 e 1, e colunas 2 e 3:"
      ]
    },
    {
      "metadata": {
        "id": "0zYLkmgdcO64",
        "colab_type": "code",
        "colab": {}
      },
      "cell_type": "code",
      "source": [
        "subA = A[0:2, 2:4]\n",
        "print(subA)"
      ],
      "execution_count": 0,
      "outputs": []
    },
    {
      "metadata": {
        "id": "u0C2yO-f8QnK",
        "colab_type": "text"
      },
      "cell_type": "markdown",
      "source": [
        "A indexação pode ser realiza também passando uma lista ou outro tensor que contém os índices dos elementos que queremos selecionar, por exemplo, abaixo queremos selecionar somente os elementos com índice 2 e 3. Observe que, neste caso, o tensor v resultante é um novo objeto criado a partir do tensor u e alocado na memória. Ocorre cópia dos dados.\n",
        "\n",
        "---\n",
        "\n"
      ]
    },
    {
      "metadata": {
        "id": "bMfs0Coy8Z5Y",
        "colab_type": "code",
        "colab": {}
      },
      "cell_type": "code",
      "source": [
        "u = np.array([2.0, 3.5, 4.0, -10.1])\n",
        "v = u[[2,3]]\n",
        "print(v)"
      ],
      "execution_count": 0,
      "outputs": []
    },
    {
      "metadata": {
        "id": "njVFR6y79mub",
        "colab_type": "text"
      },
      "cell_type": "markdown",
      "source": [
        "Filtrando as colunas 2 e 4 de uma matriz:"
      ]
    },
    {
      "metadata": {
        "id": "uRMLAXtu9wWe",
        "colab_type": "code",
        "colab": {}
      },
      "cell_type": "code",
      "source": [
        "A = np.arange(10).reshape(2,5)\n",
        "B = A[:, [2,4]]\n",
        "print(\"A =\\n\", A)\n",
        "print(\"B =\\n\", B)"
      ],
      "execution_count": 0,
      "outputs": []
    },
    {
      "metadata": {
        "id": "R6NilUlAwDRL",
        "colab_type": "text"
      },
      "cell_type": "markdown",
      "source": [
        "## Operações sobre tensores\n",
        "\n",
        "\n",
        "---\n",
        "\n"
      ]
    },
    {
      "metadata": {
        "id": "JafHKqHJqT4L",
        "colab_type": "text"
      },
      "cell_type": "markdown",
      "source": [
        "As operações sobre tensores NumPy são realizada elemento a elemento, por exemplo:"
      ]
    },
    {
      "metadata": {
        "id": "dsnrgcdmqmCa",
        "colab_type": "code",
        "colab": {}
      },
      "cell_type": "code",
      "source": [
        "v = np.array([10,20,30])\n",
        "u = np.array([2,2,2])\n",
        "w = u+v\n",
        "print(w)"
      ],
      "execution_count": 0,
      "outputs": []
    },
    {
      "metadata": {
        "id": "-r_KzvntraQ0",
        "colab_type": "text"
      },
      "cell_type": "markdown",
      "source": [
        "Note que no caso dos operadores * e / a operação também ocorre elemento a elemento:"
      ]
    },
    {
      "metadata": {
        "id": "FA2fJCk4runZ",
        "colab_type": "code",
        "colab": {}
      },
      "cell_type": "code",
      "source": [
        "w = u*v\n",
        "print(\"w =\", w)\n",
        "x = u/v\n",
        "print(\"x =\", x)"
      ],
      "execution_count": 0,
      "outputs": []
    },
    {
      "metadata": {
        "id": "C2A_D2OF1sb9",
        "colab_type": "text"
      },
      "cell_type": "markdown",
      "source": [
        "Elevar todos os elementos de um vetor a uma potência:"
      ]
    },
    {
      "metadata": {
        "id": "8Pxd95kW1xkN",
        "colab_type": "code",
        "colab": {}
      },
      "cell_type": "code",
      "source": [
        "x = np.array([10, 20])\n",
        "y = x**2\n",
        "print(y)"
      ],
      "execution_count": 0,
      "outputs": []
    },
    {
      "metadata": {
        "id": "an525xms4jMa",
        "colab_type": "text"
      },
      "cell_type": "markdown",
      "source": [
        "Alguns operadores unários como a média, menor valor, maior valor, etc possuem funções específicas:"
      ]
    },
    {
      "metadata": {
        "id": "Lm_kGVAJ4xOK",
        "colab_type": "code",
        "colab": {}
      },
      "cell_type": "code",
      "source": [
        "x = np.arange(10)\n",
        "media = x.mean()\n",
        "menor_valor = np.min(x)\n",
        "arg_max = np.argmax(x)\n",
        "print(\"Média =\", media)\n",
        "print(\"Menor valor =\", menor_valor)\n",
        "print(\"Arg max =\", arg_max)"
      ],
      "execution_count": 0,
      "outputs": []
    },
    {
      "metadata": {
        "id": "5GnytAyG5LaN",
        "colab_type": "text"
      },
      "cell_type": "markdown",
      "source": [
        "Em tensores com rank maior ou igual a 2 pode-se identifcar o eixo em que se deseja aplicar as funções min, max, etc. Caso o eixo não seja especificado, a funções retornará o menor/maior valor entre todos incluindo todos os eixos:"
      ]
    },
    {
      "metadata": {
        "id": "DSw-nQKS51ET",
        "colab_type": "code",
        "colab": {}
      },
      "cell_type": "code",
      "source": [
        "A = np.array([10, 30, 40, 20]).reshape(2,2)\n",
        "menor= A.min()\n",
        "menor_colunas = A.min(axis=0)\n",
        "print(\"A = \\n\", A)\n",
        "print(\"Menor valor = \", menor)\n",
        "print(\"Menor valor em cada coluna =\", menor_colunas)"
      ],
      "execution_count": 0,
      "outputs": []
    },
    {
      "metadata": {
        "id": "xz94sAsKsGsq",
        "colab_type": "text"
      },
      "cell_type": "markdown",
      "source": [
        "A operação de produto interno (ou produto escalar) pode ser realizada pela função `dot`:"
      ]
    },
    {
      "metadata": {
        "id": "K30DvjHZsUET",
        "colab_type": "code",
        "colab": {}
      },
      "cell_type": "code",
      "source": [
        "w = np.dot(u, v)\n",
        "print(\"w =\", w)\n",
        "\n",
        "x = u.dot(v)\n",
        "print(\"x =\", x)"
      ],
      "execution_count": 0,
      "outputs": []
    },
    {
      "metadata": {
        "id": "C0D_ik69W4Z6",
        "colab_type": "text"
      },
      "cell_type": "markdown",
      "source": [
        "Multiplicação de um escalar por um vetor:"
      ]
    },
    {
      "metadata": {
        "id": "owY8HcjfW3aC",
        "colab_type": "code",
        "colab": {}
      },
      "cell_type": "code",
      "source": [
        "print(\"w =\", w)\n",
        "x = 10*w\n",
        "print(\"x =\", x)"
      ],
      "execution_count": 0,
      "outputs": []
    },
    {
      "metadata": {
        "id": "JwyJGwDxEfNj",
        "colab_type": "text"
      },
      "cell_type": "markdown",
      "source": [
        "Um erro muito comum no uso do NumPy é não explorar sua eficiência computacional por meio das operações vetoriais. Dentro do possível, deve-se sempre organizar implementação de um algoritmo utilizando somente operações sobre tensores. Por exemplo, abaixo é feita a comparação entre o tempo computacional em usar a operação `dot` e uma implementação da mesma operação utilizando loops:"
      ]
    },
    {
      "metadata": {
        "id": "Yccxb0XDFIvT",
        "colab_type": "code",
        "colab": {}
      },
      "cell_type": "code",
      "source": [
        "def produto_interno(u, v):\n",
        "  \n",
        "  prod = 0\n",
        "  \n",
        "  for i in range(u.size):\n",
        "    prod+=u[i]*v[i]\n",
        "    \n",
        "  return prod\n",
        "\n",
        "u = np.random.rand(10000)\n",
        "v = np.random.rand(10000)\n",
        "\n",
        "%timeit produto_interno(u,v)\n",
        "%timeit np.dot(u,v)"
      ],
      "execution_count": 0,
      "outputs": []
    },
    {
      "metadata": {
        "id": "WWKRVuHLYjGr",
        "colab_type": "text"
      },
      "cell_type": "markdown",
      "source": [
        "Observe que a operação `dot` é muito mais rápida. Isso ocorre porque a operação `dot` é implementada em linguagem C e realiza a operação de maneira vetorizada."
      ]
    },
    {
      "metadata": {
        "id": "k1Obs5hXXewy",
        "colab_type": "text"
      },
      "cell_type": "markdown",
      "source": [
        "## Matrizes\n",
        "\n",
        "Em NumPy, matrizes são tensores com 2 dimensões (tensores de rank 2). Embora exista um objeto `matrix`, em geral é mais prático tratar matrizes como tensores de rank 2:"
      ]
    },
    {
      "metadata": {
        "id": "juwF0cjsYbjz",
        "colab_type": "code",
        "colab": {}
      },
      "cell_type": "code",
      "source": [
        "A = np.array([[10, 20], [30, 40]])\n",
        "print(A)"
      ],
      "execution_count": 0,
      "outputs": []
    },
    {
      "metadata": {
        "id": "Lz-1pHFPdjNK",
        "colab_type": "code",
        "colab": {}
      },
      "cell_type": "code",
      "source": [
        "Criar uma matriz identidade:"
      ],
      "execution_count": 0,
      "outputs": []
    },
    {
      "metadata": {
        "id": "ynq-VGzIdmWc",
        "colab_type": "code",
        "colab": {}
      },
      "cell_type": "code",
      "source": [
        "I = np.eye(5)\n",
        "print(I)"
      ],
      "execution_count": 0,
      "outputs": []
    },
    {
      "metadata": {
        "id": "EpTskAk-gUi4",
        "colab_type": "text"
      },
      "cell_type": "markdown",
      "source": [
        "Matrizes diagonais:"
      ]
    },
    {
      "metadata": {
        "id": "5uM9cpCoguu2",
        "colab_type": "code",
        "colab": {}
      },
      "cell_type": "code",
      "source": [
        "D = np.diag(np.arange(5))\n",
        "print(D)"
      ],
      "execution_count": 0,
      "outputs": []
    },
    {
      "metadata": {
        "id": "CXQISAWyhKrC",
        "colab_type": "text"
      },
      "cell_type": "markdown",
      "source": [
        "## Operações sobre matrizes\n",
        "\n",
        "Multilplicação de vetores e matrizes é realizada por meio da função `dot`:"
      ]
    },
    {
      "metadata": {
        "id": "K1ToFX4TmkNU",
        "colab_type": "code",
        "colab": {}
      },
      "cell_type": "code",
      "source": [
        "v = np.array([10, 10])\n",
        "A = np.arange(4).reshape(2,2)\n",
        "u = A.dot(v)\n",
        "print(u)"
      ],
      "execution_count": 0,
      "outputs": []
    },
    {
      "metadata": {
        "id": "IAPTOIltoDwo",
        "colab_type": "text"
      },
      "cell_type": "markdown",
      "source": [
        "Multiplicação de matrizes:"
      ]
    },
    {
      "metadata": {
        "id": "K_YImIu3oGI8",
        "colab_type": "code",
        "colab": {}
      },
      "cell_type": "code",
      "source": [
        "A = np.ones((2,2))\n",
        "B = 10*np.ones((2,2))\n",
        "C= np.dot(A,B)\n",
        "print(C)"
      ],
      "execution_count": 0,
      "outputs": []
    },
    {
      "metadata": {
        "id": "EBwKaPSF2sLs",
        "colab_type": "text"
      },
      "cell_type": "markdown",
      "source": [
        "A multiplicação de matrizes também pode ser realizada por meio do operador @:"
      ]
    },
    {
      "metadata": {
        "id": "DXSSIDNu2xgg",
        "colab_type": "code",
        "colab": {}
      },
      "cell_type": "code",
      "source": [
        "C = A @ B\n",
        "print(C)"
      ],
      "execution_count": 0,
      "outputs": []
    },
    {
      "metadata": {
        "id": "qzAth7z7o7WO",
        "colab_type": "text"
      },
      "cell_type": "markdown",
      "source": [
        "Transposição de matrizes pode ser feita com a função `transpose` ou simplesmente com a letra \" `T` \":"
      ]
    },
    {
      "metadata": {
        "id": "bFM3eZRao60Z",
        "colab_type": "code",
        "colab": {}
      },
      "cell_type": "code",
      "source": [
        "A = np.arange(4).reshape(2,2)\n",
        "print(\"Transposta de A =\\n\", A.transpose())\n",
        "print(\"Transposta de A =\\n\", A.T)"
      ],
      "execution_count": 0,
      "outputs": []
    },
    {
      "metadata": {
        "id": "Vbw5FgTXrqiM",
        "colab_type": "text"
      },
      "cell_type": "markdown",
      "source": [
        "## Funções universais\n",
        "\n",
        "O NumPy oferece diversas funções matemáticas clássicas, como exponencial, logaritmo, etc. Essas funções são aplicadas a todos os elementos de um tensor. Exemplo de aplicação da função exponencial:"
      ]
    },
    {
      "metadata": {
        "id": "QmBUZX_6qeAC",
        "colab_type": "code",
        "colab": {}
      },
      "cell_type": "code",
      "source": [
        "u = np.arange(5)\n",
        "v = np.exp(u)\n",
        "print(v)"
      ],
      "execution_count": 0,
      "outputs": []
    },
    {
      "metadata": {
        "id": "1_0iSQ5pZKNW",
        "colab_type": "text"
      },
      "cell_type": "markdown",
      "source": [
        "Função seno:"
      ]
    },
    {
      "metadata": {
        "id": "t_sMO44SDSKZ",
        "colab_type": "code",
        "colab": {}
      },
      "cell_type": "code",
      "source": [
        "v = np.sin(u)\n",
        "print(v)"
      ],
      "execution_count": 0,
      "outputs": []
    },
    {
      "metadata": {
        "id": "agq52NgH7FMF",
        "colab_type": "text"
      },
      "cell_type": "markdown",
      "source": [
        "##Operadores lógicos\n",
        "\n",
        "As operações lógicas entre tensores ocorrem elemento a elemento. O resultado da operação é um tensor booleano com valores `True` ou `False` que indicam se a condição lógica é verdadeira ou falsa:"
      ]
    },
    {
      "metadata": {
        "id": "C38F0AfI7Ylt",
        "colab_type": "code",
        "colab": {}
      },
      "cell_type": "code",
      "source": [
        "u = np.arange(4).reshape(2,2)\n",
        "v = 2*np.ones((2,2))\n",
        "w = u > v\n",
        "print(w)"
      ],
      "execution_count": 0,
      "outputs": []
    },
    {
      "metadata": {
        "id": "Txd0NUEo8C1Y",
        "colab_type": "text"
      },
      "cell_type": "markdown",
      "source": [
        "Os tensores booleanos podem ser usados para filtrar valores em um tensor, por exemplo:"
      ]
    },
    {
      "metadata": {
        "id": "lWRzG4CW-RM0",
        "colab_type": "code",
        "colab": {}
      },
      "cell_type": "code",
      "source": [
        "u = np.array([-1, 2, -3])\n",
        "v = np.array([True, False, True])\n",
        "print(u[v])"
      ],
      "execution_count": 0,
      "outputs": []
    },
    {
      "metadata": {
        "id": "h53LsMpi-2yK",
        "colab_type": "text"
      },
      "cell_type": "markdown",
      "source": [
        "Note que podemos obter o mesmo efeito anterior de filtrar somente os valores negativos fazendo:"
      ]
    },
    {
      "metadata": {
        "id": "R0i-OoCw-_lM",
        "colab_type": "code",
        "colab": {}
      },
      "cell_type": "code",
      "source": [
        "w = u[u < 0]\n",
        "print(w)"
      ],
      "execution_count": 0,
      "outputs": []
    },
    {
      "metadata": {
        "id": "cNl_BvwO_Itd",
        "colab_type": "text"
      },
      "cell_type": "markdown",
      "source": [
        "E podemos também atribuir um valor específico aos elementos de um tensor que satisfazem uma certa condições, por exemplo zerar todos os valores negativos:"
      ]
    },
    {
      "metadata": {
        "id": "GPwTLQB4_ROj",
        "colab_type": "code",
        "colab": {}
      },
      "cell_type": "code",
      "source": [
        "print(\"u =\", u)\n",
        "u[u < 0] = 0\n",
        "print(\"u =\", u)"
      ],
      "execution_count": 0,
      "outputs": []
    },
    {
      "metadata": {
        "id": "5BB3duuOaJg5",
        "colab_type": "text"
      },
      "cell_type": "markdown",
      "source": [
        "\n",
        "---\n",
        "\n",
        "# Geração de números aleatórios"
      ]
    },
    {
      "metadata": {
        "id": "__OPp_GfZjso",
        "colab_type": "text"
      },
      "cell_type": "markdown",
      "source": [
        "---\n",
        "\n",
        "# Álgebra Linear\n",
        "\n",
        "O NumPy possui um submódulo específico para a realização de operações típicas da álgebra linear chamado `linalg`. Com este módulo é possível resolver sistemas lineares, obter inversas de matrizes, calcular autovalores e autovetores, etc.\n",
        "\n",
        "## Solução de sistemas lineares\n",
        "\n",
        "A solução de sistemas de equações lineares do tipo $Ax = b$ pode ser realizada por meio da função `solve`:"
      ]
    },
    {
      "metadata": {
        "id": "pIfk3sYhaFK7",
        "colab_type": "code",
        "colab": {}
      },
      "cell_type": "code",
      "source": [
        "A = np.array([10, 20, 30, 40]).reshape(2,2)\n",
        "b = np.array([5,10])\n",
        "x = np.linalg.solve(A, b)\n",
        "print(x)"
      ],
      "execution_count": 0,
      "outputs": []
    },
    {
      "metadata": {
        "id": "aMNYa_S8a-rN",
        "colab_type": "text"
      },
      "cell_type": "markdown",
      "source": [
        "Caso $b =[b_1, b_2, ..., b_p]$ em que cada $b_j, j = 1, ..., p$ é um vetor coluna, a função `solve` retorna uma matriz $x = [x_1, x_2, ..., x_p]$ em que cada $x_j$  é solução do sistema linear $Ax_j = b_j$."
      ]
    },
    {
      "metadata": {
        "id": "-81UpAPOcZVy",
        "colab_type": "code",
        "colab": {}
      },
      "cell_type": "code",
      "source": [
        "b1 = np.array([5, 10]).reshape(2,1)\n",
        "b2 = np.array([10, 12]).reshape(2,1)\n",
        "b = np.hstack([b1, b2])\n",
        "print(\"b =\\n\", b)\n",
        "x = np.linalg.solve(A, b)\n",
        "print(\"x =\\n\", x)"
      ],
      "execution_count": 0,
      "outputs": []
    }
  ]
}
