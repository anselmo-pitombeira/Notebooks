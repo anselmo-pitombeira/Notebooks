{
  "nbformat": 4,
  "nbformat_minor": 0,
  "metadata": {
    "colab": {
      "name": "Tutorial_NumPy.ipynb",
      "version": "0.3.2",
      "provenance": [],
      "collapsed_sections": [],
      "include_colab_link": true
    },
    "kernelspec": {
      "name": "python3",
      "display_name": "Python 3"
    }
  },
  "cells": [
    {
      "cell_type": "markdown",
      "metadata": {
        "id": "view-in-github",
        "colab_type": "text"
      },
      "source": [
        "<a href=\"https://colab.research.google.com/github/anselmo-pitombeira/Tutoriais/blob/master/Tutorial_NumPy.ipynb\" target=\"_parent\"><img src=\"https://colab.research.google.com/assets/colab-badge.svg\" alt=\"Open In Colab\"/></a>"
      ]
    },
    {
      "metadata": {
        "id": "GRl0miKkTejx",
        "colab_type": "text"
      },
      "cell_type": "markdown",
      "source": [
        "# **Introdução ao NumPy**\n",
        "\n",
        "Prof. Dr. Anselmo R. Pitombeira Neto\n",
        "\n",
        "OPL - Pesquisa Operacional em Produção e Logística, Departamento de Engenharia de Produção, Universidade Federal do Ceará\n",
        "\n",
        "ver 0.2\n",
        "\n",
        "---\n",
        "\n",
        "O Numerical Python (NumPy) é uma biblioteca para a linguagem Python com funções para se trabalhar com computação numérica. Seu principal objeto é o vetor n-dimensional, ou `ndarray`. Um vetor n-dimensional também é conhecido pelo nome *tensor*. A principal característica do `ndarray` é que ele deve ser homogêneo, ou seja, diferentemente do objeto lista, todos os seus elementos devem ser do mesmo tipo."
      ]
    },
    {
      "metadata": {
        "id": "eQP-auD3quje",
        "colab_type": "text"
      },
      "cell_type": "markdown",
      "source": [
        "## Criação de tensores\n",
        "\n",
        "Pode-se criar um `ndarray` passando um container como inicializador para um objeto da classe `array`:"
      ]
    },
    {
      "metadata": {
        "id": "kKbhlPsaTdct",
        "colab_type": "code",
        "outputId": "de321372-e472-4042-a573-0681e347513b",
        "colab": {
          "base_uri": "https://localhost:8080/",
          "height": 34
        }
      },
      "cell_type": "code",
      "source": [
        "import numpy as np\n",
        "v = np.array([1,2,3,4])\n",
        "print(v)"
      ],
      "execution_count": 67,
      "outputs": [
        {
          "output_type": "stream",
          "text": [
            "[1 2 3 4]\n"
          ],
          "name": "stdout"
        }
      ]
    },
    {
      "metadata": {
        "id": "19_HvO7UXmKO",
        "colab_type": "text"
      },
      "cell_type": "markdown",
      "source": [
        "O tipo dos elementos de um `ndarray` pode ser acessado por meio do atributo `dtype`"
      ]
    },
    {
      "metadata": {
        "id": "SO5efaoTZuh7",
        "colab_type": "code",
        "outputId": "0594bdab-e74c-4067-8b1f-13d972503d9d",
        "colab": {
          "base_uri": "https://localhost:8080/",
          "height": 34
        }
      },
      "cell_type": "code",
      "source": [
        "print(v.dtype)"
      ],
      "execution_count": 68,
      "outputs": [
        {
          "output_type": "stream",
          "text": [
            "int64\n"
          ],
          "name": "stdout"
        }
      ]
    },
    {
      "metadata": {
        "id": "6h1xJyKoZ4Gy",
        "colab_type": "text"
      },
      "cell_type": "markdown",
      "source": [
        "Neste caso, ao criar o vetor, o tipo *default* assumido foi `int64`, mas o tipo desejado pode ser especificado na criação do tensor:"
      ]
    },
    {
      "metadata": {
        "id": "QMbt9IyYaLtM",
        "colab_type": "code",
        "outputId": "3d8342b8-b535-4737-a1f7-43c4644a9fc0",
        "colab": {
          "base_uri": "https://localhost:8080/",
          "height": 34
        }
      },
      "cell_type": "code",
      "source": [
        "v = np.array([1,2,3,4], dtype='float64')\n",
        "print(v.dtype)"
      ],
      "execution_count": 69,
      "outputs": [
        {
          "output_type": "stream",
          "text": [
            "float64\n"
          ],
          "name": "stdout"
        }
      ]
    },
    {
      "metadata": {
        "id": "B5qT6IFZdHOK",
        "colab_type": "text"
      },
      "cell_type": "markdown",
      "source": [
        "No caso, se utilizarmos números com pontos decimais, o tipo será automaticamente `float`:"
      ]
    },
    {
      "metadata": {
        "id": "0oMT87yqdNxo",
        "colab_type": "code",
        "outputId": "0e56937b-7567-4515-bdc7-c10429231011",
        "colab": {
          "base_uri": "https://localhost:8080/",
          "height": 34
        }
      },
      "cell_type": "code",
      "source": [
        "v = np.array([1.0,2.0,3.0,4.0])\n",
        "print(v.dtype)"
      ],
      "execution_count": 70,
      "outputs": [
        {
          "output_type": "stream",
          "text": [
            "float64\n"
          ],
          "name": "stdout"
        }
      ]
    },
    {
      "metadata": {
        "id": "67KByuuNbOiZ",
        "colab_type": "text"
      },
      "cell_type": "markdown",
      "source": [
        "Os tensores NumPy também possuem um atributo chamado `shape`. Esse atributo indica a forma do tensor, por exemplo:"
      ]
    },
    {
      "metadata": {
        "id": "3nVjxdR7bcV5",
        "colab_type": "code",
        "outputId": "f7e92702-cd33-43ae-f6a9-6e72abc8b159",
        "colab": {
          "base_uri": "https://localhost:8080/",
          "height": 34
        }
      },
      "cell_type": "code",
      "source": [
        "print(v.shape)"
      ],
      "execution_count": 71,
      "outputs": [
        {
          "output_type": "stream",
          "text": [
            "(4,)\n"
          ],
          "name": "stdout"
        }
      ]
    },
    {
      "metadata": {
        "id": "noxoGPhCbg3B",
        "colab_type": "text"
      },
      "cell_type": "markdown",
      "source": [
        "Neste caso, o tensor `v` possui 1 dimensão (ou eixo) com 4 elementos. Um tensor unidimensional corresponde a um vetor. Podemos também criar um tensor bidimensional (uma matriz) usando o atributo `shape`:\n"
      ]
    },
    {
      "metadata": {
        "id": "DBCVBk2vcUAH",
        "colab_type": "code",
        "outputId": "3fe3ae5e-0170-4c44-e5a2-bc832068b483",
        "colab": {
          "base_uri": "https://localhost:8080/",
          "height": 50
        }
      },
      "cell_type": "code",
      "source": [
        "v = np.array([1,2,3,4])\n",
        "v.shape = (2,2)\n",
        "print(v)"
      ],
      "execution_count": 72,
      "outputs": [
        {
          "output_type": "stream",
          "text": [
            "[[1 2]\n",
            " [3 4]]\n"
          ],
          "name": "stdout"
        }
      ]
    },
    {
      "metadata": {
        "id": "DLOuNcNPczIf",
        "colab_type": "text"
      },
      "cell_type": "markdown",
      "source": [
        "Outra forma útil de mudar o shape de um tensor é simplesmente utilizando a função reshape:"
      ]
    },
    {
      "metadata": {
        "id": "gpJ53kTUc2Mx",
        "colab_type": "code",
        "outputId": "8b966b21-be7d-444c-eece-3e3f508c9481",
        "colab": {
          "base_uri": "https://localhost:8080/",
          "height": 50
        }
      },
      "cell_type": "code",
      "source": [
        "v = np.array([1,2,3,4]).reshape(2,2)\n",
        "print(v)"
      ],
      "execution_count": 73,
      "outputs": [
        {
          "output_type": "stream",
          "text": [
            "[[1 2]\n",
            " [3 4]]\n"
          ],
          "name": "stdout"
        }
      ]
    },
    {
      "metadata": {
        "id": "5NYz1OVp0bZR",
        "colab_type": "text"
      },
      "cell_type": "markdown",
      "source": [
        "A função `reshape` aceita o uso de -1 como dimensão na especificação do shape. Neste caso,  a função reshape determinará automaticamente o número de elementos em cada dimensão de forma a manter inalterado o número total de elementos no tensor. No exemplo abaixo, especificamos o tamanho da primeira dimensão como igual a 2. A função reshape então determinará automaticamente qual o tamanho da segunda dimensão:"
      ]
    },
    {
      "metadata": {
        "id": "nDc5LxCj1CLG",
        "colab_type": "code",
        "outputId": "bf235d3c-02f9-4669-a2f5-0c084b2006ab",
        "colab": {
          "base_uri": "https://localhost:8080/",
          "height": 50
        }
      },
      "cell_type": "code",
      "source": [
        "v = np.array([1,2,3,4,5,6,7,8])\n",
        "v = v.reshape(2, -1)\n",
        "print(v)"
      ],
      "execution_count": 74,
      "outputs": [
        {
          "output_type": "stream",
          "text": [
            "[[1 2 3 4]\n",
            " [5 6 7 8]]\n"
          ],
          "name": "stdout"
        }
      ]
    },
    {
      "metadata": {
        "id": "MndEPD7beNfy",
        "colab_type": "text"
      },
      "cell_type": "markdown",
      "source": [
        "O número de eixos (ou dimensões) de um tensor é dado pelo atributo `ndim`, enquanto o número total de elementos é dado por `size`:"
      ]
    },
    {
      "metadata": {
        "id": "d6ghGc-MfTFT",
        "colab_type": "code",
        "outputId": "6d3972a1-ba70-4ae7-940a-ec5a35a53e70",
        "colab": {
          "base_uri": "https://localhost:8080/",
          "height": 269
        }
      },
      "cell_type": "code",
      "source": [
        "v = np.array(range(50)).reshape(2,5,5)\n",
        "\n",
        "print('Shape = ', v.shape)\n",
        "print('Número de dimensões = ', v.ndim)\n",
        "print('Número de elementos = ', v.size)\n",
        "print('Tensor v = \\n', v)"
      ],
      "execution_count": 75,
      "outputs": [
        {
          "output_type": "stream",
          "text": [
            "Shape =  (2, 5, 5)\n",
            "Número de dimensões =  3\n",
            "Número de elementos =  50\n",
            "Tensor v = \n",
            " [[[ 0  1  2  3  4]\n",
            "  [ 5  6  7  8  9]\n",
            "  [10 11 12 13 14]\n",
            "  [15 16 17 18 19]\n",
            "  [20 21 22 23 24]]\n",
            "\n",
            " [[25 26 27 28 29]\n",
            "  [30 31 32 33 34]\n",
            "  [35 36 37 38 39]\n",
            "  [40 41 42 43 44]\n",
            "  [45 46 47 48 49]]]\n"
          ],
          "name": "stdout"
        }
      ]
    },
    {
      "metadata": {
        "id": "6AQC8WECuHP3",
        "colab_type": "text"
      },
      "cell_type": "markdown",
      "source": [
        "As funções `zeros`, `ones` e `diag` são muito convenientes para a criação de tensores:"
      ]
    },
    {
      "metadata": {
        "id": "hxNc71OCuPJm",
        "colab_type": "code",
        "outputId": "36c5395f-870c-437b-cdbd-c7f0fd7b3cf0",
        "colab": {
          "base_uri": "https://localhost:8080/",
          "height": 218
        }
      },
      "cell_type": "code",
      "source": [
        "V = np.zeros((3,3))\n",
        "print('V = \\n', V)\n",
        "U = np.ones((3,3))\n",
        "print('U = \\n', U)\n",
        "D = np.diag([10, 10, 10])\n",
        "print('D = \\n', D)"
      ],
      "execution_count": 76,
      "outputs": [
        {
          "output_type": "stream",
          "text": [
            "V = \n",
            " [[0. 0. 0.]\n",
            " [0. 0. 0.]\n",
            " [0. 0. 0.]]\n",
            "U = \n",
            " [[1. 1. 1.]\n",
            " [1. 1. 1.]\n",
            " [1. 1. 1.]]\n",
            "D = \n",
            " [[10  0  0]\n",
            " [ 0 10  0]\n",
            " [ 0  0 10]]\n"
          ],
          "name": "stdout"
        }
      ]
    },
    {
      "metadata": {
        "id": "Jvj19gEtwSBW",
        "colab_type": "text"
      },
      "cell_type": "markdown",
      "source": [
        "As funções `arange` e `linspace` permitem a criação de sequências como tensores NumPy:"
      ]
    },
    {
      "metadata": {
        "id": "JzQ1mgjfpS-g",
        "colab_type": "code",
        "outputId": "647d8c00-0c7c-44bf-dbdf-e75bc22fb490",
        "colab": {
          "base_uri": "https://localhost:8080/",
          "height": 67
        }
      },
      "cell_type": "code",
      "source": [
        "v = np.arange(0, 5, 0.5)\n",
        "u = np.linspace(0, 5, 10)\n",
        "print(\"v =\", v)\n",
        "print(\"u =\", u)"
      ],
      "execution_count": 77,
      "outputs": [
        {
          "output_type": "stream",
          "text": [
            "v = [0.  0.5 1.  1.5 2.  2.5 3.  3.5 4.  4.5]\n",
            "u = [0.         0.55555556 1.11111111 1.66666667 2.22222222 2.77777778\n",
            " 3.33333333 3.88888889 4.44444444 5.        ]\n"
          ],
          "name": "stdout"
        }
      ]
    },
    {
      "metadata": {
        "id": "OdnlPv1RpQ6E",
        "colab_type": "text"
      },
      "cell_type": "markdown",
      "source": [
        "O método `flatten` retorna uma cópia do tensor com todos os elementos em apenas uma dimensão: "
      ]
    },
    {
      "metadata": {
        "id": "Ds8qq9kgp37W",
        "colab_type": "code",
        "colab": {
          "base_uri": "https://localhost:8080/",
          "height": 67
        },
        "outputId": "7fe1294d-3699-4bec-dd16-aa8f482c148b"
      },
      "cell_type": "code",
      "source": [
        "v = np.array(range(50)).reshape(2,5,5)\n",
        "print(v.flatten())"
      ],
      "execution_count": 78,
      "outputs": [
        {
          "output_type": "stream",
          "text": [
            "[ 0  1  2  3  4  5  6  7  8  9 10 11 12 13 14 15 16 17 18 19 20 21 22 23\n",
            " 24 25 26 27 28 29 30 31 32 33 34 35 36 37 38 39 40 41 42 43 44 45 46 47\n",
            " 48 49]\n"
          ],
          "name": "stdout"
        }
      ]
    },
    {
      "metadata": {
        "id": "gsAAz1jvqIb_",
        "colab_type": "text"
      },
      "cell_type": "markdown",
      "source": [
        "O atrubuto `flat` retorna um iterador nos elementos de um tensor:"
      ]
    },
    {
      "metadata": {
        "id": "YFSxet2zqL5X",
        "colab_type": "code",
        "colab": {
          "base_uri": "https://localhost:8080/",
          "height": 34
        },
        "outputId": "bf68af8a-e92e-404d-d810-35df5e6740f7"
      },
      "cell_type": "code",
      "source": [
        "v_iter = v.flat\n",
        "for i in v_iter:\n",
        "  print(i, end=' ')"
      ],
      "execution_count": 79,
      "outputs": [
        {
          "output_type": "stream",
          "text": [
            "0 1 2 3 4 5 6 7 8 9 10 11 12 13 14 15 16 17 18 19 20 21 22 23 24 25 26 27 28 29 30 31 32 33 34 35 36 37 38 39 40 41 42 43 44 45 46 47 48 49 "
          ],
          "name": "stdout"
        }
      ]
    },
    {
      "metadata": {
        "id": "7pqHqPzGYpDO",
        "colab_type": "text"
      },
      "cell_type": "markdown",
      "source": [
        "## Indexação de tensores\n",
        "\n",
        "O acesso aos elementos de um tensor pode ser feito utilizando colchetes e o índice do elemento:"
      ]
    },
    {
      "metadata": {
        "id": "wvBHKxJfZTHS",
        "colab_type": "code",
        "outputId": "6f88bad4-226f-401e-d38f-06b836f92710",
        "colab": {
          "base_uri": "https://localhost:8080/",
          "height": 101
        }
      },
      "cell_type": "code",
      "source": [
        "print(v[1])"
      ],
      "execution_count": 80,
      "outputs": [
        {
          "output_type": "stream",
          "text": [
            "[[25 26 27 28 29]\n",
            " [30 31 32 33 34]\n",
            " [35 36 37 38 39]\n",
            " [40 41 42 43 44]\n",
            " [45 46 47 48 49]]\n"
          ],
          "name": "stdout"
        }
      ]
    },
    {
      "metadata": {
        "id": "09IGj904qBEy",
        "colab_type": "text"
      },
      "cell_type": "markdown",
      "source": [
        "Tensores com rank maior ou igual a 2, por exemplo, acessar o elemento com índice 0 no primeiro eixo e índice 1 no segundo eixo:"
      ]
    },
    {
      "metadata": {
        "id": "K6q0VUOkZouY",
        "colab_type": "code",
        "outputId": "6eca0d48-0786-4688-f14b-fa0f1a98ef29",
        "colab": {
          "base_uri": "https://localhost:8080/",
          "height": 34
        }
      },
      "cell_type": "code",
      "source": [
        "v = np.array([10, 20, 30, 40]).reshape(2,2)\n",
        "print(v[0,1])"
      ],
      "execution_count": 81,
      "outputs": [
        {
          "output_type": "stream",
          "text": [
            "20\n"
          ],
          "name": "stdout"
        }
      ]
    },
    {
      "metadata": {
        "id": "_SbKgNJHZabL",
        "colab_type": "text"
      },
      "cell_type": "markdown",
      "source": [
        "Tensor de rank 3:"
      ]
    },
    {
      "metadata": {
        "id": "x0g26pAZaB2D",
        "colab_type": "code",
        "outputId": "32b18516-c439-42b3-9d47-3f3494966f4f",
        "colab": {
          "base_uri": "https://localhost:8080/",
          "height": 151
        }
      },
      "cell_type": "code",
      "source": [
        "v = np.arange(8).reshape(2,2,2)\n",
        "print(\"v =\\n\", v)\n",
        "print(\"\\n v[0,0,1] =\", v[0,0,1])"
      ],
      "execution_count": 82,
      "outputs": [
        {
          "output_type": "stream",
          "text": [
            "v =\n",
            " [[[0 1]\n",
            "  [2 3]]\n",
            "\n",
            " [[4 5]\n",
            "  [6 7]]]\n",
            "\n",
            " v[0,0,1] = 1\n"
          ],
          "name": "stdout"
        }
      ]
    },
    {
      "metadata": {
        "id": "NjGAIQj6azC4",
        "colab_type": "text"
      },
      "cell_type": "markdown",
      "source": [
        "Subtensores contíguos de um tensor podem ser acessados utilizando o operador \" : \". Note que neste caso o NumPy não faz uma cópia dos dados, mas apenas cria uma *view* dos dados:"
      ]
    },
    {
      "metadata": {
        "id": "J2hlZl4YbLEM",
        "colab_type": "code",
        "outputId": "15ee26df-54a4-43c7-b1fc-2d301389309a",
        "colab": {
          "base_uri": "https://localhost:8080/",
          "height": 34
        }
      },
      "cell_type": "code",
      "source": [
        "v = np.arange(10)\n",
        "u = v[1:3]\n",
        "print(u)"
      ],
      "execution_count": 83,
      "outputs": [
        {
          "output_type": "stream",
          "text": [
            "[1 2]\n"
          ],
          "name": "stdout"
        }
      ]
    },
    {
      "metadata": {
        "id": "-X2mznPqbcEX",
        "colab_type": "text"
      },
      "cell_type": "markdown",
      "source": [
        "No caso de uma matriz (um tensor de rank 2), pode-se acessar submatrizes:"
      ]
    },
    {
      "metadata": {
        "id": "nTUQEHhWbbo5",
        "colab_type": "code",
        "outputId": "3819df8e-0907-44ea-ad2c-3e38aa48c80d",
        "colab": {
          "base_uri": "https://localhost:8080/",
          "height": 67
        }
      },
      "cell_type": "code",
      "source": [
        "A = np.arange(15).reshape(3,5)\n",
        "print(A)"
      ],
      "execution_count": 84,
      "outputs": [
        {
          "output_type": "stream",
          "text": [
            "[[ 0  1  2  3  4]\n",
            " [ 5  6  7  8  9]\n",
            " [10 11 12 13 14]]\n"
          ],
          "name": "stdout"
        }
      ]
    },
    {
      "metadata": {
        "id": "Pmjr-m8ccBKZ",
        "colab_type": "text"
      },
      "cell_type": "markdown",
      "source": [
        "Vamos selecionar somente a submatriz correspondente às linhas 0 e 1, e colunas 2 e 3:"
      ]
    },
    {
      "metadata": {
        "id": "0zYLkmgdcO64",
        "colab_type": "code",
        "outputId": "01553054-51c3-42fe-91a8-3f4341b2e5f0",
        "colab": {
          "base_uri": "https://localhost:8080/",
          "height": 50
        }
      },
      "cell_type": "code",
      "source": [
        "subA = A[0:2, 2:4]\n",
        "print(subA)"
      ],
      "execution_count": 85,
      "outputs": [
        {
          "output_type": "stream",
          "text": [
            "[[2 3]\n",
            " [7 8]]\n"
          ],
          "name": "stdout"
        }
      ]
    },
    {
      "metadata": {
        "id": "u0C2yO-f8QnK",
        "colab_type": "text"
      },
      "cell_type": "markdown",
      "source": [
        "A indexação pode ser realiza também passando uma lista ou outro tensor que contém os índices dos elementos que queremos selecionar, por exemplo, abaixo queremos selecionar somente os elementos com índice 2 e 3. Observe que, neste caso, o tensor v resultante é um novo objeto criado a partir do tensor u e alocado na memória. Ocorre cópia dos dados.\n",
        "\n",
        "---\n",
        "\n"
      ]
    },
    {
      "metadata": {
        "id": "bMfs0Coy8Z5Y",
        "colab_type": "code",
        "outputId": "c57281b1-7caa-404a-c225-51f1ee446d0b",
        "colab": {
          "base_uri": "https://localhost:8080/",
          "height": 34
        }
      },
      "cell_type": "code",
      "source": [
        "u = np.array([2.0, 3.5, 4.0, -10.1])\n",
        "v = u[[2,3]]\n",
        "print(v)"
      ],
      "execution_count": 86,
      "outputs": [
        {
          "output_type": "stream",
          "text": [
            "[  4.  -10.1]\n"
          ],
          "name": "stdout"
        }
      ]
    },
    {
      "metadata": {
        "id": "njVFR6y79mub",
        "colab_type": "text"
      },
      "cell_type": "markdown",
      "source": [
        "Filtrando as colunas 2 e 4 de uma matriz:"
      ]
    },
    {
      "metadata": {
        "id": "uRMLAXtu9wWe",
        "colab_type": "code",
        "outputId": "658f2f18-cc14-41b1-f095-50ab981eb319",
        "colab": {
          "base_uri": "https://localhost:8080/",
          "height": 118
        }
      },
      "cell_type": "code",
      "source": [
        "A = np.arange(10).reshape(2,5)\n",
        "B = A[:, [2,4]]\n",
        "print(\"A =\\n\", A)\n",
        "print(\"B =\\n\", B)"
      ],
      "execution_count": 87,
      "outputs": [
        {
          "output_type": "stream",
          "text": [
            "A =\n",
            " [[0 1 2 3 4]\n",
            " [5 6 7 8 9]]\n",
            "B =\n",
            " [[2 4]\n",
            " [7 9]]\n"
          ],
          "name": "stdout"
        }
      ]
    },
    {
      "metadata": {
        "id": "R6NilUlAwDRL",
        "colab_type": "text"
      },
      "cell_type": "markdown",
      "source": [
        "## Operações sobre tensores\n",
        "\n",
        "\n",
        "---\n",
        "\n"
      ]
    },
    {
      "metadata": {
        "id": "JafHKqHJqT4L",
        "colab_type": "text"
      },
      "cell_type": "markdown",
      "source": [
        "As operações sobre tensores NumPy são realizada elemento a elemento, por exemplo:"
      ]
    },
    {
      "metadata": {
        "id": "dsnrgcdmqmCa",
        "colab_type": "code",
        "outputId": "3411f192-f293-4c58-a38f-9140119da88f",
        "colab": {
          "base_uri": "https://localhost:8080/",
          "height": 34
        }
      },
      "cell_type": "code",
      "source": [
        "v = np.array([10,20,30])\n",
        "u = np.array([2,2,2])\n",
        "w = u+v\n",
        "print(w)"
      ],
      "execution_count": 88,
      "outputs": [
        {
          "output_type": "stream",
          "text": [
            "[12 22 32]\n"
          ],
          "name": "stdout"
        }
      ]
    },
    {
      "metadata": {
        "id": "-r_KzvntraQ0",
        "colab_type": "text"
      },
      "cell_type": "markdown",
      "source": [
        "Note que no caso dos operadores * e / a operação também ocorre elemento a elemento:"
      ]
    },
    {
      "metadata": {
        "id": "FA2fJCk4runZ",
        "colab_type": "code",
        "outputId": "ac6be8d9-3e0e-4c21-e489-fd865715a5c4",
        "colab": {
          "base_uri": "https://localhost:8080/",
          "height": 50
        }
      },
      "cell_type": "code",
      "source": [
        "w = u*v\n",
        "print(\"w =\", w)\n",
        "x = u/v\n",
        "print(\"x =\", x)"
      ],
      "execution_count": 89,
      "outputs": [
        {
          "output_type": "stream",
          "text": [
            "w = [20 40 60]\n",
            "x = [0.2        0.1        0.06666667]\n"
          ],
          "name": "stdout"
        }
      ]
    },
    {
      "metadata": {
        "id": "C2A_D2OF1sb9",
        "colab_type": "text"
      },
      "cell_type": "markdown",
      "source": [
        "Elevar todos os elementos de um vetor a uma potência:"
      ]
    },
    {
      "metadata": {
        "id": "8Pxd95kW1xkN",
        "colab_type": "code",
        "outputId": "df66e380-9e12-4d4c-ce3c-025241063ee3",
        "colab": {
          "base_uri": "https://localhost:8080/",
          "height": 34
        }
      },
      "cell_type": "code",
      "source": [
        "x = np.array([10, 20])\n",
        "y = x**2\n",
        "print(y)"
      ],
      "execution_count": 90,
      "outputs": [
        {
          "output_type": "stream",
          "text": [
            "[100 400]\n"
          ],
          "name": "stdout"
        }
      ]
    },
    {
      "metadata": {
        "id": "an525xms4jMa",
        "colab_type": "text"
      },
      "cell_type": "markdown",
      "source": [
        "Alguns operadores unários como a média, menor valor, maior valor, etc possuem funções específicas:"
      ]
    },
    {
      "metadata": {
        "id": "Lm_kGVAJ4xOK",
        "colab_type": "code",
        "outputId": "6d33395e-576a-4984-eda4-50f0ab881d6e",
        "colab": {
          "base_uri": "https://localhost:8080/",
          "height": 67
        }
      },
      "cell_type": "code",
      "source": [
        "x = np.arange(10)\n",
        "media = x.mean()\n",
        "menor_valor = np.min(x)\n",
        "arg_max = np.argmax(x)\n",
        "print(\"Média =\", media)\n",
        "print(\"Menor valor =\", menor_valor)\n",
        "print(\"Arg max =\", arg_max)"
      ],
      "execution_count": 91,
      "outputs": [
        {
          "output_type": "stream",
          "text": [
            "Média = 4.5\n",
            "Menor valor = 0\n",
            "Arg max = 9\n"
          ],
          "name": "stdout"
        }
      ]
    },
    {
      "metadata": {
        "id": "5GnytAyG5LaN",
        "colab_type": "text"
      },
      "cell_type": "markdown",
      "source": [
        "Em tensores com rank maior ou igual a 2 pode-se identifcar o eixo em que se deseja aplicar as funções min, max, etc. Caso o eixo não seja especificado, a funções retornará o menor/maior valor entre todos incluindo todos os eixos:"
      ]
    },
    {
      "metadata": {
        "id": "DSw-nQKS51ET",
        "colab_type": "code",
        "outputId": "fe31b0d4-dc34-4383-dfcb-f58913e3c5a9",
        "colab": {
          "base_uri": "https://localhost:8080/",
          "height": 101
        }
      },
      "cell_type": "code",
      "source": [
        "A = np.array([10, 30, 40, 20]).reshape(2,2)\n",
        "menor= A.min()\n",
        "menor_colunas = A.min(axis=0)\n",
        "print(\"A = \\n\", A)\n",
        "print(\"Menor valor = \", menor)\n",
        "print(\"Menor valor em cada coluna =\", menor_colunas)"
      ],
      "execution_count": 92,
      "outputs": [
        {
          "output_type": "stream",
          "text": [
            "A = \n",
            " [[10 30]\n",
            " [40 20]]\n",
            "Menor valor =  10\n",
            "Menor valor em cada coluna = [10 20]\n"
          ],
          "name": "stdout"
        }
      ]
    },
    {
      "metadata": {
        "id": "xz94sAsKsGsq",
        "colab_type": "text"
      },
      "cell_type": "markdown",
      "source": [
        "A operação de produto interno (ou produto escalar) pode ser realizada pela função `dot`:"
      ]
    },
    {
      "metadata": {
        "id": "K30DvjHZsUET",
        "colab_type": "code",
        "outputId": "7b860dff-b1a8-456d-ba2a-9d83d718c034",
        "colab": {
          "base_uri": "https://localhost:8080/",
          "height": 50
        }
      },
      "cell_type": "code",
      "source": [
        "w = np.dot(u, v)\n",
        "print(\"w =\", w)\n",
        "\n",
        "x = u.dot(v)\n",
        "print(\"x =\", x)"
      ],
      "execution_count": 93,
      "outputs": [
        {
          "output_type": "stream",
          "text": [
            "w = 120\n",
            "x = 120\n"
          ],
          "name": "stdout"
        }
      ]
    },
    {
      "metadata": {
        "id": "C0D_ik69W4Z6",
        "colab_type": "text"
      },
      "cell_type": "markdown",
      "source": [
        "Multiplicação de um escalar por um vetor:"
      ]
    },
    {
      "metadata": {
        "id": "owY8HcjfW3aC",
        "colab_type": "code",
        "outputId": "6679ef8c-06d6-4133-d1f5-98eeeec3551e",
        "colab": {
          "base_uri": "https://localhost:8080/",
          "height": 50
        }
      },
      "cell_type": "code",
      "source": [
        "print(\"w =\", w)\n",
        "x = 10*w\n",
        "print(\"x =\", x)"
      ],
      "execution_count": 94,
      "outputs": [
        {
          "output_type": "stream",
          "text": [
            "w = 120\n",
            "x = 1200\n"
          ],
          "name": "stdout"
        }
      ]
    },
    {
      "metadata": {
        "id": "JwyJGwDxEfNj",
        "colab_type": "text"
      },
      "cell_type": "markdown",
      "source": [
        "Um erro muito comum no uso do NumPy é não explorar sua eficiência computacional por meio das operações vetoriais. Dentro do possível, deve-se sempre organizar implementação de um algoritmo utilizando somente operações sobre tensores. Por exemplo, abaixo é feita a comparação entre o tempo computacional em usar a operação `dot` e uma implementação da mesma operação utilizando loops:"
      ]
    },
    {
      "metadata": {
        "id": "Yccxb0XDFIvT",
        "colab_type": "code",
        "outputId": "cb89bca8-5e33-4ef4-e81a-0310f9d2036d",
        "colab": {
          "base_uri": "https://localhost:8080/",
          "height": 67
        }
      },
      "cell_type": "code",
      "source": [
        "def produto_interno(u, v):\n",
        "  \n",
        "  prod = 0\n",
        "  \n",
        "  for i in range(u.size):\n",
        "    prod+=u[i]*v[i]\n",
        "    \n",
        "  return prod\n",
        "\n",
        "u = np.random.rand(10000)\n",
        "v = np.random.rand(10000)\n",
        "\n",
        "%timeit produto_interno(u,v)\n",
        "%timeit np.dot(u,v)"
      ],
      "execution_count": 95,
      "outputs": [
        {
          "output_type": "stream",
          "text": [
            "100 loops, best of 3: 3.38 ms per loop\n",
            "The slowest run took 17.07 times longer than the fastest. This could mean that an intermediate result is being cached.\n",
            "100000 loops, best of 3: 3.54 µs per loop\n"
          ],
          "name": "stdout"
        }
      ]
    },
    {
      "metadata": {
        "id": "WWKRVuHLYjGr",
        "colab_type": "text"
      },
      "cell_type": "markdown",
      "source": [
        "Observe que a operação `dot` é muito mais rápida. Isso ocorre porque a operação `dot` é implementada em linguagem C e realiza a operação de maneira vetorizada."
      ]
    },
    {
      "metadata": {
        "id": "k1Obs5hXXewy",
        "colab_type": "text"
      },
      "cell_type": "markdown",
      "source": [
        "## Matrizes\n",
        "\n",
        "Em NumPy, matrizes são tensores com 2 dimensões (tensores de rank 2). Embora exista um objeto `matrix`, em geral é mais prático tratar matrizes como tensores de rank 2:"
      ]
    },
    {
      "metadata": {
        "id": "juwF0cjsYbjz",
        "colab_type": "code",
        "outputId": "590eb84f-181d-4fbc-b66b-055984e3d44b",
        "colab": {
          "base_uri": "https://localhost:8080/",
          "height": 50
        }
      },
      "cell_type": "code",
      "source": [
        "A = np.array([[10, 20], [30, 40]])\n",
        "print(A)"
      ],
      "execution_count": 96,
      "outputs": [
        {
          "output_type": "stream",
          "text": [
            "[[10 20]\n",
            " [30 40]]\n"
          ],
          "name": "stdout"
        }
      ]
    },
    {
      "metadata": {
        "id": "AqlxtEjkqPTz",
        "colab_type": "text"
      },
      "cell_type": "markdown",
      "source": [
        "Criar uma matriz identidade:"
      ]
    },
    {
      "metadata": {
        "id": "ynq-VGzIdmWc",
        "colab_type": "code",
        "outputId": "b84900de-d6a1-468b-a8d6-9a2a62c28413",
        "colab": {
          "base_uri": "https://localhost:8080/",
          "height": 101
        }
      },
      "cell_type": "code",
      "source": [
        "I = np.eye(5)\n",
        "print(I)"
      ],
      "execution_count": 97,
      "outputs": [
        {
          "output_type": "stream",
          "text": [
            "[[1. 0. 0. 0. 0.]\n",
            " [0. 1. 0. 0. 0.]\n",
            " [0. 0. 1. 0. 0.]\n",
            " [0. 0. 0. 1. 0.]\n",
            " [0. 0. 0. 0. 1.]]\n"
          ],
          "name": "stdout"
        }
      ]
    },
    {
      "metadata": {
        "id": "EpTskAk-gUi4",
        "colab_type": "text"
      },
      "cell_type": "markdown",
      "source": [
        "Matrizes diagonais:"
      ]
    },
    {
      "metadata": {
        "id": "5uM9cpCoguu2",
        "colab_type": "code",
        "outputId": "44375c39-5b2d-4b92-ea1d-41bdbf0dc0b9",
        "colab": {
          "base_uri": "https://localhost:8080/",
          "height": 101
        }
      },
      "cell_type": "code",
      "source": [
        "D = np.diag(np.arange(5))\n",
        "print(D)"
      ],
      "execution_count": 98,
      "outputs": [
        {
          "output_type": "stream",
          "text": [
            "[[0 0 0 0 0]\n",
            " [0 1 0 0 0]\n",
            " [0 0 2 0 0]\n",
            " [0 0 0 3 0]\n",
            " [0 0 0 0 4]]\n"
          ],
          "name": "stdout"
        }
      ]
    },
    {
      "metadata": {
        "id": "CXQISAWyhKrC",
        "colab_type": "text"
      },
      "cell_type": "markdown",
      "source": [
        "## Operações sobre matrizes\n",
        "\n",
        "Multilplicação de vetores e matrizes é realizada por meio da função `dot`:"
      ]
    },
    {
      "metadata": {
        "id": "K1ToFX4TmkNU",
        "colab_type": "code",
        "outputId": "d580f4e0-4f80-48c4-b217-1616ef3dc150",
        "colab": {
          "base_uri": "https://localhost:8080/",
          "height": 34
        }
      },
      "cell_type": "code",
      "source": [
        "v = np.array([10, 10])\n",
        "A = np.arange(4).reshape(2,2)\n",
        "u = A.dot(v)\n",
        "print(u)"
      ],
      "execution_count": 99,
      "outputs": [
        {
          "output_type": "stream",
          "text": [
            "[10 50]\n"
          ],
          "name": "stdout"
        }
      ]
    },
    {
      "metadata": {
        "id": "IAPTOIltoDwo",
        "colab_type": "text"
      },
      "cell_type": "markdown",
      "source": [
        "Multiplicação de matrizes:"
      ]
    },
    {
      "metadata": {
        "id": "K_YImIu3oGI8",
        "colab_type": "code",
        "outputId": "d3c6d6d4-b743-4d96-d94b-3a0df48a99d9",
        "colab": {
          "base_uri": "https://localhost:8080/",
          "height": 50
        }
      },
      "cell_type": "code",
      "source": [
        "A = np.ones((2,2))\n",
        "B = 10*np.ones((2,2))\n",
        "C= np.dot(A,B)\n",
        "print(C)"
      ],
      "execution_count": 100,
      "outputs": [
        {
          "output_type": "stream",
          "text": [
            "[[20. 20.]\n",
            " [20. 20.]]\n"
          ],
          "name": "stdout"
        }
      ]
    },
    {
      "metadata": {
        "id": "EBwKaPSF2sLs",
        "colab_type": "text"
      },
      "cell_type": "markdown",
      "source": [
        "A multiplicação de matrizes também pode ser realizada por meio do operador @:"
      ]
    },
    {
      "metadata": {
        "id": "DXSSIDNu2xgg",
        "colab_type": "code",
        "outputId": "aa64dd5c-7bb4-44be-f674-1e7af80e5439",
        "colab": {
          "base_uri": "https://localhost:8080/",
          "height": 50
        }
      },
      "cell_type": "code",
      "source": [
        "C = A @ B\n",
        "print(C)"
      ],
      "execution_count": 101,
      "outputs": [
        {
          "output_type": "stream",
          "text": [
            "[[20. 20.]\n",
            " [20. 20.]]\n"
          ],
          "name": "stdout"
        }
      ]
    },
    {
      "metadata": {
        "id": "qzAth7z7o7WO",
        "colab_type": "text"
      },
      "cell_type": "markdown",
      "source": [
        "Transposição de matrizes pode ser feita com a função `transpose` ou simplesmente com a letra \" `T` \":"
      ]
    },
    {
      "metadata": {
        "id": "bFM3eZRao60Z",
        "colab_type": "code",
        "outputId": "def2207a-0028-4687-e3d8-d67deeda4297",
        "colab": {
          "base_uri": "https://localhost:8080/",
          "height": 118
        }
      },
      "cell_type": "code",
      "source": [
        "A = np.arange(4).reshape(2,2)\n",
        "print(\"Transposta de A =\\n\", A.transpose())\n",
        "print(\"Transposta de A =\\n\", A.T)"
      ],
      "execution_count": 102,
      "outputs": [
        {
          "output_type": "stream",
          "text": [
            "Transposta de A =\n",
            " [[0 2]\n",
            " [1 3]]\n",
            "Transposta de A =\n",
            " [[0 2]\n",
            " [1 3]]\n"
          ],
          "name": "stdout"
        }
      ]
    },
    {
      "metadata": {
        "id": "Vbw5FgTXrqiM",
        "colab_type": "text"
      },
      "cell_type": "markdown",
      "source": [
        "## Funções universais\n",
        "\n",
        "O NumPy oferece diversas funções matemáticas clássicas, como exponencial, logaritmo, etc. Essas funções são aplicadas a todos os elementos de um tensor. Exemplo de aplicação da função exponencial:"
      ]
    },
    {
      "metadata": {
        "id": "QmBUZX_6qeAC",
        "colab_type": "code",
        "outputId": "69322251-651b-473b-8892-8b80023ccce0",
        "colab": {
          "base_uri": "https://localhost:8080/",
          "height": 34
        }
      },
      "cell_type": "code",
      "source": [
        "u = np.arange(5)\n",
        "v = np.exp(u)\n",
        "print(v)"
      ],
      "execution_count": 103,
      "outputs": [
        {
          "output_type": "stream",
          "text": [
            "[ 1.          2.71828183  7.3890561  20.08553692 54.59815003]\n"
          ],
          "name": "stdout"
        }
      ]
    },
    {
      "metadata": {
        "id": "1_0iSQ5pZKNW",
        "colab_type": "text"
      },
      "cell_type": "markdown",
      "source": [
        "Função seno:"
      ]
    },
    {
      "metadata": {
        "id": "t_sMO44SDSKZ",
        "colab_type": "code",
        "outputId": "ecd90c4c-1d3f-4c58-e49f-5c6c697d08cf",
        "colab": {
          "base_uri": "https://localhost:8080/",
          "height": 34
        }
      },
      "cell_type": "code",
      "source": [
        "v = np.sin(u)\n",
        "print(v)"
      ],
      "execution_count": 104,
      "outputs": [
        {
          "output_type": "stream",
          "text": [
            "[ 0.          0.84147098  0.90929743  0.14112001 -0.7568025 ]\n"
          ],
          "name": "stdout"
        }
      ]
    },
    {
      "metadata": {
        "id": "agq52NgH7FMF",
        "colab_type": "text"
      },
      "cell_type": "markdown",
      "source": [
        "##Operadores lógicos\n",
        "\n",
        "As operações lógicas entre tensores ocorrem elemento a elemento. O resultado da operação é um tensor booleano com valores `True` ou `False` que indicam se a condição lógica é verdadeira ou falsa:"
      ]
    },
    {
      "metadata": {
        "id": "C38F0AfI7Ylt",
        "colab_type": "code",
        "outputId": "5f2ffe83-1d1a-440b-e840-f986a7552e62",
        "colab": {
          "base_uri": "https://localhost:8080/",
          "height": 50
        }
      },
      "cell_type": "code",
      "source": [
        "u = np.arange(4).reshape(2,2)\n",
        "v = 2*np.ones((2,2))\n",
        "w = u > v\n",
        "print(w)"
      ],
      "execution_count": 105,
      "outputs": [
        {
          "output_type": "stream",
          "text": [
            "[[False False]\n",
            " [False  True]]\n"
          ],
          "name": "stdout"
        }
      ]
    },
    {
      "metadata": {
        "id": "Txd0NUEo8C1Y",
        "colab_type": "text"
      },
      "cell_type": "markdown",
      "source": [
        "Os tensores booleanos podem ser usados para filtrar valores em um tensor, por exemplo:"
      ]
    },
    {
      "metadata": {
        "id": "lWRzG4CW-RM0",
        "colab_type": "code",
        "outputId": "e181d77b-9b5d-46e9-c69d-b47df45f27df",
        "colab": {
          "base_uri": "https://localhost:8080/",
          "height": 34
        }
      },
      "cell_type": "code",
      "source": [
        "u = np.array([-1, 2, -3])\n",
        "v = np.array([True, False, True])\n",
        "print(u[v])"
      ],
      "execution_count": 106,
      "outputs": [
        {
          "output_type": "stream",
          "text": [
            "[-1 -3]\n"
          ],
          "name": "stdout"
        }
      ]
    },
    {
      "metadata": {
        "id": "h53LsMpi-2yK",
        "colab_type": "text"
      },
      "cell_type": "markdown",
      "source": [
        "Note que podemos obter o mesmo efeito anterior de filtrar somente os valores negativos fazendo:"
      ]
    },
    {
      "metadata": {
        "id": "R0i-OoCw-_lM",
        "colab_type": "code",
        "outputId": "e9efd4f1-a148-4979-de56-8bf59cb44bb1",
        "colab": {
          "base_uri": "https://localhost:8080/",
          "height": 34
        }
      },
      "cell_type": "code",
      "source": [
        "w = u[u < 0]\n",
        "print(w)"
      ],
      "execution_count": 107,
      "outputs": [
        {
          "output_type": "stream",
          "text": [
            "[-1 -3]\n"
          ],
          "name": "stdout"
        }
      ]
    },
    {
      "metadata": {
        "id": "cNl_BvwO_Itd",
        "colab_type": "text"
      },
      "cell_type": "markdown",
      "source": [
        "E podemos também atribuir um valor específico aos elementos de um tensor que satisfazem uma certa condições, por exemplo zerar todos os valores negativos:"
      ]
    },
    {
      "metadata": {
        "id": "GPwTLQB4_ROj",
        "colab_type": "code",
        "outputId": "674421ec-f0e1-4817-a9b0-14864213ab13",
        "colab": {
          "base_uri": "https://localhost:8080/",
          "height": 50
        }
      },
      "cell_type": "code",
      "source": [
        "print(\"u =\", u)\n",
        "u[u < 0] = 0\n",
        "print(\"u =\", u)"
      ],
      "execution_count": 108,
      "outputs": [
        {
          "output_type": "stream",
          "text": [
            "u = [-1  2 -3]\n",
            "u = [0 2 0]\n"
          ],
          "name": "stdout"
        }
      ]
    },
    {
      "metadata": {
        "id": "xij_InehvmsX",
        "colab_type": "text"
      },
      "cell_type": "markdown",
      "source": [
        "As funções `all` e `any` são muito úteis em comparações lógicas. `all` retorna `True` se todos os elementos de um tensor booleano forem `True`:"
      ]
    },
    {
      "metadata": {
        "id": "GF1iFI1Fv5yZ",
        "colab_type": "code",
        "colab": {
          "base_uri": "https://localhost:8080/",
          "height": 50
        },
        "outputId": "599d8cb6-f6d6-4fc4-b0d4-4451bfab8b66"
      },
      "cell_type": "code",
      "source": [
        "v = np.arange(5)\n",
        "u = v >= 0\n",
        "print('u =', u)\n",
        "print(np.all(u))"
      ],
      "execution_count": 109,
      "outputs": [
        {
          "output_type": "stream",
          "text": [
            "u = [ True  True  True  True  True]\n",
            "True\n"
          ],
          "name": "stdout"
        }
      ]
    },
    {
      "metadata": {
        "id": "ZU84FfSswTRW",
        "colab_type": "text"
      },
      "cell_type": "markdown",
      "source": [
        "enquanto `any` retorna `True` se pelo menos um elemento de um tensor booleano for `True`:"
      ]
    },
    {
      "metadata": {
        "id": "WyWp_JxZwVAx",
        "colab_type": "code",
        "colab": {
          "base_uri": "https://localhost:8080/",
          "height": 50
        },
        "outputId": "4735bbcf-20f8-4a30-b7a8-f9e6236cb991"
      },
      "cell_type": "code",
      "source": [
        "v = np.array([-1, 1, 2, 3])\n",
        "u = v > 0\n",
        "print('u =',u)\n",
        "print(np.any(u))"
      ],
      "execution_count": 110,
      "outputs": [
        {
          "output_type": "stream",
          "text": [
            "u = [False  True  True  True]\n",
            "True\n"
          ],
          "name": "stdout"
        }
      ]
    },
    {
      "metadata": {
        "id": "brVOeiPOrK--",
        "colab_type": "text"
      },
      "cell_type": "markdown",
      "source": [
        "#Geração de números aleatórios\n",
        "\n",
        "O NumPy possui um submódulo chamado `random` que possui diversas funções para a geração de números (pseudo) aleatórios. Embora o Python possua uma biblioteca padrão também chamada `random`, a biblioteca do NumPy tem mais funcionalidas e gera diretamente tensores aleatórios.\n",
        "\n",
        "Criação de um tensor segundo uma distribuição uniforme [0,1):"
      ]
    },
    {
      "metadata": {
        "id": "Q9KoLqZIrxoY",
        "colab_type": "code",
        "colab": {
          "base_uri": "https://localhost:8080/",
          "height": 84
        },
        "outputId": "ea40a37f-0a0e-431d-f45e-a5e4722f15a5"
      },
      "cell_type": "code",
      "source": [
        "import numpy.random as rd\n",
        "v = rd.rand(4,4)\n",
        "print(v)"
      ],
      "execution_count": 111,
      "outputs": [
        {
          "output_type": "stream",
          "text": [
            "[[0.53032644 0.64955429 0.14204564 0.8542932 ]\n",
            " [0.08667339 0.66452193 0.2598328  0.62854424]\n",
            " [0.16176199 0.67631027 0.59181866 0.46520878]\n",
            " [0.45966528 0.00483748 0.41898964 0.3138278 ]]\n"
          ],
          "name": "stdout"
        }
      ]
    },
    {
      "metadata": {
        "id": "KVqd5es_r9af",
        "colab_type": "text"
      },
      "cell_type": "markdown",
      "source": [
        "Criação de um tensor em que cada elemento segue uma distribuição normal com $\\mu = 10.0$ e $\\sigma = 1.0$:"
      ]
    },
    {
      "metadata": {
        "id": "ikbf4oIDsNW3",
        "colab_type": "code",
        "colab": {
          "base_uri": "https://localhost:8080/",
          "height": 84
        },
        "outputId": "1f7b0acf-00af-4748-aa6e-dc2edd3685d2"
      },
      "cell_type": "code",
      "source": [
        "v = rd.normal(10, 1, (4,4))\n",
        "print(v)"
      ],
      "execution_count": 112,
      "outputs": [
        {
          "output_type": "stream",
          "text": [
            "[[ 8.60001567 10.46498054 10.41181221 11.23474914]\n",
            " [11.55141921  9.19280817  9.98716559 10.67610524]\n",
            " [ 9.36403894 10.43594105  9.85991626  9.68840492]\n",
            " [11.43912453  9.38554947  8.81442147 11.17852721]]\n"
          ],
          "name": "stdout"
        }
      ]
    },
    {
      "metadata": {
        "id": "Ie2rAOJts1Aw",
        "colab_type": "text"
      },
      "cell_type": "markdown",
      "source": [
        "Note que toda vez que rodarmos o código, os tensores terão valores diferentes. Podemos evitar esse comportamento, de forma que toda vez que o código é executado o tensor aleatório tenha o mesmo valor por meio da função `seed`, cujo argumento é a semente para o gerador de números aleatórios do Python:"
      ]
    },
    {
      "metadata": {
        "id": "R-sWVdLutM91",
        "colab_type": "code",
        "colab": {
          "base_uri": "https://localhost:8080/",
          "height": 50
        },
        "outputId": "e6499b2c-71fe-4414-a9fe-2f5c5f4a1a9f"
      },
      "cell_type": "code",
      "source": [
        "rd.seed(1000)\n",
        "v = rd.rand(4)\n",
        "print(v)\n",
        "rd.seed(1000)\n",
        "v = rd.rand(4)\n",
        "print(v)"
      ],
      "execution_count": 113,
      "outputs": [
        {
          "output_type": "stream",
          "text": [
            "[0.65358959 0.11500694 0.95028286 0.4821914 ]\n",
            "[0.65358959 0.11500694 0.95028286 0.4821914 ]\n"
          ],
          "name": "stdout"
        }
      ]
    },
    {
      "metadata": {
        "id": "__OPp_GfZjso",
        "colab_type": "text"
      },
      "cell_type": "markdown",
      "source": [
        "---\n",
        "\n",
        "# Álgebra Linear\n",
        "\n",
        "O NumPy possui um submódulo específico para a realização de operações típicas da álgebra linear chamado `linalg`. Com este módulo é possível resolver sistemas lineares, obter inversas de matrizes, calcular autovalores e autovetores, etc.\n",
        "\n",
        "## Solução de sistemas lineares\n",
        "\n",
        "A solução de sistemas de equações lineares do tipo $Ax = b$ pode ser realizada por meio da função `solve`:"
      ]
    },
    {
      "metadata": {
        "id": "pIfk3sYhaFK7",
        "colab_type": "code",
        "outputId": "6668102c-688b-48c5-d5bf-6c7bb3ef0680",
        "colab": {
          "base_uri": "https://localhost:8080/",
          "height": 34
        }
      },
      "cell_type": "code",
      "source": [
        "A = np.array([10, 20, 30, 40]).reshape(2,2)\n",
        "b = np.array([5,10])\n",
        "x = np.linalg.solve(A, b)\n",
        "print(x)"
      ],
      "execution_count": 114,
      "outputs": [
        {
          "output_type": "stream",
          "text": [
            "[0.   0.25]\n"
          ],
          "name": "stdout"
        }
      ]
    },
    {
      "metadata": {
        "id": "aMNYa_S8a-rN",
        "colab_type": "text"
      },
      "cell_type": "markdown",
      "source": [
        "Caso $b =[b_1, b_2, ..., b_p]$ em que cada $b_j, j = 1, ..., p$ é um vetor coluna, a função `solve` retorna uma matriz $x = [x_1, x_2, ..., x_p]$ em que cada $x_j$  é solução do sistema linear $Ax_j = b_j$."
      ]
    },
    {
      "metadata": {
        "id": "-81UpAPOcZVy",
        "colab_type": "code",
        "outputId": "b25281aa-3eb4-442b-d616-f3ddb82cec20",
        "colab": {
          "base_uri": "https://localhost:8080/",
          "height": 118
        }
      },
      "cell_type": "code",
      "source": [
        "b1 = np.array([5, 10]).reshape(2,1)\n",
        "b2 = np.array([10, 12]).reshape(2,1)\n",
        "b = np.hstack([b1, b2])\n",
        "print(\"b =\\n\", b)\n",
        "x = np.linalg.solve(A, b)\n",
        "print(\"x =\\n\", x)"
      ],
      "execution_count": 115,
      "outputs": [
        {
          "output_type": "stream",
          "text": [
            "b =\n",
            " [[ 5 10]\n",
            " [10 12]]\n",
            "x =\n",
            " [[ 0.   -0.8 ]\n",
            " [ 0.25  0.9 ]]\n"
          ],
          "name": "stdout"
        }
      ]
    },
    {
      "metadata": {
        "id": "4fYTHL8tjjHR",
        "colab_type": "text"
      },
      "cell_type": "markdown",
      "source": [
        "Note que resolver o sistema linear simultaneamente para $b_1$ e $b_2$ é mais eficiente que resolver cada sistema individualmente:"
      ]
    },
    {
      "metadata": {
        "id": "0C8UuE5bjxG1",
        "colab_type": "code",
        "colab": {
          "base_uri": "https://localhost:8080/",
          "height": 50
        },
        "outputId": "122e77be-5604-4cd6-a4ee-595c44f95c99"
      },
      "cell_type": "code",
      "source": [
        "def fun(A, b1, b2):\n",
        "  x1 = np.linalg.solve(A,b1)\n",
        "  x2 = np.linalg.solve(A,b2)\n",
        "  \n",
        "  \n",
        "A = np.random.rand(1000,1000)\n",
        "b1 = np.random.rand(1000).reshape(1000,1)\n",
        "b2 = np.random.rand(1000).reshape(1000,1)\n",
        "b = np.hstack([b1,b2])\n",
        "  \n",
        "%timeit fun(A,b1,b2)\n",
        "%timeit np.linalg.solve(A,b)"
      ],
      "execution_count": 116,
      "outputs": [
        {
          "output_type": "stream",
          "text": [
            "10 loops, best of 3: 77.8 ms per loop\n",
            "10 loops, best of 3: 40.7 ms per loop\n"
          ],
          "name": "stdout"
        }
      ]
    },
    {
      "metadata": {
        "id": "6XE3rwaml9KN",
        "colab_type": "text"
      },
      "cell_type": "markdown",
      "source": [
        "## Matriz inversa\n",
        "\n",
        "O cálculo da inversa $A^{-1}$ de uma matriz $A$ pode ser realizado pela função `inv`:"
      ]
    },
    {
      "metadata": {
        "id": "r72g6OTFmPTL",
        "colab_type": "code",
        "colab": {
          "base_uri": "https://localhost:8080/",
          "height": 50
        },
        "outputId": "0da2cb87-400b-4a17-a576-be857bcd397b"
      },
      "cell_type": "code",
      "source": [
        "A = np.array([10, 20, 30, 40]).reshape(2,2)\n",
        "inv_A = np.linalg.inv(A)\n",
        "print(inv_A)"
      ],
      "execution_count": 117,
      "outputs": [
        {
          "output_type": "stream",
          "text": [
            "[[-0.2   0.1 ]\n",
            " [ 0.15 -0.05]]\n"
          ],
          "name": "stdout"
        }
      ]
    },
    {
      "metadata": {
        "id": "_RWVD_Ydnuaw",
        "colab_type": "text"
      },
      "cell_type": "markdown",
      "source": [
        "##Rank e determinante"
      ]
    },
    {
      "metadata": {
        "id": "8mumnKwanyjY",
        "colab_type": "code",
        "colab": {
          "base_uri": "https://localhost:8080/",
          "height": 50
        },
        "outputId": "a6e08371-85ed-4009-b9d6-46abb79d8078"
      },
      "cell_type": "code",
      "source": [
        "rank_A = np.linalg.matrix_rank(A)\n",
        "print(\"Rank de A =\",rank_A)\n",
        "det_A = np.linalg.det(A)\n",
        "print(\"Determinante de A = %.2f\" % det_A)"
      ],
      "execution_count": 118,
      "outputs": [
        {
          "output_type": "stream",
          "text": [
            "Rank de A = 2\n",
            "Determinante de A = -200.00\n"
          ],
          "name": "stdout"
        }
      ]
    },
    {
      "metadata": {
        "id": "lO-sWWSl2pON",
        "colab_type": "text"
      },
      "cell_type": "markdown",
      "source": [
        "# Broadcasting\n",
        "\n",
        "Em princípio, operações sobre tensores com shapes incompatíveis são indefinidas. Por exemplo, podemos somar dois tensores com shapes (4, 4), resultando em um tensor com também com shape (4,4), uma vez que a operação de soma será aplicada elemento a elemento. No entanto, o que acontece se tentarmos somar um tensor com shape (4,4) e outro com shape (1,4) ? Neste caso, o NumPy realizará o *broadcasting* do vetor (1,4)  para poder realizar a operação. Dentro de certas regras de broadcasting, o NumPy permite a aplicações de operações sobre tensores com shapes diferentes.\n",
        "\n",
        "As dimensões de dois tensores são consideradas compatíveis quando elas são a mesma ou uma delas é 1. Por exemplo, as dimensões dos tensores u = (4,4) e v = (1,4) são compatíveis pois a primeira dimensão do tensor v é 1 e a segunda dimensão de ambos é 4. Neste caso, o tensor v será \"estendido\" até ficar com shape (4,4) por meio da  replicação dos seus elementos:"
      ]
    },
    {
      "metadata": {
        "id": "Mcc9hmoJhtZa",
        "colab_type": "code",
        "outputId": "dea455dc-07dc-4f72-cdbd-94cdbd54ee91",
        "colab": {
          "base_uri": "https://localhost:8080/",
          "height": 218
        }
      },
      "cell_type": "code",
      "source": [
        "u = np.ones((4,4))\n",
        "v = np.array([10, 20, 30, 40]).reshape(1,4)\n",
        "x = u*v\n",
        "print('u =\\n',u)\n",
        "print('v =\\n',v)\n",
        "print('x =\\n',x)"
      ],
      "execution_count": 119,
      "outputs": [
        {
          "output_type": "stream",
          "text": [
            "u =\n",
            " [[1. 1. 1. 1.]\n",
            " [1. 1. 1. 1.]\n",
            " [1. 1. 1. 1.]\n",
            " [1. 1. 1. 1.]]\n",
            "v =\n",
            " [[10 20 30 40]]\n",
            "x =\n",
            " [[10. 20. 30. 40.]\n",
            " [10. 20. 30. 40.]\n",
            " [10. 20. 30. 40.]\n",
            " [10. 20. 30. 40.]]\n"
          ],
          "name": "stdout"
        }
      ]
    }
  ]
}