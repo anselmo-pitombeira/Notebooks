{
  "nbformat": 4,
  "nbformat_minor": 0,
  "metadata": {
    "colab": {
      "name": "Tutorial_NumPy.ipynb",
      "version": "0.3.2",
      "provenance": [],
      "collapsed_sections": []
    },
    "kernelspec": {
      "name": "python3",
      "display_name": "Python 3"
    }
  },
  "cells": [
    {
      "metadata": {
        "id": "GRl0miKkTejx",
        "colab_type": "text"
      },
      "cell_type": "markdown",
      "source": [
        "# **Introdução ao NumPy**\n",
        "\n",
        "Prof. Dr. Anselmo R. Pitombeira Neto\n",
        "\n",
        "OPL - Pesquisa Operacional em Produção e Logística, Departamento de Engenharia de Produção, Universidade Federal do Ceará\n",
        "\n",
        "ver 0.2\n",
        "\n",
        "---\n",
        "\n",
        "O Numerical Python (NumPy) é uma biblioteca para a linguagem Python com funções para se trabalhar com computação numérica. Seu principal objeto é o vetor n-dimensional, ou `ndarray`. Um vetor n-dimensional também é conhecido pelo nome *tensor*. A principal característica do `ndarray` é que ele deve ser homogêneo, ou seja, diferentemente do objeto lista, todos os seus elementos devem ser do mesmo tipo."
      ]
    },
    {
      "metadata": {
        "id": "eQP-auD3quje",
        "colab_type": "text"
      },
      "cell_type": "markdown",
      "source": [
        "## Criação de tensores\n",
        "\n",
        "Pode-se criar um `ndarray` passando um container como inicializador para um objeto da classe `array`:"
      ]
    },
    {
      "metadata": {
        "id": "kKbhlPsaTdct",
        "colab_type": "code",
        "outputId": "30860738-c960-4f4c-dfc4-713be2d7b372",
        "colab": {
          "base_uri": "https://localhost:8080/",
          "height": 34
        }
      },
      "cell_type": "code",
      "source": [
        "import numpy as np\n",
        "v = np.array([1,2,3,4])\n",
        "print(v)"
      ],
      "execution_count": 120,
      "outputs": [
        {
          "output_type": "stream",
          "text": [
            "[1 2 3 4]\n"
          ],
          "name": "stdout"
        }
      ]
    },
    {
      "metadata": {
        "id": "19_HvO7UXmKO",
        "colab_type": "text"
      },
      "cell_type": "markdown",
      "source": [
        "O tipo dos elementos de um `ndarray` pode ser acessado por meio do atributo `dtype`"
      ]
    },
    {
      "metadata": {
        "id": "SO5efaoTZuh7",
        "colab_type": "code",
        "outputId": "1b0904dc-452e-431d-8469-3e1152c1b4ce",
        "colab": {
          "base_uri": "https://localhost:8080/",
          "height": 34
        }
      },
      "cell_type": "code",
      "source": [
        "print(v.dtype)"
      ],
      "execution_count": 121,
      "outputs": [
        {
          "output_type": "stream",
          "text": [
            "int64\n"
          ],
          "name": "stdout"
        }
      ]
    },
    {
      "metadata": {
        "id": "6h1xJyKoZ4Gy",
        "colab_type": "text"
      },
      "cell_type": "markdown",
      "source": [
        "Neste caso, ao criar o vetor, o tipo *default* assumido foi `int64`, mas o tipo desejado pode ser especificado na criação do tensor:"
      ]
    },
    {
      "metadata": {
        "id": "QMbt9IyYaLtM",
        "colab_type": "code",
        "outputId": "67cd198c-91ef-483d-948c-c1fef6fabcd5",
        "colab": {
          "base_uri": "https://localhost:8080/",
          "height": 34
        }
      },
      "cell_type": "code",
      "source": [
        "v = np.array([1,2,3,4], dtype='float64')\n",
        "print(v.dtype)"
      ],
      "execution_count": 122,
      "outputs": [
        {
          "output_type": "stream",
          "text": [
            "float64\n"
          ],
          "name": "stdout"
        }
      ]
    },
    {
      "metadata": {
        "id": "B5qT6IFZdHOK",
        "colab_type": "text"
      },
      "cell_type": "markdown",
      "source": [
        "No caso, se utilizarmos números com pontos decimais, o tipo será automaticamente `float`:"
      ]
    },
    {
      "metadata": {
        "id": "0oMT87yqdNxo",
        "colab_type": "code",
        "outputId": "3fc3e2bc-3c76-4d5a-a58f-c01c9ccf757d",
        "colab": {
          "base_uri": "https://localhost:8080/",
          "height": 34
        }
      },
      "cell_type": "code",
      "source": [
        "v = np.array([1.0,2.0,3.0,4.0])\n",
        "print(v.dtype)"
      ],
      "execution_count": 123,
      "outputs": [
        {
          "output_type": "stream",
          "text": [
            "float64\n"
          ],
          "name": "stdout"
        }
      ]
    },
    {
      "metadata": {
        "id": "67KByuuNbOiZ",
        "colab_type": "text"
      },
      "cell_type": "markdown",
      "source": [
        "Os tensores NumPy também possuem um atributo chamado `shape`. Esse atributo indica a forma do tensor, por exemplo:"
      ]
    },
    {
      "metadata": {
        "id": "3nVjxdR7bcV5",
        "colab_type": "code",
        "outputId": "2f73fb7a-45a0-4581-a36b-612517944dac",
        "colab": {
          "base_uri": "https://localhost:8080/",
          "height": 34
        }
      },
      "cell_type": "code",
      "source": [
        "print(v.shape)"
      ],
      "execution_count": 124,
      "outputs": [
        {
          "output_type": "stream",
          "text": [
            "(4,)\n"
          ],
          "name": "stdout"
        }
      ]
    },
    {
      "metadata": {
        "id": "noxoGPhCbg3B",
        "colab_type": "text"
      },
      "cell_type": "markdown",
      "source": [
        "Neste caso, o tensor `v` possui 1 dimensão (ou eixo) com 4 elementos. Um tensor unidimensional corresponde a um vetor. Podemos também criar um tensor bidimensional (uma matriz) usando o atributo `shape`:\n"
      ]
    },
    {
      "metadata": {
        "id": "DBCVBk2vcUAH",
        "colab_type": "code",
        "outputId": "b10f3d27-78e7-419f-ee38-4ae92b73b325",
        "colab": {
          "base_uri": "https://localhost:8080/",
          "height": 50
        }
      },
      "cell_type": "code",
      "source": [
        "v = np.array([1,2,3,4])\n",
        "v.shape = (2,2)\n",
        "print(v)"
      ],
      "execution_count": 125,
      "outputs": [
        {
          "output_type": "stream",
          "text": [
            "[[1 2]\n",
            " [3 4]]\n"
          ],
          "name": "stdout"
        }
      ]
    },
    {
      "metadata": {
        "id": "DLOuNcNPczIf",
        "colab_type": "text"
      },
      "cell_type": "markdown",
      "source": [
        "Outra forma útil de mudar o shape de um tensor é simplesmente utilizando a função reshape:"
      ]
    },
    {
      "metadata": {
        "id": "gpJ53kTUc2Mx",
        "colab_type": "code",
        "outputId": "d2461759-d280-402e-ef02-65061bd78c13",
        "colab": {
          "base_uri": "https://localhost:8080/",
          "height": 50
        }
      },
      "cell_type": "code",
      "source": [
        "v = np.array([1,2,3,4]).reshape(2,2)\n",
        "print(v)"
      ],
      "execution_count": 126,
      "outputs": [
        {
          "output_type": "stream",
          "text": [
            "[[1 2]\n",
            " [3 4]]\n"
          ],
          "name": "stdout"
        }
      ]
    },
    {
      "metadata": {
        "id": "5NYz1OVp0bZR",
        "colab_type": "text"
      },
      "cell_type": "markdown",
      "source": [
        "A função `reshape` aceita o uso de -1 como dimensão na especificação do shape. Neste caso,  a função reshape determinará automaticamente o número de elementos em cada dimensão de forma a manter inalterado o número total de elementos no tensor. No exemplo abaixo, especificamos o tamanho da primeira dimensão como igual a 2. A função reshape então determinará automaticamente qual o tamanho da segunda dimensão:"
      ]
    },
    {
      "metadata": {
        "id": "nDc5LxCj1CLG",
        "colab_type": "code",
        "outputId": "1ef89cd4-b2ff-4c97-ed10-c6027ebb2ff1",
        "colab": {
          "base_uri": "https://localhost:8080/",
          "height": 50
        }
      },
      "cell_type": "code",
      "source": [
        "v = np.array([1,2,3,4,5,6,7,8])\n",
        "v = v.reshape(2, -1)\n",
        "print(v)"
      ],
      "execution_count": 127,
      "outputs": [
        {
          "output_type": "stream",
          "text": [
            "[[1 2 3 4]\n",
            " [5 6 7 8]]\n"
          ],
          "name": "stdout"
        }
      ]
    },
    {
      "metadata": {
        "id": "MndEPD7beNfy",
        "colab_type": "text"
      },
      "cell_type": "markdown",
      "source": [
        "O número de eixos (ou dimensões) de um tensor é dado pelo atributo `ndim`, enquanto o número total de elementos é dado por `size`:"
      ]
    },
    {
      "metadata": {
        "id": "d6ghGc-MfTFT",
        "colab_type": "code",
        "outputId": "130d148f-b432-4dca-8e44-bce8dce33d1e",
        "colab": {
          "base_uri": "https://localhost:8080/",
          "height": 269
        }
      },
      "cell_type": "code",
      "source": [
        "v = np.array(range(50)).reshape(2,5,5)\n",
        "\n",
        "print('Shape = ', v.shape)\n",
        "print('Número de dimensões = ', v.ndim)\n",
        "print('Número de elementos = ', v.size)\n",
        "print('Tensor v = \\n', v)"
      ],
      "execution_count": 128,
      "outputs": [
        {
          "output_type": "stream",
          "text": [
            "Shape =  (2, 5, 5)\n",
            "Número de dimensões =  3\n",
            "Número de elementos =  50\n",
            "Tensor v = \n",
            " [[[ 0  1  2  3  4]\n",
            "  [ 5  6  7  8  9]\n",
            "  [10 11 12 13 14]\n",
            "  [15 16 17 18 19]\n",
            "  [20 21 22 23 24]]\n",
            "\n",
            " [[25 26 27 28 29]\n",
            "  [30 31 32 33 34]\n",
            "  [35 36 37 38 39]\n",
            "  [40 41 42 43 44]\n",
            "  [45 46 47 48 49]]]\n"
          ],
          "name": "stdout"
        }
      ]
    },
    {
      "metadata": {
        "id": "6AQC8WECuHP3",
        "colab_type": "text"
      },
      "cell_type": "markdown",
      "source": [
        "As funções `zeros`, `ones` e `diag` são muito convenientes para a criação de tensores:"
      ]
    },
    {
      "metadata": {
        "id": "hxNc71OCuPJm",
        "colab_type": "code",
        "outputId": "3a82e855-94f6-472a-b7d6-c6186368e76c",
        "colab": {
          "base_uri": "https://localhost:8080/",
          "height": 218
        }
      },
      "cell_type": "code",
      "source": [
        "V = np.zeros((3,3))\n",
        "print('V = \\n', V)\n",
        "U = np.ones((3,3))\n",
        "print('U = \\n', U)\n",
        "D = np.diag([10, 10, 10])\n",
        "print('D = \\n', D)"
      ],
      "execution_count": 129,
      "outputs": [
        {
          "output_type": "stream",
          "text": [
            "V = \n",
            " [[0. 0. 0.]\n",
            " [0. 0. 0.]\n",
            " [0. 0. 0.]]\n",
            "U = \n",
            " [[1. 1. 1.]\n",
            " [1. 1. 1.]\n",
            " [1. 1. 1.]]\n",
            "D = \n",
            " [[10  0  0]\n",
            " [ 0 10  0]\n",
            " [ 0  0 10]]\n"
          ],
          "name": "stdout"
        }
      ]
    },
    {
      "metadata": {
        "id": "Jvj19gEtwSBW",
        "colab_type": "text"
      },
      "cell_type": "markdown",
      "source": [
        "As funções `arange` e `linspace` permitem a criação de sequências como tensores NumPy:"
      ]
    },
    {
      "metadata": {
        "id": "JzQ1mgjfpS-g",
        "colab_type": "code",
        "outputId": "00eab2d8-ac00-49b3-bf07-77a09df9065c",
        "colab": {
          "base_uri": "https://localhost:8080/",
          "height": 67
        }
      },
      "cell_type": "code",
      "source": [
        "v = np.arange(0, 5, 0.5)\n",
        "u = np.linspace(0, 5, 10)\n",
        "print(\"v =\", v)\n",
        "print(\"u =\", u)"
      ],
      "execution_count": 130,
      "outputs": [
        {
          "output_type": "stream",
          "text": [
            "v = [0.  0.5 1.  1.5 2.  2.5 3.  3.5 4.  4.5]\n",
            "u = [0.         0.55555556 1.11111111 1.66666667 2.22222222 2.77777778\n",
            " 3.33333333 3.88888889 4.44444444 5.        ]\n"
          ],
          "name": "stdout"
        }
      ]
    },
    {
      "metadata": {
        "id": "OdnlPv1RpQ6E",
        "colab_type": "text"
      },
      "cell_type": "markdown",
      "source": [
        "O método `flatten` retorna uma cópia do tensor com todos os elementos em apenas uma dimensão: "
      ]
    },
    {
      "metadata": {
        "id": "Ds8qq9kgp37W",
        "colab_type": "code",
        "colab": {
          "base_uri": "https://localhost:8080/",
          "height": 67
        },
        "outputId": "f7bc0662-6f9a-4f51-986a-57727b368384"
      },
      "cell_type": "code",
      "source": [
        "v = np.array(range(50)).reshape(2,5,5)\n",
        "print(v.flatten())"
      ],
      "execution_count": 131,
      "outputs": [
        {
          "output_type": "stream",
          "text": [
            "[ 0  1  2  3  4  5  6  7  8  9 10 11 12 13 14 15 16 17 18 19 20 21 22 23\n",
            " 24 25 26 27 28 29 30 31 32 33 34 35 36 37 38 39 40 41 42 43 44 45 46 47\n",
            " 48 49]\n"
          ],
          "name": "stdout"
        }
      ]
    },
    {
      "metadata": {
        "id": "gsAAz1jvqIb_",
        "colab_type": "text"
      },
      "cell_type": "markdown",
      "source": [
        "O atrubuto `flat` retorna um iterador nos elementos de um tensor:"
      ]
    },
    {
      "metadata": {
        "id": "YFSxet2zqL5X",
        "colab_type": "code",
        "colab": {
          "base_uri": "https://localhost:8080/",
          "height": 34
        },
        "outputId": "af3b5903-779c-43fe-cb6d-643a1c3c07fa"
      },
      "cell_type": "code",
      "source": [
        "v_iter = v.flat\n",
        "for i in v_iter:\n",
        "  print(i, end=' ')"
      ],
      "execution_count": 132,
      "outputs": [
        {
          "output_type": "stream",
          "text": [
            "0 1 2 3 4 5 6 7 8 9 10 11 12 13 14 15 16 17 18 19 20 21 22 23 24 25 26 27 28 29 30 31 32 33 34 35 36 37 38 39 40 41 42 43 44 45 46 47 48 49 "
          ],
          "name": "stdout"
        }
      ]
    },
    {
      "metadata": {
        "id": "7pqHqPzGYpDO",
        "colab_type": "text"
      },
      "cell_type": "markdown",
      "source": [
        "## Indexação de tensores\n",
        "\n",
        "O acesso aos elementos de um tensor pode ser feito utilizando colchetes e o índice do elemento:"
      ]
    },
    {
      "metadata": {
        "id": "wvBHKxJfZTHS",
        "colab_type": "code",
        "outputId": "c4db4da9-f614-4988-c7a4-295856ab1c02",
        "colab": {
          "base_uri": "https://localhost:8080/",
          "height": 101
        }
      },
      "cell_type": "code",
      "source": [
        "print(v[1])"
      ],
      "execution_count": 133,
      "outputs": [
        {
          "output_type": "stream",
          "text": [
            "[[25 26 27 28 29]\n",
            " [30 31 32 33 34]\n",
            " [35 36 37 38 39]\n",
            " [40 41 42 43 44]\n",
            " [45 46 47 48 49]]\n"
          ],
          "name": "stdout"
        }
      ]
    },
    {
      "metadata": {
        "id": "09IGj904qBEy",
        "colab_type": "text"
      },
      "cell_type": "markdown",
      "source": [
        "Tensores com rank maior ou igual a 2, por exemplo, acessar o elemento com índice 0 no primeiro eixo e índice 1 no segundo eixo:"
      ]
    },
    {
      "metadata": {
        "id": "K6q0VUOkZouY",
        "colab_type": "code",
        "outputId": "fecbd9a7-f5d0-47d3-be9d-b29d3b8cc198",
        "colab": {
          "base_uri": "https://localhost:8080/",
          "height": 34
        }
      },
      "cell_type": "code",
      "source": [
        "v = np.array([10, 20, 30, 40]).reshape(2,2)\n",
        "print(v[0,1])"
      ],
      "execution_count": 134,
      "outputs": [
        {
          "output_type": "stream",
          "text": [
            "20\n"
          ],
          "name": "stdout"
        }
      ]
    },
    {
      "metadata": {
        "id": "_SbKgNJHZabL",
        "colab_type": "text"
      },
      "cell_type": "markdown",
      "source": [
        "Tensor de rank 3:"
      ]
    },
    {
      "metadata": {
        "id": "x0g26pAZaB2D",
        "colab_type": "code",
        "outputId": "2fc6b1ba-8a24-45b7-9888-70010e7281a4",
        "colab": {
          "base_uri": "https://localhost:8080/",
          "height": 151
        }
      },
      "cell_type": "code",
      "source": [
        "v = np.arange(8).reshape(2,2,2)\n",
        "print(\"v =\\n\", v)\n",
        "print(\"\\n v[0,0,1] =\", v[0,0,1])"
      ],
      "execution_count": 135,
      "outputs": [
        {
          "output_type": "stream",
          "text": [
            "v =\n",
            " [[[0 1]\n",
            "  [2 3]]\n",
            "\n",
            " [[4 5]\n",
            "  [6 7]]]\n",
            "\n",
            " v[0,0,1] = 1\n"
          ],
          "name": "stdout"
        }
      ]
    },
    {
      "metadata": {
        "id": "NjGAIQj6azC4",
        "colab_type": "text"
      },
      "cell_type": "markdown",
      "source": [
        "Subtensores contíguos de um tensor podem ser acessados utilizando o operador \" : \". Note que neste caso o NumPy não faz uma cópia dos dados, mas apenas cria uma *view* dos dados:"
      ]
    },
    {
      "metadata": {
        "id": "J2hlZl4YbLEM",
        "colab_type": "code",
        "outputId": "66e60e49-5965-4ab7-96aa-e9e53e77dfa2",
        "colab": {
          "base_uri": "https://localhost:8080/",
          "height": 34
        }
      },
      "cell_type": "code",
      "source": [
        "v = np.arange(10)\n",
        "u = v[1:3]\n",
        "print(u)"
      ],
      "execution_count": 136,
      "outputs": [
        {
          "output_type": "stream",
          "text": [
            "[1 2]\n"
          ],
          "name": "stdout"
        }
      ]
    },
    {
      "metadata": {
        "id": "-X2mznPqbcEX",
        "colab_type": "text"
      },
      "cell_type": "markdown",
      "source": [
        "No caso de uma matriz (um tensor de rank 2), pode-se acessar submatrizes:"
      ]
    },
    {
      "metadata": {
        "id": "nTUQEHhWbbo5",
        "colab_type": "code",
        "outputId": "bf12ea06-a1be-44ed-9412-5cf33dcf6770",
        "colab": {
          "base_uri": "https://localhost:8080/",
          "height": 67
        }
      },
      "cell_type": "code",
      "source": [
        "A = np.arange(15).reshape(3,5)\n",
        "print(A)"
      ],
      "execution_count": 137,
      "outputs": [
        {
          "output_type": "stream",
          "text": [
            "[[ 0  1  2  3  4]\n",
            " [ 5  6  7  8  9]\n",
            " [10 11 12 13 14]]\n"
          ],
          "name": "stdout"
        }
      ]
    },
    {
      "metadata": {
        "id": "Pmjr-m8ccBKZ",
        "colab_type": "text"
      },
      "cell_type": "markdown",
      "source": [
        "Vamos selecionar somente a submatriz correspondente às linhas 0 e 1, e colunas 2 e 3:"
      ]
    },
    {
      "metadata": {
        "id": "0zYLkmgdcO64",
        "colab_type": "code",
        "outputId": "49700adb-c5ed-47bf-b013-df50f3e7b575",
        "colab": {
          "base_uri": "https://localhost:8080/",
          "height": 50
        }
      },
      "cell_type": "code",
      "source": [
        "subA = A[0:2, 2:4]\n",
        "print(subA)"
      ],
      "execution_count": 138,
      "outputs": [
        {
          "output_type": "stream",
          "text": [
            "[[2 3]\n",
            " [7 8]]\n"
          ],
          "name": "stdout"
        }
      ]
    },
    {
      "metadata": {
        "id": "u0C2yO-f8QnK",
        "colab_type": "text"
      },
      "cell_type": "markdown",
      "source": [
        "A indexação pode ser realiza também passando uma lista ou outro tensor que contém os índices dos elementos que queremos selecionar, por exemplo, abaixo queremos selecionar somente os elementos com índice 2 e 3. Observe que, neste caso, o tensor v resultante é um novo objeto criado a partir do tensor u e alocado na memória. Ocorre cópia dos dados.\n",
        "\n",
        "---\n",
        "\n"
      ]
    },
    {
      "metadata": {
        "id": "bMfs0Coy8Z5Y",
        "colab_type": "code",
        "outputId": "50c7fb3d-e52c-4793-b4b9-b273be39a356",
        "colab": {
          "base_uri": "https://localhost:8080/",
          "height": 34
        }
      },
      "cell_type": "code",
      "source": [
        "u = np.array([2.0, 3.5, 4.0, -10.1])\n",
        "v = u[[2,3]]\n",
        "print(v)"
      ],
      "execution_count": 139,
      "outputs": [
        {
          "output_type": "stream",
          "text": [
            "[  4.  -10.1]\n"
          ],
          "name": "stdout"
        }
      ]
    },
    {
      "metadata": {
        "id": "njVFR6y79mub",
        "colab_type": "text"
      },
      "cell_type": "markdown",
      "source": [
        "Filtrando as colunas 2 e 4 de uma matriz:"
      ]
    },
    {
      "metadata": {
        "id": "uRMLAXtu9wWe",
        "colab_type": "code",
        "outputId": "f24c171f-adb8-4b3f-e895-6f29d41fe735",
        "colab": {
          "base_uri": "https://localhost:8080/",
          "height": 118
        }
      },
      "cell_type": "code",
      "source": [
        "A = np.arange(10).reshape(2,5)\n",
        "B = A[:, [2,4]]\n",
        "print(\"A =\\n\", A)\n",
        "print(\"B =\\n\", B)"
      ],
      "execution_count": 140,
      "outputs": [
        {
          "output_type": "stream",
          "text": [
            "A =\n",
            " [[0 1 2 3 4]\n",
            " [5 6 7 8 9]]\n",
            "B =\n",
            " [[2 4]\n",
            " [7 9]]\n"
          ],
          "name": "stdout"
        }
      ]
    },
    {
      "metadata": {
        "id": "R6NilUlAwDRL",
        "colab_type": "text"
      },
      "cell_type": "markdown",
      "source": [
        "## Operações sobre tensores\n",
        "\n",
        "\n",
        "---\n",
        "\n"
      ]
    },
    {
      "metadata": {
        "id": "JafHKqHJqT4L",
        "colab_type": "text"
      },
      "cell_type": "markdown",
      "source": [
        "As operações sobre tensores NumPy são realizada elemento a elemento, por exemplo:"
      ]
    },
    {
      "metadata": {
        "id": "dsnrgcdmqmCa",
        "colab_type": "code",
        "outputId": "55e8df6a-58b2-4168-9c4f-2d5749699431",
        "colab": {
          "base_uri": "https://localhost:8080/",
          "height": 34
        }
      },
      "cell_type": "code",
      "source": [
        "v = np.array([10,20,30])\n",
        "u = np.array([2,2,2])\n",
        "w = u+v\n",
        "print(w)"
      ],
      "execution_count": 141,
      "outputs": [
        {
          "output_type": "stream",
          "text": [
            "[12 22 32]\n"
          ],
          "name": "stdout"
        }
      ]
    },
    {
      "metadata": {
        "id": "-r_KzvntraQ0",
        "colab_type": "text"
      },
      "cell_type": "markdown",
      "source": [
        "Note que no caso dos operadores * e / a operação também ocorre elemento a elemento:"
      ]
    },
    {
      "metadata": {
        "id": "FA2fJCk4runZ",
        "colab_type": "code",
        "outputId": "06381eb2-7417-4c8b-d278-cf71d88cdaf9",
        "colab": {
          "base_uri": "https://localhost:8080/",
          "height": 50
        }
      },
      "cell_type": "code",
      "source": [
        "w = u*v\n",
        "print(\"w =\", w)\n",
        "x = u/v\n",
        "print(\"x =\", x)"
      ],
      "execution_count": 142,
      "outputs": [
        {
          "output_type": "stream",
          "text": [
            "w = [20 40 60]\n",
            "x = [0.2        0.1        0.06666667]\n"
          ],
          "name": "stdout"
        }
      ]
    },
    {
      "metadata": {
        "id": "C2A_D2OF1sb9",
        "colab_type": "text"
      },
      "cell_type": "markdown",
      "source": [
        "Elevar todos os elementos de um vetor a uma potência:"
      ]
    },
    {
      "metadata": {
        "id": "8Pxd95kW1xkN",
        "colab_type": "code",
        "outputId": "10636b3b-6ad3-4abf-a55c-161354bb1561",
        "colab": {
          "base_uri": "https://localhost:8080/",
          "height": 34
        }
      },
      "cell_type": "code",
      "source": [
        "x = np.array([10, 20])\n",
        "y = x**2\n",
        "print(y)"
      ],
      "execution_count": 143,
      "outputs": [
        {
          "output_type": "stream",
          "text": [
            "[100 400]\n"
          ],
          "name": "stdout"
        }
      ]
    },
    {
      "metadata": {
        "id": "an525xms4jMa",
        "colab_type": "text"
      },
      "cell_type": "markdown",
      "source": [
        "Alguns operadores unários como a média, menor valor, maior valor, etc possuem funções específicas:"
      ]
    },
    {
      "metadata": {
        "id": "Lm_kGVAJ4xOK",
        "colab_type": "code",
        "outputId": "cea3bc40-4ac1-421c-9dc3-f13073f29550",
        "colab": {
          "base_uri": "https://localhost:8080/",
          "height": 67
        }
      },
      "cell_type": "code",
      "source": [
        "x = np.arange(10)\n",
        "media = x.mean()\n",
        "menor_valor = np.min(x)\n",
        "arg_max = np.argmax(x)\n",
        "print(\"Média =\", media)\n",
        "print(\"Menor valor =\", menor_valor)\n",
        "print(\"Arg max =\", arg_max)"
      ],
      "execution_count": 144,
      "outputs": [
        {
          "output_type": "stream",
          "text": [
            "Média = 4.5\n",
            "Menor valor = 0\n",
            "Arg max = 9\n"
          ],
          "name": "stdout"
        }
      ]
    },
    {
      "metadata": {
        "id": "5GnytAyG5LaN",
        "colab_type": "text"
      },
      "cell_type": "markdown",
      "source": [
        "Em tensores com rank maior ou igual a 2 pode-se identifcar o eixo em que se deseja aplicar as funções min, max, etc. Caso o eixo não seja especificado, a funções retornará o menor/maior valor entre todos incluindo todos os eixos:"
      ]
    },
    {
      "metadata": {
        "id": "DSw-nQKS51ET",
        "colab_type": "code",
        "outputId": "f1621845-6bdf-44f6-9e71-09a1c72205e7",
        "colab": {
          "base_uri": "https://localhost:8080/",
          "height": 101
        }
      },
      "cell_type": "code",
      "source": [
        "A = np.array([10, 30, 40, 20]).reshape(2,2)\n",
        "menor= A.min()\n",
        "menor_colunas = A.min(axis=0)\n",
        "print(\"A = \\n\", A)\n",
        "print(\"Menor valor = \", menor)\n",
        "print(\"Menor valor em cada coluna =\", menor_colunas)"
      ],
      "execution_count": 145,
      "outputs": [
        {
          "output_type": "stream",
          "text": [
            "A = \n",
            " [[10 30]\n",
            " [40 20]]\n",
            "Menor valor =  10\n",
            "Menor valor em cada coluna = [10 20]\n"
          ],
          "name": "stdout"
        }
      ]
    },
    {
      "metadata": {
        "id": "xz94sAsKsGsq",
        "colab_type": "text"
      },
      "cell_type": "markdown",
      "source": [
        "A operação de produto interno (ou produto escalar) pode ser realizada pela função `dot`:"
      ]
    },
    {
      "metadata": {
        "id": "K30DvjHZsUET",
        "colab_type": "code",
        "outputId": "5aa7c270-b355-4b82-863e-5c7f8d45595a",
        "colab": {
          "base_uri": "https://localhost:8080/",
          "height": 50
        }
      },
      "cell_type": "code",
      "source": [
        "w = np.dot(u, v)\n",
        "print(\"w =\", w)\n",
        "\n",
        "x = u.dot(v)\n",
        "print(\"x =\", x)"
      ],
      "execution_count": 146,
      "outputs": [
        {
          "output_type": "stream",
          "text": [
            "w = 120\n",
            "x = 120\n"
          ],
          "name": "stdout"
        }
      ]
    },
    {
      "metadata": {
        "id": "C0D_ik69W4Z6",
        "colab_type": "text"
      },
      "cell_type": "markdown",
      "source": [
        "Multiplicação de um escalar por um vetor:"
      ]
    },
    {
      "metadata": {
        "id": "owY8HcjfW3aC",
        "colab_type": "code",
        "outputId": "43f662b4-b004-4415-f639-f18275db78f6",
        "colab": {
          "base_uri": "https://localhost:8080/",
          "height": 50
        }
      },
      "cell_type": "code",
      "source": [
        "print(\"w =\", w)\n",
        "x = 10*w\n",
        "print(\"x =\", x)"
      ],
      "execution_count": 147,
      "outputs": [
        {
          "output_type": "stream",
          "text": [
            "w = 120\n",
            "x = 1200\n"
          ],
          "name": "stdout"
        }
      ]
    },
    {
      "metadata": {
        "id": "JwyJGwDxEfNj",
        "colab_type": "text"
      },
      "cell_type": "markdown",
      "source": [
        "Um erro muito comum no uso do NumPy é não explorar sua eficiência computacional por meio das operações vetoriais. Dentro do possível, deve-se sempre organizar implementação de um algoritmo utilizando somente operações sobre tensores. Por exemplo, abaixo é feita a comparação entre o tempo computacional em usar a operação `dot` e uma implementação da mesma operação utilizando loops:"
      ]
    },
    {
      "metadata": {
        "id": "Yccxb0XDFIvT",
        "colab_type": "code",
        "outputId": "3ba00724-5034-4bcc-ca29-7535f4ab6062",
        "colab": {
          "base_uri": "https://localhost:8080/",
          "height": 67
        }
      },
      "cell_type": "code",
      "source": [
        "def produto_interno(u, v):\n",
        "  \n",
        "  prod = 0\n",
        "  \n",
        "  for i in range(u.size):\n",
        "    prod+=u[i]*v[i]\n",
        "    \n",
        "  return prod\n",
        "\n",
        "u = np.random.rand(10000)\n",
        "v = np.random.rand(10000)\n",
        "\n",
        "%timeit produto_interno(u,v)\n",
        "%timeit np.dot(u,v)"
      ],
      "execution_count": 148,
      "outputs": [
        {
          "output_type": "stream",
          "text": [
            "100 loops, best of 3: 3.31 ms per loop\n",
            "The slowest run took 15.63 times longer than the fastest. This could mean that an intermediate result is being cached.\n",
            "100000 loops, best of 3: 3.52 µs per loop\n"
          ],
          "name": "stdout"
        }
      ]
    },
    {
      "metadata": {
        "id": "WWKRVuHLYjGr",
        "colab_type": "text"
      },
      "cell_type": "markdown",
      "source": [
        "Observe que a operação `dot` é muito mais rápida. Isso ocorre porque a operação `dot` é implementada em linguagem C e realiza a operação de maneira vetorizada."
      ]
    },
    {
      "metadata": {
        "id": "k1Obs5hXXewy",
        "colab_type": "text"
      },
      "cell_type": "markdown",
      "source": [
        "## Matrizes\n",
        "\n",
        "Em NumPy, matrizes são tensores com 2 dimensões (tensores de rank 2). Embora exista um objeto `matrix`, em geral é mais prático tratar matrizes como tensores de rank 2:"
      ]
    },
    {
      "metadata": {
        "id": "juwF0cjsYbjz",
        "colab_type": "code",
        "outputId": "744468ae-3191-4f29-b85c-e41825bfa9e0",
        "colab": {
          "base_uri": "https://localhost:8080/",
          "height": 50
        }
      },
      "cell_type": "code",
      "source": [
        "A = np.array([[10, 20], [30, 40]])\n",
        "print(A)"
      ],
      "execution_count": 149,
      "outputs": [
        {
          "output_type": "stream",
          "text": [
            "[[10 20]\n",
            " [30 40]]\n"
          ],
          "name": "stdout"
        }
      ]
    },
    {
      "metadata": {
        "id": "AqlxtEjkqPTz",
        "colab_type": "text"
      },
      "cell_type": "markdown",
      "source": [
        "Criar uma matriz identidade:"
      ]
    },
    {
      "metadata": {
        "id": "ynq-VGzIdmWc",
        "colab_type": "code",
        "outputId": "756139f6-eb37-4e24-b01b-6853a44a76ce",
        "colab": {
          "base_uri": "https://localhost:8080/",
          "height": 101
        }
      },
      "cell_type": "code",
      "source": [
        "I = np.eye(5)\n",
        "print(I)"
      ],
      "execution_count": 150,
      "outputs": [
        {
          "output_type": "stream",
          "text": [
            "[[1. 0. 0. 0. 0.]\n",
            " [0. 1. 0. 0. 0.]\n",
            " [0. 0. 1. 0. 0.]\n",
            " [0. 0. 0. 1. 0.]\n",
            " [0. 0. 0. 0. 1.]]\n"
          ],
          "name": "stdout"
        }
      ]
    },
    {
      "metadata": {
        "id": "EpTskAk-gUi4",
        "colab_type": "text"
      },
      "cell_type": "markdown",
      "source": [
        "Matrizes diagonais:"
      ]
    },
    {
      "metadata": {
        "id": "5uM9cpCoguu2",
        "colab_type": "code",
        "outputId": "5e597810-e193-4550-be06-9bb3b530de09",
        "colab": {
          "base_uri": "https://localhost:8080/",
          "height": 101
        }
      },
      "cell_type": "code",
      "source": [
        "D = np.diag(np.arange(5))\n",
        "print(D)"
      ],
      "execution_count": 151,
      "outputs": [
        {
          "output_type": "stream",
          "text": [
            "[[0 0 0 0 0]\n",
            " [0 1 0 0 0]\n",
            " [0 0 2 0 0]\n",
            " [0 0 0 3 0]\n",
            " [0 0 0 0 4]]\n"
          ],
          "name": "stdout"
        }
      ]
    },
    {
      "metadata": {
        "id": "CXQISAWyhKrC",
        "colab_type": "text"
      },
      "cell_type": "markdown",
      "source": [
        "## Operações sobre matrizes\n",
        "\n",
        "Multilplicação de vetores e matrizes é realizada por meio da função `dot`:"
      ]
    },
    {
      "metadata": {
        "id": "K1ToFX4TmkNU",
        "colab_type": "code",
        "outputId": "858e75bf-de5a-4007-e1ef-176422d21ea8",
        "colab": {
          "base_uri": "https://localhost:8080/",
          "height": 34
        }
      },
      "cell_type": "code",
      "source": [
        "v = np.array([10, 10])\n",
        "A = np.arange(4).reshape(2,2)\n",
        "u = A.dot(v)\n",
        "print(u)"
      ],
      "execution_count": 152,
      "outputs": [
        {
          "output_type": "stream",
          "text": [
            "[10 50]\n"
          ],
          "name": "stdout"
        }
      ]
    },
    {
      "metadata": {
        "id": "IAPTOIltoDwo",
        "colab_type": "text"
      },
      "cell_type": "markdown",
      "source": [
        "Multiplicação de matrizes:"
      ]
    },
    {
      "metadata": {
        "id": "K_YImIu3oGI8",
        "colab_type": "code",
        "outputId": "56184e4e-fd96-4808-bc07-80a28c46023d",
        "colab": {
          "base_uri": "https://localhost:8080/",
          "height": 50
        }
      },
      "cell_type": "code",
      "source": [
        "A = np.ones((2,2))\n",
        "B = 10*np.ones((2,2))\n",
        "C= np.dot(A,B)\n",
        "print(C)"
      ],
      "execution_count": 153,
      "outputs": [
        {
          "output_type": "stream",
          "text": [
            "[[20. 20.]\n",
            " [20. 20.]]\n"
          ],
          "name": "stdout"
        }
      ]
    },
    {
      "metadata": {
        "id": "EBwKaPSF2sLs",
        "colab_type": "text"
      },
      "cell_type": "markdown",
      "source": [
        "A multiplicação de matrizes também pode ser realizada por meio do operador @:"
      ]
    },
    {
      "metadata": {
        "id": "DXSSIDNu2xgg",
        "colab_type": "code",
        "outputId": "205b74bc-3675-49dd-8e02-f8ecaf937f74",
        "colab": {
          "base_uri": "https://localhost:8080/",
          "height": 50
        }
      },
      "cell_type": "code",
      "source": [
        "C = A @ B\n",
        "print(C)"
      ],
      "execution_count": 154,
      "outputs": [
        {
          "output_type": "stream",
          "text": [
            "[[20. 20.]\n",
            " [20. 20.]]\n"
          ],
          "name": "stdout"
        }
      ]
    },
    {
      "metadata": {
        "id": "qzAth7z7o7WO",
        "colab_type": "text"
      },
      "cell_type": "markdown",
      "source": [
        "Transposição de matrizes pode ser feita com a função `transpose` ou simplesmente com a letra \" `T` \":"
      ]
    },
    {
      "metadata": {
        "id": "bFM3eZRao60Z",
        "colab_type": "code",
        "outputId": "6f4646bc-47d7-45df-e2cf-a93e33c445c6",
        "colab": {
          "base_uri": "https://localhost:8080/",
          "height": 118
        }
      },
      "cell_type": "code",
      "source": [
        "A = np.arange(4).reshape(2,2)\n",
        "print(\"Transposta de A =\\n\", A.transpose())\n",
        "print(\"Transposta de A =\\n\", A.T)"
      ],
      "execution_count": 155,
      "outputs": [
        {
          "output_type": "stream",
          "text": [
            "Transposta de A =\n",
            " [[0 2]\n",
            " [1 3]]\n",
            "Transposta de A =\n",
            " [[0 2]\n",
            " [1 3]]\n"
          ],
          "name": "stdout"
        }
      ]
    },
    {
      "metadata": {
        "id": "Vbw5FgTXrqiM",
        "colab_type": "text"
      },
      "cell_type": "markdown",
      "source": [
        "## Funções universais\n",
        "\n",
        "O NumPy oferece diversas funções matemáticas clássicas, como exponencial, logaritmo, etc. Essas funções são aplicadas a todos os elementos de um tensor. Exemplo de aplicação da função exponencial:"
      ]
    },
    {
      "metadata": {
        "id": "QmBUZX_6qeAC",
        "colab_type": "code",
        "outputId": "6a695afb-72be-4a6b-fbe2-64e1f87b30d4",
        "colab": {
          "base_uri": "https://localhost:8080/",
          "height": 34
        }
      },
      "cell_type": "code",
      "source": [
        "u = np.arange(5)\n",
        "v = np.exp(u)\n",
        "print(v)"
      ],
      "execution_count": 156,
      "outputs": [
        {
          "output_type": "stream",
          "text": [
            "[ 1.          2.71828183  7.3890561  20.08553692 54.59815003]\n"
          ],
          "name": "stdout"
        }
      ]
    },
    {
      "metadata": {
        "id": "1_0iSQ5pZKNW",
        "colab_type": "text"
      },
      "cell_type": "markdown",
      "source": [
        "Função seno:"
      ]
    },
    {
      "metadata": {
        "id": "t_sMO44SDSKZ",
        "colab_type": "code",
        "outputId": "e08868de-9c30-4f46-9df6-4286201c17ec",
        "colab": {
          "base_uri": "https://localhost:8080/",
          "height": 34
        }
      },
      "cell_type": "code",
      "source": [
        "v = np.sin(u)\n",
        "print(v)"
      ],
      "execution_count": 157,
      "outputs": [
        {
          "output_type": "stream",
          "text": [
            "[ 0.          0.84147098  0.90929743  0.14112001 -0.7568025 ]\n"
          ],
          "name": "stdout"
        }
      ]
    },
    {
      "metadata": {
        "id": "agq52NgH7FMF",
        "colab_type": "text"
      },
      "cell_type": "markdown",
      "source": [
        "##Operadores lógicos\n",
        "\n",
        "As operações lógicas entre tensores ocorrem elemento a elemento. O resultado da operação é um tensor booleano com valores `True` ou `False` que indicam se a condição lógica é verdadeira ou falsa:"
      ]
    },
    {
      "metadata": {
        "id": "C38F0AfI7Ylt",
        "colab_type": "code",
        "outputId": "e106dfb0-a447-4dd2-b19f-85ee059216de",
        "colab": {
          "base_uri": "https://localhost:8080/",
          "height": 50
        }
      },
      "cell_type": "code",
      "source": [
        "u = np.arange(4).reshape(2,2)\n",
        "v = 2*np.ones((2,2))\n",
        "w = u > v\n",
        "print(w)"
      ],
      "execution_count": 158,
      "outputs": [
        {
          "output_type": "stream",
          "text": [
            "[[False False]\n",
            " [False  True]]\n"
          ],
          "name": "stdout"
        }
      ]
    },
    {
      "metadata": {
        "id": "Txd0NUEo8C1Y",
        "colab_type": "text"
      },
      "cell_type": "markdown",
      "source": [
        "Os tensores booleanos podem ser usados para filtrar valores em um tensor, por exemplo:"
      ]
    },
    {
      "metadata": {
        "id": "lWRzG4CW-RM0",
        "colab_type": "code",
        "outputId": "4fae02bb-b93f-4916-b5ae-2351c656aed6",
        "colab": {
          "base_uri": "https://localhost:8080/",
          "height": 34
        }
      },
      "cell_type": "code",
      "source": [
        "u = np.array([-1, 2, -3])\n",
        "v = np.array([True, False, True])\n",
        "print(u[v])"
      ],
      "execution_count": 159,
      "outputs": [
        {
          "output_type": "stream",
          "text": [
            "[-1 -3]\n"
          ],
          "name": "stdout"
        }
      ]
    },
    {
      "metadata": {
        "id": "h53LsMpi-2yK",
        "colab_type": "text"
      },
      "cell_type": "markdown",
      "source": [
        "Note que podemos obter o mesmo efeito anterior de filtrar somente os valores negativos fazendo:"
      ]
    },
    {
      "metadata": {
        "id": "R0i-OoCw-_lM",
        "colab_type": "code",
        "outputId": "b3237b4c-6f04-443c-953f-6ae9b86f133f",
        "colab": {
          "base_uri": "https://localhost:8080/",
          "height": 34
        }
      },
      "cell_type": "code",
      "source": [
        "w = u[u < 0]\n",
        "print(w)"
      ],
      "execution_count": 160,
      "outputs": [
        {
          "output_type": "stream",
          "text": [
            "[-1 -3]\n"
          ],
          "name": "stdout"
        }
      ]
    },
    {
      "metadata": {
        "id": "cNl_BvwO_Itd",
        "colab_type": "text"
      },
      "cell_type": "markdown",
      "source": [
        "E podemos também atribuir um valor específico aos elementos de um tensor que satisfazem uma certa condições, por exemplo zerar todos os valores negativos:"
      ]
    },
    {
      "metadata": {
        "id": "GPwTLQB4_ROj",
        "colab_type": "code",
        "outputId": "d9ebb95a-18dd-464d-b166-881919821321",
        "colab": {
          "base_uri": "https://localhost:8080/",
          "height": 50
        }
      },
      "cell_type": "code",
      "source": [
        "print(\"u =\", u)\n",
        "u[u < 0] = 0\n",
        "print(\"u =\", u)"
      ],
      "execution_count": 161,
      "outputs": [
        {
          "output_type": "stream",
          "text": [
            "u = [-1  2 -3]\n",
            "u = [0 2 0]\n"
          ],
          "name": "stdout"
        }
      ]
    },
    {
      "metadata": {
        "id": "xij_InehvmsX",
        "colab_type": "text"
      },
      "cell_type": "markdown",
      "source": [
        "As funções `all` e `any` são muito úteis em comparações lógicas. `all` retorna `True` se todos os elementos de um tensor booleano forem `True`:"
      ]
    },
    {
      "metadata": {
        "id": "GF1iFI1Fv5yZ",
        "colab_type": "code",
        "colab": {
          "base_uri": "https://localhost:8080/",
          "height": 50
        },
        "outputId": "b739f2b8-3033-44ee-b316-35eca7e339da"
      },
      "cell_type": "code",
      "source": [
        "v = np.arange(5)\n",
        "u = v >= 0\n",
        "print('u =', u)\n",
        "print(np.all(u))"
      ],
      "execution_count": 162,
      "outputs": [
        {
          "output_type": "stream",
          "text": [
            "u = [ True  True  True  True  True]\n",
            "True\n"
          ],
          "name": "stdout"
        }
      ]
    },
    {
      "metadata": {
        "id": "ZU84FfSswTRW",
        "colab_type": "text"
      },
      "cell_type": "markdown",
      "source": [
        "enquanto `any` retorna `True` se pelo menos um elemento de um tensor booleano for `True`:"
      ]
    },
    {
      "metadata": {
        "id": "WyWp_JxZwVAx",
        "colab_type": "code",
        "colab": {
          "base_uri": "https://localhost:8080/",
          "height": 50
        },
        "outputId": "53552927-229f-4957-e0bd-0eaad6d5fd82"
      },
      "cell_type": "code",
      "source": [
        "v = np.array([-1, 1, 2, 3])\n",
        "u = v > 0\n",
        "print('u =',u)\n",
        "print(np.any(u))"
      ],
      "execution_count": 163,
      "outputs": [
        {
          "output_type": "stream",
          "text": [
            "u = [False  True  True  True]\n",
            "True\n"
          ],
          "name": "stdout"
        }
      ]
    },
    {
      "metadata": {
        "id": "brVOeiPOrK--",
        "colab_type": "text"
      },
      "cell_type": "markdown",
      "source": [
        "#Geração de números aleatórios\n",
        "\n",
        "O NumPy possui um submódulo chamado `random` que possui diversas funções para a geração de números (pseudo) aleatórios. Embora o Python possua uma biblioteca padrão também chamada `random`, a biblioteca do NumPy tem mais funcionalidas e gera diretamente tensores aleatórios.\n",
        "\n",
        "Criação de um tensor segundo uma distribuição uniforme [0,1):"
      ]
    },
    {
      "metadata": {
        "id": "Q9KoLqZIrxoY",
        "colab_type": "code",
        "colab": {
          "base_uri": "https://localhost:8080/",
          "height": 84
        },
        "outputId": "1679278a-1b42-417a-84d7-452a99db049d"
      },
      "cell_type": "code",
      "source": [
        "import numpy.random as rd\n",
        "v = rd.rand(4,4)\n",
        "print(v)"
      ],
      "execution_count": 164,
      "outputs": [
        {
          "output_type": "stream",
          "text": [
            "[[0.785982   0.84139878 0.09506509 0.15178495]\n",
            " [0.60974876 0.99289147 0.7401389  0.4849863 ]\n",
            " [0.26441043 0.24523774 0.38216544 0.11126995]\n",
            " [0.54827425 0.1749092  0.18705632 0.34502868]]\n"
          ],
          "name": "stdout"
        }
      ]
    },
    {
      "metadata": {
        "id": "KVqd5es_r9af",
        "colab_type": "text"
      },
      "cell_type": "markdown",
      "source": [
        "Criação de um tensor em que cada elemento segue uma distribuição normal com $\\mu = 10.0$ e $\\sigma = 1.0$:"
      ]
    },
    {
      "metadata": {
        "id": "ikbf4oIDsNW3",
        "colab_type": "code",
        "colab": {
          "base_uri": "https://localhost:8080/",
          "height": 84
        },
        "outputId": "b1a7eaed-dddf-4309-a519-3982b3ab97b5"
      },
      "cell_type": "code",
      "source": [
        "v = rd.normal(10, 1, (4,4))\n",
        "print(v)"
      ],
      "execution_count": 165,
      "outputs": [
        {
          "output_type": "stream",
          "text": [
            "[[12.13441239  9.75742507  9.10398105  8.52091947]\n",
            " [10.551759    9.72344626 10.41363376  8.71661515]\n",
            " [ 9.91169422  9.26378443  9.95011702  8.67414398]\n",
            " [10.46478971 11.56541705  9.6424856  10.30856245]]\n"
          ],
          "name": "stdout"
        }
      ]
    },
    {
      "metadata": {
        "id": "Ie2rAOJts1Aw",
        "colab_type": "text"
      },
      "cell_type": "markdown",
      "source": [
        "Note que toda vez que rodarmos o código, os tensores terão valores diferentes. Podemos evitar esse comportamento, de forma que toda vez que o código é executado o tensor aleatório tenha o mesmo valor por meio da função `seed`, cujo argumento é a semente para o gerador de números aleatórios do Python:"
      ]
    },
    {
      "metadata": {
        "id": "R-sWVdLutM91",
        "colab_type": "code",
        "colab": {
          "base_uri": "https://localhost:8080/",
          "height": 50
        },
        "outputId": "3c082144-4b56-4335-e212-eb4b8ac3f6c9"
      },
      "cell_type": "code",
      "source": [
        "rd.seed(1000)\n",
        "v = rd.rand(4)\n",
        "print(v)\n",
        "rd.seed(1000)\n",
        "v = rd.rand(4)\n",
        "print(v)"
      ],
      "execution_count": 166,
      "outputs": [
        {
          "output_type": "stream",
          "text": [
            "[0.65358959 0.11500694 0.95028286 0.4821914 ]\n",
            "[0.65358959 0.11500694 0.95028286 0.4821914 ]\n"
          ],
          "name": "stdout"
        }
      ]
    },
    {
      "metadata": {
        "id": "__OPp_GfZjso",
        "colab_type": "text"
      },
      "cell_type": "markdown",
      "source": [
        "---\n",
        "\n",
        "# Álgebra Linear\n",
        "\n",
        "O NumPy possui um submódulo específico para a realização de operações típicas da álgebra linear chamado `linalg`. Com este módulo é possível resolver sistemas lineares, obter inversas de matrizes, calcular autovalores e autovetores, etc.\n",
        "\n",
        "## Solução de sistemas lineares\n",
        "\n",
        "A solução de sistemas de equações lineares do tipo $Ax = b$ pode ser realizada por meio da função `solve`:"
      ]
    },
    {
      "metadata": {
        "id": "pIfk3sYhaFK7",
        "colab_type": "code",
        "outputId": "5429db63-73f5-487e-9078-c4f98ce88f7a",
        "colab": {
          "base_uri": "https://localhost:8080/",
          "height": 34
        }
      },
      "cell_type": "code",
      "source": [
        "A = np.array([10, 20, 30, 40]).reshape(2,2)\n",
        "b = np.array([5,10])\n",
        "x = np.linalg.solve(A, b)\n",
        "print(x)"
      ],
      "execution_count": 167,
      "outputs": [
        {
          "output_type": "stream",
          "text": [
            "[0.   0.25]\n"
          ],
          "name": "stdout"
        }
      ]
    },
    {
      "metadata": {
        "id": "aMNYa_S8a-rN",
        "colab_type": "text"
      },
      "cell_type": "markdown",
      "source": [
        "Caso $b =[b_1, b_2, ..., b_p]$ em que cada $b_j, j = 1, ..., p$ é um vetor coluna, a função `solve` retorna uma matriz $x = [x_1, x_2, ..., x_p]$ em que cada $x_j$  é solução do sistema linear $Ax_j = b_j$."
      ]
    },
    {
      "metadata": {
        "id": "-81UpAPOcZVy",
        "colab_type": "code",
        "outputId": "17dcb19d-1d6d-47ec-aaae-31a62edb3b9b",
        "colab": {
          "base_uri": "https://localhost:8080/",
          "height": 118
        }
      },
      "cell_type": "code",
      "source": [
        "b1 = np.array([5, 10]).reshape(2,1)\n",
        "b2 = np.array([10, 12]).reshape(2,1)\n",
        "b = np.hstack([b1, b2])\n",
        "print(\"b =\\n\", b)\n",
        "x = np.linalg.solve(A, b)\n",
        "print(\"x =\\n\", x)"
      ],
      "execution_count": 168,
      "outputs": [
        {
          "output_type": "stream",
          "text": [
            "b =\n",
            " [[ 5 10]\n",
            " [10 12]]\n",
            "x =\n",
            " [[ 0.   -0.8 ]\n",
            " [ 0.25  0.9 ]]\n"
          ],
          "name": "stdout"
        }
      ]
    },
    {
      "metadata": {
        "id": "4fYTHL8tjjHR",
        "colab_type": "text"
      },
      "cell_type": "markdown",
      "source": [
        "Note que resolver o sistema linear simultaneamente para $b_1$ e $b_2$ é mais eficiente que resolver cada sistema individualmente:"
      ]
    },
    {
      "metadata": {
        "id": "0C8UuE5bjxG1",
        "colab_type": "code",
        "colab": {
          "base_uri": "https://localhost:8080/",
          "height": 50
        },
        "outputId": "3f6b33f8-d85d-4f22-8e65-7bc8dace564f"
      },
      "cell_type": "code",
      "source": [
        "def fun(A, b1, b2):\n",
        "  x1 = np.linalg.solve(A,b1)\n",
        "  x2 = np.linalg.solve(A,b2)\n",
        "  \n",
        "  \n",
        "A = np.random.rand(1000,1000)\n",
        "b1 = np.random.rand(1000).reshape(1000,1)\n",
        "b2 = np.random.rand(1000).reshape(1000,1)\n",
        "b = np.hstack([b1,b2])\n",
        "  \n",
        "%timeit fun(A,b1,b2)\n",
        "%timeit np.linalg.solve(A,b)"
      ],
      "execution_count": 169,
      "outputs": [
        {
          "output_type": "stream",
          "text": [
            "10 loops, best of 3: 77.5 ms per loop\n",
            "10 loops, best of 3: 40.5 ms per loop\n"
          ],
          "name": "stdout"
        }
      ]
    },
    {
      "metadata": {
        "id": "6XE3rwaml9KN",
        "colab_type": "text"
      },
      "cell_type": "markdown",
      "source": [
        "## Matriz inversa\n",
        "\n",
        "O cálculo da inversa $A^{-1}$ de uma matriz $A$ pode ser realizado pela função `inv`:"
      ]
    },
    {
      "metadata": {
        "id": "r72g6OTFmPTL",
        "colab_type": "code",
        "colab": {
          "base_uri": "https://localhost:8080/",
          "height": 50
        },
        "outputId": "5a33fcd3-5ba8-4772-91fb-041669ab6ba8"
      },
      "cell_type": "code",
      "source": [
        "A = np.array([10, 20, 30, 40]).reshape(2,2)\n",
        "inv_A = np.linalg.inv(A)\n",
        "print(inv_A)"
      ],
      "execution_count": 170,
      "outputs": [
        {
          "output_type": "stream",
          "text": [
            "[[-0.2   0.1 ]\n",
            " [ 0.15 -0.05]]\n"
          ],
          "name": "stdout"
        }
      ]
    },
    {
      "metadata": {
        "id": "_RWVD_Ydnuaw",
        "colab_type": "text"
      },
      "cell_type": "markdown",
      "source": [
        "##Rank e determinante"
      ]
    },
    {
      "metadata": {
        "id": "8mumnKwanyjY",
        "colab_type": "code",
        "colab": {
          "base_uri": "https://localhost:8080/",
          "height": 50
        },
        "outputId": "5ad13353-26a2-4a95-93fa-7da239cca04b"
      },
      "cell_type": "code",
      "source": [
        "rank_A = np.linalg.matrix_rank(A)\n",
        "print(\"Rank de A =\",rank_A)\n",
        "det_A = np.linalg.det(A)\n",
        "print(\"Determinante de A = %.2f\" % det_A)"
      ],
      "execution_count": 171,
      "outputs": [
        {
          "output_type": "stream",
          "text": [
            "Rank de A = 2\n",
            "Determinante de A = -200.00\n"
          ],
          "name": "stdout"
        }
      ]
    },
    {
      "metadata": {
        "id": "lO-sWWSl2pON",
        "colab_type": "text"
      },
      "cell_type": "markdown",
      "source": [
        "# Broadcasting\n",
        "\n",
        "Em princípio, operações sobre tensores com shapes incompatíveis são indefinidas. Por exemplo, podemos somar dois tensores com shapes (4, 4), resultando em um tensor com também com shape (4,4), uma vez que a operação de soma será aplicada elemento a elemento. No entanto, o que acontece se tentarmos somar um tensor com shape (4,4) e outro com shape (1,4) ? Neste caso, o NumPy realizará o *broadcasting* do vetor (1,4)  para poder realizar a operação. Dentro de certas regras de broadcasting, o NumPy permite a aplicações de operações sobre tensores com shapes diferentes.\n",
        "\n",
        "As dimensões de dois tensores são consideradas compatíveis quando elas são a mesma ou uma delas é 1. Por exemplo, as dimensões dos tensores u = (4,4) e v = (1,4) são compatíveis pois a primeira dimensão do tensor v é 1 e a segunda dimensão de ambos é 4. Neste caso, o tensor v será \"estendido\" até ficar com shape (4,4) por meio da  replicação dos seus elementos:"
      ]
    },
    {
      "metadata": {
        "id": "Mcc9hmoJhtZa",
        "colab_type": "code",
        "outputId": "663fc4ff-34a6-450a-cc55-9649cfce062f",
        "colab": {
          "base_uri": "https://localhost:8080/",
          "height": 218
        }
      },
      "cell_type": "code",
      "source": [
        "u = np.ones((4,4))\n",
        "v = np.array([10, 20, 30, 40]).reshape(1,4)\n",
        "x = u*v\n",
        "print('u =\\n',u)\n",
        "print('v =\\n',v)\n",
        "print('x =\\n',x)"
      ],
      "execution_count": 172,
      "outputs": [
        {
          "output_type": "stream",
          "text": [
            "u =\n",
            " [[1. 1. 1. 1.]\n",
            " [1. 1. 1. 1.]\n",
            " [1. 1. 1. 1.]\n",
            " [1. 1. 1. 1.]]\n",
            "v =\n",
            " [[10 20 30 40]]\n",
            "x =\n",
            " [[10. 20. 30. 40.]\n",
            " [10. 20. 30. 40.]\n",
            " [10. 20. 30. 40.]\n",
            " [10. 20. 30. 40.]]\n"
          ],
          "name": "stdout"
        }
      ]
    }
  ]
}