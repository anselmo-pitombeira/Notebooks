{
  "nbformat": 4,
  "nbformat_minor": 0,
  "metadata": {
    "colab": {
      "provenance": [],
      "authorship_tag": "ABX9TyNHIoAVWctMXyRFLMkaq68m",
      "include_colab_link": true
    },
    "kernelspec": {
      "name": "python3",
      "display_name": "Python 3"
    },
    "language_info": {
      "name": "python"
    }
  },
  "cells": [
    {
      "cell_type": "markdown",
      "metadata": {
        "id": "view-in-github",
        "colab_type": "text"
      },
      "source": [
        "<a href=\"https://colab.research.google.com/github/anselmo-pitombeira/Notebooks/blob/master/Caminho_M%C3%ADnimo.ipynb\" target=\"_parent\"><img src=\"https://colab.research.google.com/assets/colab-badge.svg\" alt=\"Open In Colab\"/></a>"
      ]
    },
    {
      "cell_type": "markdown",
      "source": [
        "Este notebook ilustra a solução de um problema de caminho mínimo formulado como um problema de otimização linear em redes.\n",
        "\n",
        "Note que este não é o método computacionalmente mais eficiente para resolver problemas de caminho mínimo. No entanto, é um método interessante do ponto de vista teórico."
      ],
      "metadata": {
        "id": "3lahjVKXLHIc"
      }
    },
    {
      "cell_type": "code",
      "execution_count": null,
      "metadata": {
        "id": "SYRnr9k_LCdv"
      },
      "outputs": [],
      "source": [
        "!pip install pyomo\n",
        "!apt-get install coinor-cbc"
      ]
    },
    {
      "cell_type": "code",
      "source": [
        "import pyomo.environ as pyo"
      ],
      "metadata": {
        "id": "Wbx1qICZLyQ_"
      },
      "execution_count": 1,
      "outputs": []
    },
    {
      "cell_type": "code",
      "source": [
        "##Dados do problema\n",
        "\n",
        "modelo = pyo.ConcreteModel()\n",
        "\n",
        "##Conjunto de nós\n",
        "n = 9\n",
        "modelo.V = list(range(1,n+1))\n",
        "\n",
        "origem = 1\n",
        "destino = n\n",
        "\n",
        "##Custos em cada arco\n",
        "modelo.custos_arcos = {(1,2):1, (1,3):2, (2,4):6, (2,5):12, (3,4):3, (3,6):4,\n",
        "                       (4,5):4, (4,6):3, (4,7):15, (4,8):7, (5,7):7, (6,8):7,\n",
        "                       (6,9):15,(7,9):3, (8,9):10}\n",
        "\n",
        "##Conjunto de nós predecessores\n",
        "modelo.V_pred = {1:[], 2:[1], 3:[1], 4:[2,3],\n",
        "                 5:[2,4], 6:[3,4], 7:[4], 8:[4,6], 9:[6,7,8]}\n",
        "\n",
        "##Conjunto de nós sucessores\n",
        "modelo.V_suc = {1:[2,3],2:[4,5], 3:[4,6], 4:[5,6,7,8],\n",
        "                5:[7], 6:[8,9], 7:[9], 8:[9], 9:[]}\n",
        "\n",
        "\n",
        "##Conjunto de arcos (define a topologia da rede)\n",
        "modelo.A = list(modelo.custos_arcos.keys())\n",
        "\n",
        "##Demandas (perceba que a demanda só é diferente de zero nos nós de origem e destino)\n",
        "modelo.b = {i:0 for i in modelo.V}\n",
        "modelo.b[1] = 1\n",
        "modelo.b[n] = -1\n",
        "\n"
      ],
      "metadata": {
        "id": "W__aFbV1Lo3a"
      },
      "execution_count": 8,
      "outputs": []
    },
    {
      "cell_type": "code",
      "source": [
        "##Criação do modelo linear\n",
        "\n",
        "##Variáveis de decisão\n",
        "modelo.x = pyo.Var(modelo.A, domain=pyo.NonNegativeReals)\n",
        "\n",
        "##Restrições\n",
        "def res_conserv(modelo, i):\n",
        "\n",
        "  expr =  sum(modelo.x[(i,k)] for k in modelo.V_suc[i]) - sum(modelo.x[(k,i)] for k in modelo.V_pred[i]) == modelo.b[i]\n",
        "\n",
        "  return expr\n",
        "\n",
        "\n",
        "modelo.res = pyo.Constraint(modelo.V, rule=res_conserv)\n",
        "\n",
        "##Função-objetivo\n",
        "modelo.obj = pyo.Objective(expr = sum(modelo.custos_arcos[(i,j)]*modelo.x[(i,j)] for (i,j) in modelo.A), sense=pyo.minimize)\n",
        "\n"
      ],
      "metadata": {
        "id": "d44XI0WlPZ6J"
      },
      "execution_count": 9,
      "outputs": []
    },
    {
      "cell_type": "code",
      "source": [
        "solver = pyo.SolverFactory(\"cbc\")\n",
        "solver.solve(modelo, tee=True)\n"
      ],
      "metadata": {
        "colab": {
          "base_uri": "https://localhost:8080/"
        },
        "id": "1aUdp4gI0gqz",
        "outputId": "c3398b28-149b-47b9-8fa1-0137acae08a2"
      },
      "execution_count": 10,
      "outputs": [
        {
          "output_type": "stream",
          "name": "stdout",
          "text": [
            "Welcome to the CBC MILP Solver \n",
            "Version: 2.9.9 \n",
            "Build Date: Aug 21 2017 \n",
            "\n",
            "command line - /usr/bin/cbc -printingOptions all -import /tmp/tmppuw1_32w.pyomo.lp -stat=1 -solve -solu /tmp/tmppuw1_32w.pyomo.soln (default strategy 1)\n",
            "Option for printingOptions changed from normal to all\n",
            "Presolve 0 (-10) rows, 0 (-16) columns and 0 (-30) elements\n",
            "Statistics for presolved model\n",
            "\n",
            "\n",
            "Problem has 0 rows, 0 columns (0 with objective) and 0 elements\n",
            "There are 22011 singletons with no objective \n",
            "Column breakdown:\n",
            "0 of type 0.0->inf, 0 of type 0.0->up, 0 of type lo->inf, \n",
            "0 of type lo->up, 0 of type free, 0 of type fixed, \n",
            "0 of type -inf->0.0, 0 of type -inf->up, 0 of type 0.0->1.0 \n",
            "Row breakdown:\n",
            "0 of type E 0.0, 0 of type E 1.0, 0 of type E -1.0, \n",
            "0 of type E other, 0 of type G 0.0, 0 of type G 1.0, \n",
            "0 of type G other, 0 of type L 0.0, 0 of type L 1.0, \n",
            "0 of type L other, 0 of type Range 0.0->1.0, 0 of type Range other, \n",
            "0 of type Free \n",
            "Presolve 0 (-10) rows, 0 (-16) columns and 0 (-30) elements\n",
            "Empty problem - 0 rows, 0 columns and 0 elements\n",
            "Optimal - objective value 21\n",
            "After Postsolve, objective 21, infeasibilities - dual 0 (0), primal 0 (0)\n",
            "Optimal objective 21 - 0 iterations time 0.002, Presolve 0.00\n",
            "Total time (CPU seconds):       0.00   (Wallclock seconds):       0.00\n",
            "\n"
          ]
        },
        {
          "output_type": "execute_result",
          "data": {
            "text/plain": [
              "{'Problem': [{'Name': 'unknown', 'Lower bound': 21.0, 'Upper bound': 21.0, 'Number of objectives': 1, 'Number of constraints': 10, 'Number of variables': 16, 'Number of nonzeros': 0, 'Sense': 'minimize'}], 'Solver': [{'Status': 'ok', 'User time': -1.0, 'System time': 0.0, 'Wallclock time': 0.0, 'Termination condition': 'optimal', 'Termination message': 'Model was solved to optimality (subject to tolerances), and an optimal solution is available.', 'Statistics': {'Branch and bound': {'Number of bounded subproblems': None, 'Number of created subproblems': None}, 'Black box': {'Number of iterations': 0}}, 'Error rc': 0, 'Time': 0.026128768920898438}], 'Solution': [OrderedDict([('number of solutions', 0), ('number of solutions displayed', 0)])]}"
            ]
          },
          "metadata": {},
          "execution_count": 10
        }
      ]
    },
    {
      "cell_type": "code",
      "source": [
        "for i in modelo.x.keys():\n",
        "  print(modelo.x[i].name, pyo.value(modelo.x[i]))\n",
        "\n",
        "print(\"\\nComprimento mínimo = \", pyo.value(modelo.obj))"
      ],
      "metadata": {
        "colab": {
          "base_uri": "https://localhost:8080/"
        },
        "id": "0x_GCgPq29ID",
        "outputId": "b1819714-a42e-4904-9bf8-074693b7d526"
      },
      "execution_count": 16,
      "outputs": [
        {
          "output_type": "stream",
          "name": "stdout",
          "text": [
            "x[1,2] -0.0\n",
            "x[1,3] 1.0\n",
            "x[2,4] 0.0\n",
            "x[2,5] 0.0\n",
            "x[3,4] 0.0\n",
            "x[3,6] 1.0\n",
            "x[4,5] 0.0\n",
            "x[4,6] 0.0\n",
            "x[4,7] 0.0\n",
            "x[4,8] 0.0\n",
            "x[5,7] 0.0\n",
            "x[6,8] 0.0\n",
            "x[6,9] 1.0\n",
            "x[7,9] 0.0\n",
            "x[8,9] 0.0\n",
            "\n",
            "Comprimento mínimo =  21.0\n"
          ]
        }
      ]
    }
  ]
}