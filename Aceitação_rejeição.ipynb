{
  "nbformat": 4,
  "nbformat_minor": 0,
  "metadata": {
    "colab": {
      "name": "Aceitação-rejeição.ipynb",
      "provenance": [],
      "authorship_tag": "ABX9TyP2aa92oQGdOAkB5pBBd9Qa",
      "include_colab_link": true
    },
    "kernelspec": {
      "name": "python3",
      "display_name": "Python 3"
    }
  },
  "cells": [
    {
      "cell_type": "markdown",
      "metadata": {
        "id": "view-in-github",
        "colab_type": "text"
      },
      "source": [
        "<a href=\"https://colab.research.google.com/github/anselmo-pitombeira/Notebooks/blob/master/Aceita%C3%A7%C3%A3o_rejei%C3%A7%C3%A3o.ipynb\" target=\"_parent\"><img src=\"https://colab.research.google.com/assets/colab-badge.svg\" alt=\"Open In Colab\"/></a>"
      ]
    },
    {
      "cell_type": "markdown",
      "metadata": {
        "id": "iU-_LgbJcljU"
      },
      "source": [
        "# Método da aceitação-rejeição\r\n",
        "\r\n",
        "Neste notebook, ilustramos o uso do método da aceitação-rejeição para a simulação de amostras da distribuição beta."
      ]
    },
    {
      "cell_type": "code",
      "metadata": {
        "id": "sq9S1iy_cfHj"
      },
      "source": [
        "import numpy.random as rd\r\n",
        "import matplotlib.pyplot as plt\r\n",
        "\r\n",
        "rd.seed(1010)\r\n",
        "\r\n",
        "def f(x):\r\n",
        "    \"\"\"Função densidade de probabilidade beta\r\n",
        "    com alfa = 2 e beta = 4 no intervalo (0,1)\"\"\"\r\n",
        "    \r\n",
        "    return 20*x*(1-x)**3\r\n",
        "\r\n",
        "def g(x):\r\n",
        "    \"\"\"Função densidade de probabilidade uniforme\r\n",
        "    no intervalo (0,1)\"\"\"\r\n",
        "    \r\n",
        "    return 1\r\n",
        "\r\n",
        "c = 2.1094    ##Constante c\r\n",
        "N = 100000     ##Tamanho da amostra\r\n",
        "amostras = []\r\n",
        "\r\n",
        "i = 0   ##Variável contadora de amostras\r\n",
        "while i < N:\r\n",
        "    \r\n",
        "    x_cand = rd.uniform(0,1)       ##Sorteia uma amostra candidadata\r\n",
        "    r = f(x_cand)/(c*g(x_cand))    ##Razão de aceitação\r\n",
        "    u = rd.uniform(0,1)            ##Sorteia um número uniforme em (0,1)\r\n",
        "    \r\n",
        "    if u < r:\r\n",
        "        amostras.append(x_cand)    ##Aceita a amostra candidata\r\n",
        "        i = i+1                    ##Incrementa a contagem de amostras\r\n",
        "    \r\n",
        "plt.hist(amostras, bins=30)        ##Plota o histograma"
      ],
      "execution_count": null,
      "outputs": []
    }
  ]
}