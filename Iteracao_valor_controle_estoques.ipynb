{
  "nbformat": 4,
  "nbformat_minor": 0,
  "metadata": {
    "colab": {
      "name": "Iteracao_valor_controle_estoques.ipynb",
      "provenance": [],
      "collapsed_sections": [],
      "authorship_tag": "ABX9TyNu8wAPToDgvWMWNwVP7I9Q",
      "include_colab_link": true
    },
    "kernelspec": {
      "name": "python3",
      "display_name": "Python 3"
    },
    "language_info": {
      "name": "python"
    }
  },
  "cells": [
    {
      "cell_type": "markdown",
      "metadata": {
        "id": "view-in-github",
        "colab_type": "text"
      },
      "source": [
        "<a href=\"https://colab.research.google.com/github/anselmo-pitombeira/Notebooks/blob/master/Iteracao_valor_controle_estoques.ipynb\" target=\"_parent\"><img src=\"https://colab.research.google.com/assets/colab-badge.svg\" alt=\"Open In Colab\"/></a>"
      ]
    },
    {
      "cell_type": "markdown",
      "source": [
        "## Importação das bibliotecas"
      ],
      "metadata": {
        "id": "UXZAtFA4V4nl"
      }
    },
    {
      "cell_type": "code",
      "source": [
        "import numpy as np\n",
        "import numpy.random as rd\n",
        "from numba import njit"
      ],
      "metadata": {
        "id": "Ef7RSV42j-8B"
      },
      "execution_count": 1,
      "outputs": []
    },
    {
      "cell_type": "markdown",
      "source": [
        "## Definição da função que executa a iteração de valor"
      ],
      "metadata": {
        "id": "FWHYgRpZfwfr"
      }
    },
    {
      "cell_type": "code",
      "source": [
        "@njit\n",
        "def iteracao_valor(S,A,demanda_media,k1,k2,gamma,m,seed,n_iter,tol):\n",
        "\n",
        "    rd.seed(seed)           ##Seta a seed do gerador de números aleatórios\n",
        "    v = np.zeros(len(S))    ##Vetor que guarda a função de valor\n",
        "\n",
        "    for j in range(n_iter):\n",
        "\n",
        "        v_novo = np.zeros(len(S))    ##Guarda os valores atualizados da função de valor\n",
        "        politica = np.zeros(len(S))  ##Guarda a decisão em cada estado\n",
        "\n",
        "        for i in S:\n",
        "            valor_decisao = []\n",
        "\n",
        "            for a in A:\n",
        "                soma = 0\n",
        "                ##Aproxima o valor esperado por simulação:\n",
        "                for k in range(m):\n",
        "                    d = rd.poisson(demanda_media)             ##Amostra a demanda\n",
        "                    if d > 10*demanda_media:\n",
        "                        d = 10*demanda_media\n",
        "                    prox_estado = max(0,i-d+a*(n-i))           ##Computa próximo estado pelo modelo dinâmico\n",
        "                    estoque = prox_estado\n",
        "                    perda = abs(min(0, i-d+a*(n-i)))\n",
        "                    custo_imediato = k1*estoque+k2*perda\n",
        "                    valor_simulado = custo_imediato+gamma*v[prox_estado]\n",
        "                    soma+=valor_simulado\n",
        "\n",
        "                valor_esperado = soma/m\n",
        "                valor_decisao.append(valor_esperado)\n",
        "\n",
        "            ##identifica o menor valor\n",
        "            valor_decisao = np.array(valor_decisao)\n",
        "            min_valor = np.min(valor_decisao)\n",
        "            melhor_decisao = np.argmin(valor_decisao)\n",
        "\n",
        "            ##Atualiza a função de valor para o estado i\n",
        "            v_novo[i] = min_valor\n",
        "            politica[i] = melhor_decisao\n",
        "\n",
        "        ##Testa critério de parada\n",
        "        diff = np.max(np.abs(v - v_novo))\n",
        "        print(diff)\n",
        "        if diff <  tol:\n",
        "            v = v_novo\n",
        "            break\n",
        "        else:\n",
        "            v = v_novo\n",
        "\n",
        "    return v, politica"
      ],
      "metadata": {
        "id": "2BS0qJswfva1"
      },
      "execution_count": 25,
      "outputs": []
    },
    {
      "cell_type": "markdown",
      "source": [
        "## Parâmetros"
      ],
      "metadata": {
        "id": "l-VZa6Ovjs3A"
      }
    },
    {
      "cell_type": "code",
      "execution_count": 47,
      "metadata": {
        "id": "7n9WrolhjOOs"
      },
      "outputs": [],
      "source": [
        "n = 30                ##Capacidade máxima de armazenagem do estoque\n",
        "S = list(range(n+1))  ##Espaço de estados\n",
        "A = [0,1]             ##Espaço de decisões: 1 -> repor, 0 -> não repor\n",
        "k1 = 10               ##Custo de manter estoques\n",
        "k2 = 50               ##Custo de não atendimento da demanda\n",
        "demanda_media = 10    ##Demanda média diária (segue uma distribuição de Poisson)\n",
        "gamma = 0.9           ##Fator de desconto\n",
        "seed = 42             ##Semente do gerador de números aleatórios\n",
        "m = 100               ##Tamanho da amostra na aproximação do valor esperado\n",
        "n_iter = 100         ##Número máximo de iterações\n",
        "tol = 0.01            ##Tolerância"
      ]
    },
    {
      "cell_type": "markdown",
      "source": [
        "## Roda a iteração de valor"
      ],
      "metadata": {
        "id": "ZgLK21kVjx__"
      }
    },
    {
      "cell_type": "code",
      "source": [
        "f_valor, politica = iteracao_valor(S,A,demanda_media,k1,k2,gamma,m,seed,n_iter,tol)\n"
      ],
      "metadata": {
        "colab": {
          "base_uri": "https://localhost:8080/"
        },
        "id": "duGo--AnjxTv",
        "outputId": "c04a98ec-16e4-405a-98df-9b165f29ba42"
      },
      "execution_count": 48,
      "outputs": [
        {
          "output_type": "stream",
          "name": "stdout",
          "text": [
            "203.1\n",
            "192.93700000000035\n",
            "150.31667810000016\n",
            "125.7443223726001\n",
            "125.21829564819882\n",
            "92.84200016485073\n",
            "85.42384296965031\n",
            "73.09821619260424\n",
            "67.32261013703328\n",
            "76.4010180037476\n",
            "55.776064659532494\n",
            "54.06268324145651\n",
            "48.560123902496684\n",
            "50.917136066853345\n",
            "40.91650267034788\n",
            "38.74774704129254\n",
            "40.21647676050611\n",
            "36.917326018696485\n",
            "50.77749648237341\n",
            "26.88942686736732\n",
            "26.187099747100774\n",
            "28.55221346321059\n",
            "27.480237755992903\n",
            "36.20887648875737\n",
            "16.233187819934983\n",
            "22.07205107501568\n",
            "26.18985049002731\n",
            "31.711856014122304\n",
            "21.275281809741955\n",
            "25.84295269804852\n",
            "19.013566078940585\n",
            "13.10055271998499\n",
            "29.89581681041227\n",
            "15.533314211740844\n",
            "21.090412697737065\n",
            "31.998884727110408\n",
            "20.913150759041173\n",
            "26.291620747049592\n",
            "16.268651628416137\n",
            "13.738644423573305\n",
            "23.42944556825637\n",
            "10.776108733833553\n",
            "13.382695741650195\n",
            "22.66677545833113\n",
            "18.259617217016057\n",
            "7.67818275510308\n",
            "19.5349628670715\n",
            "28.82039391687158\n",
            "29.468037285489572\n",
            "21.086182744392772\n",
            "14.386536923865151\n",
            "27.707531094937167\n",
            "28.026930024208013\n",
            "23.308158239570503\n",
            "18.096941328000867\n",
            "16.93740623932581\n",
            "16.775019902138865\n",
            "32.340683516684294\n",
            "30.47929478526362\n",
            "16.752517730479212\n",
            "16.61418790179846\n",
            "25.868614147189874\n",
            "37.25167088883995\n",
            "13.726461580319892\n",
            "39.645377386873406\n",
            "29.829292631996623\n",
            "31.67470861200718\n",
            "24.822401466600013\n",
            "16.90177239859827\n",
            "16.643820980536702\n",
            "19.25802944805855\n",
            "30.671444087309737\n",
            "22.58020920028912\n",
            "29.500264065959982\n",
            "11.282242618546206\n",
            "18.49098653066767\n",
            "21.856527872155084\n",
            "22.398716065830058\n",
            "24.235288513734076\n",
            "19.781149744085724\n",
            "14.960632293338449\n",
            "31.571452423721666\n",
            "11.018058275472413\n",
            "11.25598918771857\n",
            "18.465511404911013\n",
            "16.15566650889332\n",
            "20.874552659489154\n",
            "13.178969176583223\n",
            "10.97119395507184\n",
            "11.676044689777655\n",
            "7.767614186235278\n",
            "11.877021479680934\n",
            "21.770760634089584\n",
            "24.279779940769686\n",
            "25.803661757128566\n",
            "14.245813676542184\n",
            "12.315367785212402\n",
            "19.92742792470449\n",
            "14.943476996718573\n",
            "14.481328479235572\n"
          ]
        }
      ]
    },
    {
      "cell_type": "markdown",
      "source": [
        "## Política e função de valor ótimas"
      ],
      "metadata": {
        "id": "0jqaNQCTU4AG"
      }
    },
    {
      "cell_type": "code",
      "source": [
        "print(\"Política = \", politica)\n",
        "import matplotlib.pyplot as plt\n",
        "plt.plot(f_valor)\n",
        "plt.xlabel(\"Nível de estoque\")\n",
        "plt.ylabel(\"Função de valor ótima\")"
      ],
      "metadata": {
        "colab": {
          "base_uri": "https://localhost:8080/",
          "height": 335
        },
        "id": "R7cvpCFRuH8x",
        "outputId": "cb822a2a-16c9-487d-b701-a1da95ea9a9e"
      },
      "execution_count": 46,
      "outputs": [
        {
          "output_type": "stream",
          "name": "stdout",
          "text": [
            "Política =  [1. 1. 1. 1. 1. 1. 1. 1. 0. 0. 0. 0. 0. 0. 0. 0. 0. 0. 0. 0. 0. 0. 0. 0.\n",
            " 0. 0. 0. 0. 0. 0. 0.]\n"
          ]
        },
        {
          "output_type": "execute_result",
          "data": {
            "text/plain": [
              "Text(0, 0.5, 'Função de valor ótima')"
            ]
          },
          "metadata": {},
          "execution_count": 46
        },
        {
          "output_type": "display_data",
          "data": {
            "image/png": "[encoded data removed]",
            "text/plain": [
              "<Figure size 432x288 with 1 Axes>"
            ]
          },
          "metadata": {
            "needs_background": "light"
          }
        }
      ]
    }
  ]
}