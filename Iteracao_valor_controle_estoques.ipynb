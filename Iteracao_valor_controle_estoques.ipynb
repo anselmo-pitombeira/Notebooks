{
  "nbformat": 4,
  "nbformat_minor": 0,
  "metadata": {
    "colab": {
      "name": "Iteracao_valor_controle_estoques.ipynb",
      "provenance": [],
      "collapsed_sections": [],
      "authorship_tag": "ABX9TyO6l3FpC9btpkj8HVjST6Qy",
      "include_colab_link": true
    },
    "kernelspec": {
      "name": "python3",
      "display_name": "Python 3"
    },
    "language_info": {
      "name": "python"
    }
  },
  "cells": [
    {
      "cell_type": "markdown",
      "metadata": {
        "id": "view-in-github",
        "colab_type": "text"
      },
      "source": [
        "<a href=\"https://colab.research.google.com/github/anselmo-pitombeira/Notebooks/blob/master/Iteracao_valor_controle_estoques.ipynb\" target=\"_parent\"><img src=\"https://colab.research.google.com/assets/colab-badge.svg\" alt=\"Open In Colab\"/></a>"
      ]
    },
    {
      "cell_type": "markdown",
      "source": [
        "#Aplicação de processos de decisão markovianos ao problema de controle de estoque\n",
        "\n",
        "Neste notebook, produzimos uma política de decisão ótima para o problema de controle de estoques por meio do método de iteração de valor.\n",
        "\n",
        "O conjunto de estados é $\\mathcal{S} = \\{0, 1, ..., n\\}$, que corresponde às possíveis quantidades em estoque. A cada dia, um tomador de decisão observa o nível de estoque $s_t$ e decide se repõe ou não o estoque. No caso de reposição, o estoque é preenchido até a quantidade máxima $n$. O conjunto de decisões é portanto $\\mathcal{A} = \\{0,1\\}$, em que 0 significa \"não repor\" e 1 significa \"repor\". \n",
        "\n",
        "A cada dia, uma quantidade demandada $d_t$ consome o estoque de acordo com uma distribuição de Poisson com média $\\mu$. A transição de estados ocorre então de acordo com o seguinte sistema dinâmico:\n",
        "\\begin{equation}\n",
        "\ts_{t+1} = \\max\\{0, s_t-d_t+a_t(n-s_t)\\},\n",
        "\\end{equation}\n",
        "em que $a_t \\in \\{0,1\\}$ é a decisão tomada. Após essa decisão, o tomador de decisão paga um custo dado por\n",
        "\\begin{equation}\n",
        "\tr(s_t,a_t) = k_1 \\max\\{0,s_t-d_t+a_t(n-s_t)\\}+k_2 |\\min\\{0,s_t-d_t+a_t(n-s_t)\\}|\n",
        "\\end{equation}\n",
        "em que $k_1$ é o custo unitário de manter estoque e $k_2$ é o custo unitário por cada unidade de demanda não atendida.\n",
        "\n",
        "O objetivo é encontrar uma política de decisão $\\pi: \\mathcal{S} \\to \\{0,1\\}$ que associa cada nível de estoque a uma decisão de repor ou não o estoque de forma a minimizar o valor esperado do custo acumulado ao longo do tempo:\n",
        "\\begin{equation}\n",
        "\t\\min_{\\pi} v(s_0) = \\lim_{T \\to \\infty} \\mathbb{E}\\Bigg[\\sum_{t=0}^{T} \\gamma^t r(s_t,\\pi(s_t))\\Bigg],\n",
        "\\end{equation}\n",
        "em que $0<\\gamma <1$ é um fator de desconto.\n"
      ],
      "metadata": {
        "id": "BP4RPvn3nb48"
      }
    },
    {
      "cell_type": "markdown",
      "source": [
        "## Importação das bibliotecas"
      ],
      "metadata": {
        "id": "UXZAtFA4V4nl"
      }
    },
    {
      "cell_type": "code",
      "source": [
        "import numpy as np\n",
        "import numpy.random as rd\n",
        "from numba import njit"
      ],
      "metadata": {
        "id": "Ef7RSV42j-8B"
      },
      "execution_count": null,
      "outputs": []
    },
    {
      "cell_type": "markdown",
      "source": [
        "## Definição da função que executa a iteração de valor"
      ],
      "metadata": {
        "id": "FWHYgRpZfwfr"
      }
    },
    {
      "cell_type": "code",
      "source": [
        "@njit\n",
        "def iteracao_valor(S,A,demanda_media,k1,k2,gamma,m,seed,n_iter,tol):\n",
        "\n",
        "    rd.seed(seed)           ##Seta a seed do gerador de números aleatórios\n",
        "    v = np.zeros(len(S))    ##Vetor que guarda a função de valor\n",
        "\n",
        "    for j in range(n_iter):\n",
        "\n",
        "        v_novo = np.zeros(len(S))    ##Guarda os valores atualizados da função de valor\n",
        "        politica = np.zeros(len(S))        ##Guarda a decisão em cada estado\n",
        "\n",
        "        for i in S:\n",
        "            valor_decisao = []\n",
        "\n",
        "            for a in A:\n",
        "                soma = 0\n",
        "                ##Aproxima o valor esperado por simulação:\n",
        "                for k in range(m):\n",
        "                    d = rd.poisson(demanda_media)             ##Amostra a demanda\n",
        "                    if d > 10*demanda_media:\n",
        "                        d = 10*demanda_media\n",
        "                    prox_estado = max(0,i-d+a*(n-i))           ##Computa próximo estado pelo modelo dinâmico\n",
        "                    estoque = prox_estado\n",
        "                    perda = abs(min(0, i-d+a*(n-i)))\n",
        "                    custo_imediato = k1*estoque+k2*perda\n",
        "                    valor_simulado = custo_imediato+gamma*v[prox_estado]\n",
        "                    soma+=valor_simulado\n",
        "\n",
        "                valor_esperado = soma/m\n",
        "                valor_decisao.append(valor_esperado)\n",
        "\n",
        "            ##identifica o menor valor\n",
        "            valor_decisao = np.array(valor_decisao)\n",
        "            min_valor = np.min(valor_decisao)\n",
        "            melhor_decisao = np.argmin(valor_decisao)\n",
        "\n",
        "            ##Atualiza a função de valor para o estado i\n",
        "            v_novo[i] = min_valor\n",
        "            politica[i] = melhor_decisao\n",
        "\n",
        "        ##Testa critério de parada\n",
        "        diff = np.max(np.abs(v - v_novo))\n",
        "        print(diff)\n",
        "        if diff <  tol:\n",
        "            v = v_novo\n",
        "            break\n",
        "        else:\n",
        "            v = v_novo\n",
        "\n",
        "    return v, politica"
      ],
      "metadata": {
        "id": "2BS0qJswfva1"
      },
      "execution_count": null,
      "outputs": []
    },
    {
      "cell_type": "markdown",
      "source": [
        "## Parâmetros"
      ],
      "metadata": {
        "id": "l-VZa6Ovjs3A"
      }
    },
    {
      "cell_type": "code",
      "execution_count": null,
      "metadata": {
        "id": "7n9WrolhjOOs"
      },
      "outputs": [],
      "source": [
        "n = 30                ##Capacidade máxima de armazenagem do estoque\n",
        "S = list(range(n+1))  ##Espaço de estados\n",
        "A = [0,1]             ##Espaço de decisões: 1 -> repor, 0 -> não repor\n",
        "k1 = 1                ##Custo de manter estoques\n",
        "k2 = 5               ##Custo de não atendimento da demanda\n",
        "demanda_media = 10    ##Demanda média diária (segue uma distribuição de Poisson)\n",
        "gamma = 0.9           ##Fator de desconto\n",
        "seed = 42             ##Semente do gerador de números aleatórios\n",
        "m = 1000               ##Tamanho da amostra na aproximação do valor esperado\n",
        "n_iter = 100         ##Número máximo de iterações\n",
        "tol = 0.01            ##Tolerância"
      ]
    },
    {
      "cell_type": "markdown",
      "source": [
        "## Roda a iteração de valor"
      ],
      "metadata": {
        "id": "ZgLK21kVjx__"
      }
    },
    {
      "cell_type": "code",
      "source": [
        "f_valor, politica = iteracao_valor(S,A,demanda_media,k1,k2,gamma,m,seed,n_iter,tol)\n"
      ],
      "metadata": {
        "id": "duGo--AnjxTv"
      },
      "execution_count": null,
      "outputs": []
    },
    {
      "cell_type": "markdown",
      "source": [
        "## Política e função de valor ótimas"
      ],
      "metadata": {
        "id": "0jqaNQCTU4AG"
      }
    },
    {
      "cell_type": "code",
      "source": [
        "print(\"Política = \", politica)\n",
        "import matplotlib.pyplot as plt\n",
        "plt.plot(f_valor)\n",
        "plt.xlabel(\"Nível de estoque\")\n",
        "plt.ylabel(\"Função de valor ótima\")"
      ],
      "metadata": {
        "colab": {
          "base_uri": "https://localhost:8080/",
          "height": 338
        },
        "id": "R7cvpCFRuH8x",
        "outputId": "e7b795dd-b682-4600-978b-37caed155fb2"
      },
      "execution_count": null,
      "outputs": [
        {
          "output_type": "stream",
          "name": "stdout",
          "text": [
            "Política =  [1. 1. 1. 1. 1. 1. 1. 1. 1. 0. 0. 0. 0. 0. 0. 0. 0. 0. 0. 0. 0. 0. 0. 0.\n",
            " 0. 0. 0. 0. 0. 0. 1.]\n"
          ]
        },
        {
          "output_type": "execute_result",
          "data": {
            "text/plain": [
              "Text(0, 0.5, 'Função de valor ótima')"
            ]
          },
          "metadata": {},
          "execution_count": 10
        },
        {
          "output_type": "display_data",
          "data": {
            "image/png": "[encoded data removed]",
            "text/plain": [
              "<Figure size 432x288 with 1 Axes>"
            ]
          },
          "metadata": {
            "needs_background": "light"
          }
        }
      ]
    }
  ]
}