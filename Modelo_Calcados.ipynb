{
  "nbformat": 4,
  "nbformat_minor": 0,
  "metadata": {
    "colab": {
      "name": "Modelo_Calcados.ipynb",
      "provenance": [],
      "authorship_tag": "ABX9TyO0kmf7DSnd88aV6vLc8y9l",
      "include_colab_link": true
    },
    "kernelspec": {
      "name": "python3",
      "display_name": "Python 3"
    }
  },
  "cells": [
    {
      "cell_type": "markdown",
      "metadata": {
        "id": "view-in-github",
        "colab_type": "text"
      },
      "source": [
        "<a href=\"https://colab.research.google.com/github/anselmo-pitombeira/Notebooks/blob/master/Modelo_Calcados.ipynb\" target=\"_parent\"><img src=\"https://colab.research.google.com/assets/colab-badge.svg\" alt=\"Open In Colab\"/></a>"
      ]
    },
    {
      "cell_type": "markdown",
      "metadata": {
        "id": "vvs-uQE-RDEa",
        "colab_type": "text"
      },
      "source": [
        "## Problema de mix de calçados\n",
        "\n",
        "Neste notebook, descrevemos como resolver um problema de decisão de mix de produção de calçados. O problema é formulado como um modelo de programação linear, e em seguida é resolvido com uso da biblioteca Pyomo para Python e o solver COIN-OR CBC.\n",
        "\n",
        "[![Open In Colab](https://colab.research.google.com/assets/colab-badge.svg)](https://colab.research.google.com/github/anselmo-pitombeira/Notebooks/blob/master/Modelo_Calcados.ipynb)"
      ]
    },
    {
      "cell_type": "code",
      "metadata": {
        "id": "feCzGrsgQt8F",
        "colab_type": "code",
        "outputId": "725e655b-5a2a-4c98-e0a1-f3ce0f782fd6",
        "colab": {
          "base_uri": "https://localhost:8080/",
          "height": 332
        }
      },
      "source": [
        "!pip install pyomo\n"
      ],
      "execution_count": 0,
      "outputs": [
        {
          "output_type": "stream",
          "text": [
            "Collecting pyomo\n",
            "\u001b[?25l  Downloading https://files.pythonhosted.org/packages/af/27/e42538d57971eac8b5f7bc994db13231037169143fe0e5efeedc26f13f30/Pyomo-5.6.8-py3-none-any.whl (2.4MB)\n",
            "\u001b[K     |████████████████████████████████| 2.4MB 4.9MB/s \n",
            "\u001b[?25hRequirement already satisfied: six>=1.4 in /usr/local/lib/python3.6/dist-packages (from pyomo) (1.12.0)\n",
            "Collecting appdirs\n",
            "  Downloading https://files.pythonhosted.org/packages/56/eb/810e700ed1349edde4cbdc1b2a21e28cdf115f9faf263f6bbf8447c1abf3/appdirs-1.4.3-py2.py3-none-any.whl\n",
            "Collecting ply\n",
            "\u001b[?25l  Downloading https://files.pythonhosted.org/packages/a3/58/35da89ee790598a0700ea49b2a66594140f44dec458c07e8e3d4979137fc/ply-3.11-py2.py3-none-any.whl (49kB)\n",
            "\u001b[K     |████████████████████████████████| 51kB 7.2MB/s \n",
            "\u001b[?25hCollecting PyUtilib>=5.7.3\n",
            "\u001b[?25l  Downloading https://files.pythonhosted.org/packages/4a/e6/c1768efd31069377169327fb527d81c16db78ac4c5ae61db7465db354d11/PyUtilib-5.7.3-py2.py3-none-any.whl (252kB)\n",
            "\u001b[K     |████████████████████████████████| 256kB 40.1MB/s \n",
            "\u001b[?25hCollecting nose\n",
            "\u001b[?25l  Downloading https://files.pythonhosted.org/packages/15/d8/dd071918c040f50fa1cf80da16423af51ff8ce4a0f2399b7bf8de45ac3d9/nose-1.3.7-py3-none-any.whl (154kB)\n",
            "\u001b[K     |████████████████████████████████| 163kB 54.8MB/s \n",
            "\u001b[?25hInstalling collected packages: appdirs, ply, nose, PyUtilib, pyomo\n",
            "Successfully installed PyUtilib-5.7.3 appdirs-1.4.3 nose-1.3.7 ply-3.11 pyomo-5.6.8\n"
          ],
          "name": "stdout"
        }
      ]
    },
    {
      "cell_type": "code",
      "metadata": {
        "id": "aDLKnX3uR2bN",
        "colab_type": "code",
        "colab": {}
      },
      "source": [
        "import pyomo.environ as pyo\n",
        "import numpy as np\n",
        "\n",
        "##Dados do problema\n",
        "lucro = np.array([300,400,200,150])\n",
        "A = np.array([[0.30,0.30,0.25,0.15],\n",
        "              [0.25,0.35,0.30,0.10],\n",
        "              [0.45,0.50,0.40,0.22],\n",
        "              [0.15,0.15,0.10,0.05]])\n",
        "\n",
        "horas = np.array([1000,1000,1000,1000])\n",
        "demanda = np.array([800,750,600,500])\n",
        "\n",
        "\n"
      ],
      "execution_count": 0,
      "outputs": []
    },
    {
      "cell_type": "code",
      "metadata": {
        "id": "UbYo3ZONT1I-",
        "colab_type": "code",
        "outputId": "27342762-43f1-40bb-ce01-47ba49b35fa5",
        "colab": {
          "base_uri": "https://localhost:8080/",
          "height": 776
        }
      },
      "source": [
        "modelo = pyo.ConcreteModel()\n",
        "\n",
        "##Variáveis de decisão\n",
        "n = 4    ##Número de variáveis\n",
        "\n",
        "modelo.x = pyo.Var([i for i in range(n)], domain=pyo.NonNegativeReals)\n",
        "\n",
        "##Função objetivo\n",
        "expr = sum(lucro[i]*modelo.x[i] for i in range(n))\n",
        "modelo.obj = pyo.Objective(expr = expr, sense=pyo.maximize)\n",
        "\n",
        "##Restrições horas\n",
        "modelo.r1 = pyo.Constraint(expr=sum(A[0,i]*modelo.x[i] for i in range(n))<=horas[0])\n",
        "modelo.r2 = pyo.Constraint(expr=sum(A[1,i]*modelo.x[i] for i in range(n))<=horas[1])\n",
        "modelo.r3 = pyo.Constraint(expr=sum(A[2,i]*modelo.x[i] for i in range(n))<=horas[2])\n",
        "modelo.r4 = pyo.Constraint(expr=sum(A[3,i]*modelo.x[i] for i in range(n))<=horas[3])\n",
        "\n",
        "##Restrições demanda\n",
        "modelo.d1 = pyo.Constraint(expr=modelo.x[0] <= demanda[0])\n",
        "modelo.d2 = pyo.Constraint(expr=modelo.x[1] <= demanda[1])\n",
        "modelo.d3 = pyo.Constraint(expr=modelo.x[2] <= demanda[2])\n",
        "modelo.d4 = pyo.Constraint(expr=modelo.x[3] <= demanda[3])\n",
        "\n",
        "modelo.pprint()"
      ],
      "execution_count": 0,
      "outputs": [
        {
          "output_type": "stream",
          "text": [
            "1 Set Declarations\n",
            "    x_index : Dim=0, Dimen=1, Size=4, Domain=None, Ordered=False, Bounds=(0, 3)\n",
            "        [0, 1, 2, 3]\n",
            "\n",
            "1 Var Declarations\n",
            "    x : Size=4, Index=x_index\n",
            "        Key : Lower : Value : Upper : Fixed : Stale : Domain\n",
            "          0 :     0 :  None :  None : False :  True : NonNegativeReals\n",
            "          1 :     0 :  None :  None : False :  True : NonNegativeReals\n",
            "          2 :     0 :  None :  None : False :  True : NonNegativeReals\n",
            "          3 :     0 :  None :  None : False :  True : NonNegativeReals\n",
            "\n",
            "1 Objective Declarations\n",
            "    obj : Size=1, Index=None, Active=True\n",
            "        Key  : Active : Sense    : Expression\n",
            "        None :   True : maximize : 300*x[0] + 400*x[1] + 200*x[2] + 150*x[3]\n",
            "\n",
            "8 Constraint Declarations\n",
            "    d1 : Size=1, Index=None, Active=True\n",
            "        Key  : Lower : Body : Upper : Active\n",
            "        None :  -Inf : x[0] : 800.0 :   True\n",
            "    d2 : Size=1, Index=None, Active=True\n",
            "        Key  : Lower : Body : Upper : Active\n",
            "        None :  -Inf : x[1] : 750.0 :   True\n",
            "    d3 : Size=1, Index=None, Active=True\n",
            "        Key  : Lower : Body : Upper : Active\n",
            "        None :  -Inf : x[2] : 600.0 :   True\n",
            "    d4 : Size=1, Index=None, Active=True\n",
            "        Key  : Lower : Body : Upper : Active\n",
            "        None :  -Inf : x[3] : 500.0 :   True\n",
            "    r1 : Size=1, Index=None, Active=True\n",
            "        Key  : Lower : Body                                        : Upper  : Active\n",
            "        None :  -Inf : 0.3*x[0] + 0.3*x[1] + 0.25*x[2] + 0.15*x[3] : 1000.0 :   True\n",
            "    r2 : Size=1, Index=None, Active=True\n",
            "        Key  : Lower : Body                                        : Upper  : Active\n",
            "        None :  -Inf : 0.25*x[0] + 0.35*x[1] + 0.3*x[2] + 0.1*x[3] : 1000.0 :   True\n",
            "    r3 : Size=1, Index=None, Active=True\n",
            "        Key  : Lower : Body                                        : Upper  : Active\n",
            "        None :  -Inf : 0.45*x[0] + 0.5*x[1] + 0.4*x[2] + 0.22*x[3] : 1000.0 :   True\n",
            "    r4 : Size=1, Index=None, Active=True\n",
            "        Key  : Lower : Body                                         : Upper  : Active\n",
            "        None :  -Inf : 0.15*x[0] + 0.15*x[1] + 0.1*x[2] + 0.05*x[3] : 1000.0 :   True\n",
            "\n",
            "11 Declarations: x_index x obj r1 r2 r3 r4 d1 d2 d3 d4\n"
          ],
          "name": "stdout"
        }
      ]
    },
    {
      "cell_type": "code",
      "metadata": {
        "id": "WNfq_QPnbp-J",
        "colab_type": "code",
        "outputId": "996418c6-073b-4dce-bcd5-8f07aa80e574",
        "colab": {
          "base_uri": "https://localhost:8080/",
          "height": 843
        }
      },
      "source": [
        "!apt-get install coinor-cbc"
      ],
      "execution_count": 0,
      "outputs": [
        {
          "output_type": "stream",
          "text": [
            "Reading package lists... Done\n",
            "Building dependency tree       \n",
            "Reading state information... Done\n",
            "The following additional packages will be installed:\n",
            "  coinor-libcbc3 coinor-libcgl1 coinor-libclp1 coinor-libcoinutils3v5\n",
            "  coinor-libosi1v5\n",
            "The following NEW packages will be installed:\n",
            "  coinor-cbc coinor-libcbc3 coinor-libcgl1 coinor-libclp1\n",
            "  coinor-libcoinutils3v5 coinor-libosi1v5\n",
            "0 upgraded, 6 newly installed, 0 to remove and 25 not upgraded.\n",
            "Need to get 2,737 kB of archives.\n",
            "After this operation, 8,130 kB of additional disk space will be used.\n",
            "Get:1 http://archive.ubuntu.com/ubuntu bionic/universe amd64 coinor-libcoinutils3v5 amd64 2.10.14+repack1-1 [472 kB]\n",
            "Get:2 http://archive.ubuntu.com/ubuntu bionic/universe amd64 coinor-libosi1v5 amd64 0.107.9+repack1-1 [270 kB]\n",
            "Get:3 http://archive.ubuntu.com/ubuntu bionic/universe amd64 coinor-libclp1 amd64 1.16.11+repack1-1 [863 kB]\n",
            "Get:4 http://archive.ubuntu.com/ubuntu bionic/universe amd64 coinor-libcgl1 amd64 0.59.10+repack1-1 [433 kB]\n",
            "Get:5 http://archive.ubuntu.com/ubuntu bionic/universe amd64 coinor-libcbc3 amd64 2.9.9+repack1-1 [687 kB]\n",
            "Get:6 http://archive.ubuntu.com/ubuntu bionic/universe amd64 coinor-cbc amd64 2.9.9+repack1-1 [11.2 kB]\n",
            "Fetched 2,737 kB in 2s (1,798 kB/s)\n",
            "Selecting previously unselected package coinor-libcoinutils3v5.\n",
            "(Reading database ... 134448 files and directories currently installed.)\n",
            "Preparing to unpack .../0-coinor-libcoinutils3v5_2.10.14+repack1-1_amd64.deb ...\n",
            "Unpacking coinor-libcoinutils3v5 (2.10.14+repack1-1) ...\n",
            "Selecting previously unselected package coinor-libosi1v5.\n",
            "Preparing to unpack .../1-coinor-libosi1v5_0.107.9+repack1-1_amd64.deb ...\n",
            "Unpacking coinor-libosi1v5 (0.107.9+repack1-1) ...\n",
            "Selecting previously unselected package coinor-libclp1.\n",
            "Preparing to unpack .../2-coinor-libclp1_1.16.11+repack1-1_amd64.deb ...\n",
            "Unpacking coinor-libclp1 (1.16.11+repack1-1) ...\n",
            "Selecting previously unselected package coinor-libcgl1.\n",
            "Preparing to unpack .../3-coinor-libcgl1_0.59.10+repack1-1_amd64.deb ...\n",
            "Unpacking coinor-libcgl1 (0.59.10+repack1-1) ...\n",
            "Selecting previously unselected package coinor-libcbc3.\n",
            "Preparing to unpack .../4-coinor-libcbc3_2.9.9+repack1-1_amd64.deb ...\n",
            "Unpacking coinor-libcbc3 (2.9.9+repack1-1) ...\n",
            "Selecting previously unselected package coinor-cbc.\n",
            "Preparing to unpack .../5-coinor-cbc_2.9.9+repack1-1_amd64.deb ...\n",
            "Unpacking coinor-cbc (2.9.9+repack1-1) ...\n",
            "Setting up coinor-libcoinutils3v5 (2.10.14+repack1-1) ...\n",
            "Setting up coinor-libosi1v5 (0.107.9+repack1-1) ...\n",
            "Setting up coinor-libclp1 (1.16.11+repack1-1) ...\n",
            "Setting up coinor-libcgl1 (0.59.10+repack1-1) ...\n",
            "Setting up coinor-libcbc3 (2.9.9+repack1-1) ...\n",
            "Setting up coinor-cbc (2.9.9+repack1-1) ...\n",
            "Processing triggers for man-db (2.8.3-2ubuntu0.1) ...\n",
            "Processing triggers for libc-bin (2.27-3ubuntu1) ...\n",
            "/sbin/ldconfig.real: /usr/local/lib/python3.6/dist-packages/ideep4py/lib/libmkldnn.so.0 is not a symbolic link\n",
            "\n"
          ],
          "name": "stdout"
        }
      ]
    },
    {
      "cell_type": "code",
      "metadata": {
        "id": "UcpjzBdVcObI",
        "colab_type": "code",
        "colab": {}
      },
      "source": [
        "solver = pyo.SolverFactory(\"cbc\", executable=\"/usr/bin/cbc\")\n",
        "results = solver.solve(modelo)\n",
        "##results.write()"
      ],
      "execution_count": 0,
      "outputs": []
    },
    {
      "cell_type": "code",
      "metadata": {
        "id": "RSWLl53mdSPB",
        "colab_type": "code",
        "outputId": "7677ac84-dcba-4b93-bc47-f019b1a62d46",
        "colab": {
          "base_uri": "https://localhost:8080/",
          "height": 84
        }
      },
      "source": [
        "print(\"Valor ótimo lucro = \", modelo.obj.value())\n",
        "print(\"Solução ótima = \", modelo.x.get_values())"
      ],
      "execution_count": 0,
      "outputs": [
        {
          "output_type": "stream",
          "text": [
            "WARNING: DEPRECATED: The .value property getter on SimpleObjective is\n",
            "    deprecated. Use the .expr property getter instead\n",
            "Valor ótimo lucro =  692500.0\n",
            "Solução ótima =  {0: 800.0, 1: 750.0, 2: 387.5, 3: 500.0}\n"
          ],
          "name": "stdout"
        }
      ]
    }
  ]
}