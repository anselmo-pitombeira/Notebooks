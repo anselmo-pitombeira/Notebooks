{
  "nbformat": 4,
  "nbformat_minor": 0,
  "metadata": {
    "colab": {
      "provenance": [],
      "authorship_tag": "ABX9TyO6YK01seu4TE2lLmzCkOAU",
      "include_colab_link": true
    },
    "kernelspec": {
      "name": "python3",
      "display_name": "Python 3"
    },
    "language_info": {
      "name": "python"
    }
  },
  "cells": [
    {
      "cell_type": "markdown",
      "metadata": {
        "id": "view-in-github",
        "colab_type": "text"
      },
      "source": [
        "<a href=\"https://colab.research.google.com/github/anselmo-pitombeira/Notebooks/blob/master/Simula%C3%A7%C3%A3o_Estoque.ipynb\" target=\"_parent\"><img src=\"https://colab.research.google.com/assets/colab-badge.svg\" alt=\"Open In Colab\"/></a>"
      ]
    },
    {
      "cell_type": "markdown",
      "source": [
        "# Simulação de um sistema de estoque\n",
        "\n",
        "Nesse notebook, ilustramos a simulação de um sistema de estoque de um produto, usando uma política de controle do tipo $(r,R)$. Isto é, quando o estoque $y$ fica abaixo do nível $r$, ele é imediatamente reposto até $R$. A demanda segue uma distribuição de Poisson."
      ],
      "metadata": {
        "id": "-pS1cmOkHY8D"
      }
    },
    {
      "cell_type": "code",
      "execution_count": null,
      "metadata": {
        "id": "_SbvIjubHVSu"
      },
      "outputs": [],
      "source": [
        "# -*- coding: utf-8 -*-\n",
        "\"\"\"\n",
        "\n",
        "Simula o controle de estoques de um produto\n",
        "\n",
        "@author: Anselmo\n",
        "\"\"\"\n",
        "import numpy as np\n",
        "import numpy.random as rd\n",
        "import matplotlib.pyplot as plt\n",
        "\n",
        "rd.seed(42)\n",
        "\n",
        "##Parâmetros\n",
        "n = 50\n",
        "y_inicial = n          ##Nivel inicial do estoque (estado inicial)\n",
        "d_media = 40          ##Demanda media por período (lambda)\n",
        "r = 20                ##Ponto de reposicao\n",
        "R = n                ##Teto de reposição (capacidade máxima de armazenagem)\n",
        "T = 50                ##Períodos de tempo simulados\n",
        "c1 = 1.0\n",
        "c2 = 10.0\n",
        "\n",
        "N = 10   ##Número de simulações de trajetórias\n",
        "\n",
        "for j in range(N):\n",
        "\n",
        "  amostras_g = []\n",
        "  nivel_estoque = []\n",
        "  g_total = 0           ##Guarda o custo total\n",
        "\n",
        "  y = y_inicial         ##Estoque (variável de estado do sistema)\n",
        "\n",
        "  ##Simula uma trajetória\n",
        "  for t in range(T):\n",
        "\n",
        "      nivel_estoque.append(y)\n",
        "      ##print(\"\\nEstoque =\",  y)\n",
        "\n",
        "      ##Toma decisão de repor ou não de acordo com a política\n",
        "      if y < r:\n",
        "          ##print(\"\\nFaz reposição\")\n",
        "          x = R-y    ##Quantidade a repor (completa até o teto R)\n",
        "      else:\n",
        "          x = 0      ##Repõe zero\n",
        "\n",
        "      ##Amostra a demanda\n",
        "      d = rd.poisson(d_media)\n",
        "\n",
        "      ##Computa o custo\n",
        "      g = c1*x+c2*(y+x-d)**2\n",
        "      g_total+=g\n",
        "\n",
        "      ##Atualiza a variável de estado\n",
        "      y = np.maximum(y+x-d, 0)    ##Note que y sempre >= 0\n",
        "\n",
        "  amostras_g.append(g_total/T)\n",
        "\n",
        "amostras_g = np.array(amostras_g)\n",
        "\n",
        "print(\"Custo médio = \", amostras_g.mean())\n",
        "plt.plot(nivel_estoque, lw=2.0, color='red', ds=\"steps\")\n",
        "plt.xlabel('Tempo')\n",
        "plt.ylabel('Nível de estoque $y$')"
      ]
    }
  ]
}