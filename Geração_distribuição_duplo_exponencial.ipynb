{
  "nbformat": 4,
  "nbformat_minor": 0,
  "metadata": {
    "colab": {
      "name": "Geração_distribuição_duplo_exponencial.ipynb",
      "provenance": [],
      "authorship_tag": "ABX9TyNtmWO29EUN+STKExfvf7vK",
      "include_colab_link": true
    },
    "kernelspec": {
      "name": "python3",
      "display_name": "Python 3"
    },
    "language_info": {
      "name": "python"
    }
  },
  "cells": [
    {
      "cell_type": "markdown",
      "metadata": {
        "id": "view-in-github",
        "colab_type": "text"
      },
      "source": [
        "<a href=\"https://colab.research.google.com/github/anselmo-pitombeira/Notebooks/blob/master/Gera%C3%A7%C3%A3o_distribui%C3%A7%C3%A3o_duplo_exponencial.ipynb\" target=\"_parent\"><img src=\"https://colab.research.google.com/assets/colab-badge.svg\" alt=\"Open In Colab\"/></a>"
      ]
    },
    {
      "cell_type": "code",
      "metadata": {
        "id": "jL_BYQETH7O1"
      },
      "source": [
        "import numpy as np\n",
        "import numpy.random as rd\n",
        "import matplotlib.pyplot as plt"
      ],
      "execution_count": null,
      "outputs": []
    },
    {
      "cell_type": "code",
      "metadata": {
        "id": "IkF7x5C1JFio"
      },
      "source": [
        "amostra = []\n",
        "for i in range(10000):\n",
        "    u = rd.uniform()\n",
        "    if u < 0.5:\n",
        "      x = 0.5*np.log(2*u)\n",
        "    else:\n",
        "      x = -0.5*np.log(2*(1-u))\n",
        "    amostra.append(x)\n",
        "\n"
      ],
      "execution_count": null,
      "outputs": []
    },
    {
      "cell_type": "code",
      "metadata": {
        "colab": {
          "base_uri": "https://localhost:8080/",
          "height": 491
        },
        "id": "SpOWyK3rJ1xP",
        "outputId": "25be35d8-fda7-432a-e83d-fa6b83377881"
      },
      "source": [
        "plt.hist(amostra,bins=30)"
      ],
      "execution_count": null,
      "outputs": [
        {
          "output_type": "execute_result",
          "data": {
            "text/plain": [
              "(array([2.000e+00, 9.000e+00, 7.000e+00, 1.700e+01, 2.100e+01, 3.300e+01,\n",
              "        5.100e+01, 8.700e+01, 1.200e+02, 2.280e+02, 3.610e+02, 6.190e+02,\n",
              "        1.015e+03, 1.760e+03, 2.177e+03, 1.426e+03, 7.980e+02, 5.020e+02,\n",
              "        3.080e+02, 1.930e+02, 1.170e+02, 5.800e+01, 3.600e+01, 2.000e+01,\n",
              "        1.600e+01, 1.000e+01, 4.000e+00, 3.000e+00, 1.000e+00, 1.000e+00]),\n",
              " array([-3.62512055, -3.37078276, -3.11644497, -2.86210718, -2.60776939,\n",
              "        -2.3534316 , -2.09909381, -1.84475602, -1.59041823, -1.33608044,\n",
              "        -1.08174265, -0.82740486, -0.57306707, -0.31872928, -0.06439149,\n",
              "         0.1899463 ,  0.44428409,  0.69862188,  0.95295967,  1.20729746,\n",
              "         1.46163525,  1.71597305,  1.97031084,  2.22464863,  2.47898642,\n",
              "         2.73332421,  2.987662  ,  3.24199979,  3.49633758,  3.75067537,\n",
              "         4.00501316]),\n",
              " <a list of 30 Patch objects>)"
            ]
          },
          "metadata": {
            "tags": []
          },
          "execution_count": 3
        },
        {
          "output_type": "display_data",
          "data": {
            "image/png": "[encoded data removed]",
            "text/plain": [
              "<Figure size 432x288 with 1 Axes>"
            ]
          },
          "metadata": {
            "tags": [],
            "needs_background": "light"
          }
        }
      ]
    }
  ]
}