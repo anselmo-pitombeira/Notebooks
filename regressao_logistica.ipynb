{
  "nbformat": 4,
  "nbformat_minor": 0,
  "metadata": {
    "colab": {
      "name": "regressao_logistica.ipynb",
      "provenance": [],
      "authorship_tag": "ABX9TyNawvcJSOcZGFf5Wp3cW6ZP",
      "include_colab_link": true
    },
    "kernelspec": {
      "name": "python3",
      "display_name": "Python 3"
    },
    "language_info": {
      "name": "python"
    }
  },
  "cells": [
    {
      "cell_type": "markdown",
      "metadata": {
        "id": "view-in-github",
        "colab_type": "text"
      },
      "source": [
        "<a href=\"https://colab.research.google.com/github/anselmo-pitombeira/Notebooks/blob/master/regressao_logistica.ipynb\" target=\"_parent\"><img src=\"https://colab.research.google.com/assets/colab-badge.svg\" alt=\"Open In Colab\"/></a>"
      ]
    },
    {
      "cell_type": "markdown",
      "metadata": {
        "id": "fd01PuVFhOvJ"
      },
      "source": [
        "# Regressão Logística\n",
        "\n",
        "Neste notebook, ilustramos uma aplicação da técnica de regressão logística ao conjunto de dados clássico sobre vinhos de três variedades diferentes. O objetivo é classificar os vinhos a partir da observação de 13 diferentes *features* (ou características). O conjunto de dados está disponível em https://archive.ics.uci.edu/ml/datasets/wine."
      ]
    },
    {
      "cell_type": "markdown",
      "metadata": {
        "id": "yeEkciAujlCh"
      },
      "source": [
        "## Importação das funções"
      ]
    },
    {
      "cell_type": "code",
      "metadata": {
        "id": "nS3_PSLnhK12"
      },
      "source": [
        "from sklearn.linear_model import LogisticRegression\n",
        "from sklearn.model_selection import train_test_split\n",
        "from sklearn.datasets import load_wine"
      ],
      "execution_count": 38,
      "outputs": []
    },
    {
      "cell_type": "markdown",
      "metadata": {
        "id": "b5iclEwekIRc"
      },
      "source": [
        "## Leitura dos dados\n",
        "Note que a função load_wine já carrega os dados desse exemplo clássico. Os dados são carregados como um dicionário. `data` contém os dados dos *features* e `target` da variável resposta como arrays NumPy, respectivamente."
      ]
    },
    {
      "cell_type": "code",
      "metadata": {
        "colab": {
          "base_uri": "https://localhost:8080/"
        },
        "id": "ObWnGORKkPZp",
        "outputId": "e927034e-9cfe-4b2a-9555-d85e089b6714"
      },
      "source": [
        "dados = load_wine()\n",
        "print(\"Chaves do dicionário:\", list(dados.keys()))"
      ],
      "execution_count": 39,
      "outputs": [
        {
          "output_type": "stream",
          "text": [
            "Chaves do dicionário: ['data', 'target', 'target_names', 'DESCR', 'feature_names']\n"
          ],
          "name": "stdout"
        }
      ]
    },
    {
      "cell_type": "markdown",
      "metadata": {
        "id": "yP4NiH-JlZbB"
      },
      "source": [
        "Pode-se ver que há 13 *features* e 178 observações no total:"
      ]
    },
    {
      "cell_type": "code",
      "metadata": {
        "colab": {
          "base_uri": "https://localhost:8080/"
        },
        "id": "B3Wk6KtBlfEm",
        "outputId": "4f3406e3-e936-4c99-fe26-abbe9ef649b9"
      },
      "source": [
        "print(\"Formato dos dados de features = \", dados['data'].shape)\n",
        "print(\"Formato dos dados da variávels resposta = \", dados['target'].shape)\n",
        "print(\"Vetor de classes = \", dados['target'])"
      ],
      "execution_count": 40,
      "outputs": [
        {
          "output_type": "stream",
          "text": [
            "Formato dos dados de features =  (178, 13)\n",
            "Formato dos dados da variávels resposta =  (178,)\n",
            "Vetor de classes =  [0 0 0 0 0 0 0 0 0 0 0 0 0 0 0 0 0 0 0 0 0 0 0 0 0 0 0 0 0 0 0 0 0 0 0 0 0\n",
            " 0 0 0 0 0 0 0 0 0 0 0 0 0 0 0 0 0 0 0 0 0 0 1 1 1 1 1 1 1 1 1 1 1 1 1 1 1\n",
            " 1 1 1 1 1 1 1 1 1 1 1 1 1 1 1 1 1 1 1 1 1 1 1 1 1 1 1 1 1 1 1 1 1 1 1 1 1\n",
            " 1 1 1 1 1 1 1 1 1 1 1 1 1 1 1 1 1 1 1 2 2 2 2 2 2 2 2 2 2 2 2 2 2 2 2 2 2\n",
            " 2 2 2 2 2 2 2 2 2 2 2 2 2 2 2 2 2 2 2 2 2 2 2 2 2 2 2 2 2 2]\n"
          ],
          "name": "stdout"
        }
      ]
    },
    {
      "cell_type": "markdown",
      "metadata": {
        "id": "82Y3z4TtqF-X"
      },
      "source": [
        "## Separação do conjunto de dados em treino e teste\n",
        "\n",
        "Para testar a precisão da classificação da regressão logística, vamos dividir o conjunto de dados em um conjunto de *treino*, o qual usaremos para ajustar os parâmetros do modelo, e um conjunto de *teste*, o qual utilizaremos para testar o modelo. Note que separamos 70% da amostra para treino e 30% para teste:"
      ]
    },
    {
      "cell_type": "code",
      "metadata": {
        "id": "Ek9m4mLPqb3-"
      },
      "source": [
        "X = dados['data']\n",
        "y = dados['target']\n",
        "X_treino, X_teste, y_treino, y_teste = train_test_split(X, y, test_size=0.3, random_state=42)"
      ],
      "execution_count": 41,
      "outputs": []
    },
    {
      "cell_type": "markdown",
      "metadata": {
        "id": "590BKgtLsqSq"
      },
      "source": [
        "##Padronização dos dados\n",
        "\n",
        "Consiste em usar a transformação-z (escore padrão) para deixar os *features* na mesma escala. A padronização é frequentemente usada em regressão logística uma vez que facilita a convergência do algoritmo de ajuste dos parâmetros."
      ]
    },
    {
      "cell_type": "code",
      "metadata": {
        "id": "_UbWl-IFtHCL"
      },
      "source": [
        "from sklearn.preprocessing import StandardScaler\n",
        "scaler = StandardScaler()\n",
        "X_treino = scaler.fit_transform(X_treino)\n",
        "X_teste = scaler.fit_transform(X_teste)"
      ],
      "execution_count": 42,
      "outputs": []
    },
    {
      "cell_type": "markdown",
      "metadata": {
        "id": "KG4RCdrkrLl2"
      },
      "source": [
        "##Criação do modelo e ajuste dos parâmetros"
      ]
    },
    {
      "cell_type": "code",
      "metadata": {
        "colab": {
          "base_uri": "https://localhost:8080/"
        },
        "id": "HW9YqUQwrO4I",
        "outputId": "a0d423b4-d399-4652-ac1d-7b0cd0b58dc8"
      },
      "source": [
        "modelo = LogisticRegression()\n",
        "modelo.fit(X_treino,y_treino)"
      ],
      "execution_count": 43,
      "outputs": [
        {
          "output_type": "execute_result",
          "data": {
            "text/plain": [
              "LogisticRegression(C=1.0, class_weight=None, dual=False, fit_intercept=True,\n",
              "                   intercept_scaling=1, l1_ratio=None, max_iter=100,\n",
              "                   multi_class='auto', n_jobs=None, penalty='l2',\n",
              "                   random_state=None, solver='lbfgs', tol=0.0001, verbose=0,\n",
              "                   warm_start=False)"
            ]
          },
          "metadata": {},
          "execution_count": 43
        }
      ]
    },
    {
      "cell_type": "markdown",
      "metadata": {
        "id": "lf5Ugi2athGV"
      },
      "source": [
        "##Aplicação do modelo aos dados de teste\n",
        "\n",
        "A função `predict` prevê a classe de cada amostra de vinho dados os *features* observados, enquanto a função `score` computa a ''acurácia'' das previsões. A acurácia corresponde ao percentual de amostras de vinho classificadas corretamente. Note que a regressão logística resultou em uma acurácia de aproximadamente 98%."
      ]
    },
    {
      "cell_type": "code",
      "metadata": {
        "colab": {
          "base_uri": "https://localhost:8080/"
        },
        "id": "sv5O0gL0tvOD",
        "outputId": "3d858913-0848-4d5e-9360-9e71873d8cc4"
      },
      "source": [
        "y_previsto = modelo.predict(X_teste)\n",
        "acuracia = modelo.score(X_teste,y_teste)\n",
        "print(\"Acurácia = \", acuracia)"
      ],
      "execution_count": 44,
      "outputs": [
        {
          "output_type": "stream",
          "text": [
            "Acurácia =  0.9814814814814815\n"
          ],
          "name": "stdout"
        }
      ]
    }
  ]
}