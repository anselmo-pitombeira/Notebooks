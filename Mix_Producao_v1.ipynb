{
  "nbformat": 4,
  "nbformat_minor": 0,
  "metadata": {
    "colab": {
      "provenance": [],
      "include_colab_link": true
    },
    "kernelspec": {
      "name": "python3",
      "display_name": "Python 3"
    },
    "language_info": {
      "name": "python"
    }
  },
  "cells": [
    {
      "cell_type": "markdown",
      "metadata": {
        "id": "view-in-github",
        "colab_type": "text"
      },
      "source": [
        "<a href=\"https://colab.research.google.com/github/anselmo-pitombeira/Notebooks/blob/master/Mix_Producao_v1.ipynb\" target=\"_parent\"><img src=\"https://colab.research.google.com/assets/colab-badge.svg\" alt=\"Open In Colab\"/></a>"
      ]
    },
    {
      "cell_type": "code",
      "execution_count": null,
      "metadata": {
        "id": "I_eJZKzt_6YK"
      },
      "outputs": [],
      "source": [
        "!pip install pyomo\n",
        "!apt-get install coinor-cbc"
      ]
    },
    {
      "cell_type": "code",
      "source": [
        "import pyomo.environ as pyo\n",
        "import numpy as np"
      ],
      "metadata": {
        "id": "VFQH0w4jAKGB"
      },
      "execution_count": null,
      "outputs": []
    },
    {
      "cell_type": "code",
      "source": [
        "modelo = pyo.ConcreteModel()\n",
        "\n",
        "modelo.x1 = pyo.Var(domain=pyo.NonNegativeReals)\n",
        "modelo.x2 = pyo.Var(domain=pyo.NonNegativeReals)\n",
        "\n",
        "z = 2*modelo.x1+3*modelo.x2\n",
        "\n",
        "modelo.z = pyo.Objective(expr=z, sense=pyo.maximize)\n",
        "\n",
        "r1 = 1.5*modelo.x1+3.0*modelo.x2 <= 180\n",
        "modelo.r1 = pyo.Constraint(expr=r1)\n",
        "\n",
        "r2 = 3.5*modelo.x1+4.0*modelo.x2 <= 280\n",
        "modelo.r2 = pyo.Constraint(expr=r2)\n",
        "\n",
        "r3 = 10.0*modelo.x1+7.0*modelo.x2 <= 700\n",
        "modelo.r3 = pyo.Constraint(expr=r3)\n",
        "\n",
        "\n"
      ],
      "metadata": {
        "id": "hsSQ9GsMAR4h"
      },
      "execution_count": null,
      "outputs": []
    },
    {
      "cell_type": "code",
      "source": [
        "solver = pyo.SolverFactory(\"cbc\")\n",
        "results = solver.solve(modelo)"
      ],
      "metadata": {
        "id": "Btu1s3soBRPs"
      },
      "execution_count": null,
      "outputs": []
    },
    {
      "cell_type": "code",
      "source": [
        "modelo.display()"
      ],
      "metadata": {
        "id": "yjtzlVjvBwDZ"
      },
      "execution_count": null,
      "outputs": []
    },
    {
      "cell_type": "code",
      "source": [
        "print(\"x1 =\", modelo.x1.value)\n",
        "print(\"x2 = \", modelo.x2.value)\n",
        "print(\"z = \", modelo.z())"
      ],
      "metadata": {
        "id": "TqqDI0UpBcBM"
      },
      "execution_count": null,
      "outputs": []
    }
  ]
}