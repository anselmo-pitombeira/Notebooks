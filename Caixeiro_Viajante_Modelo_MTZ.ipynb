{
  "nbformat": 4,
  "nbformat_minor": 0,
  "metadata": {
    "colab": {
      "provenance": [],
      "authorship_tag": "ABX9TyP8kOT2TzE3bTPir/W4LpuW",
      "include_colab_link": true
    },
    "kernelspec": {
      "name": "python3",
      "display_name": "Python 3"
    },
    "language_info": {
      "name": "python"
    }
  },
  "cells": [
    {
      "cell_type": "markdown",
      "metadata": {
        "id": "view-in-github",
        "colab_type": "text"
      },
      "source": [
        "<a href=\"https://colab.research.google.com/github/anselmo-pitombeira/Notebooks/blob/master/Caixeiro_Viajante_Modelo_MTZ.ipynb\" target=\"_parent\"><img src=\"https://colab.research.google.com/assets/colab-badge.svg\" alt=\"Open In Colab\"/></a>"
      ]
    },
    {
      "cell_type": "markdown",
      "source": [
        "# Resolve o problema do caixeiro viajante por meio do modelo MTZ\n",
        "\n",
        "Mais detalhes: http://www.opl.ufc.br/post/tsp/\n"
      ],
      "metadata": {
        "id": "D23BCwjpHjzA"
      }
    },
    {
      "cell_type": "code",
      "source": [
        "!pip install pyomo"
      ],
      "metadata": {
        "id": "6_K9f6V0z28E"
      },
      "execution_count": null,
      "outputs": []
    },
    {
      "cell_type": "code",
      "source": [
        "!apt-get install coinor-cbc"
      ],
      "metadata": {
        "id": "4graLFx5z3fs"
      },
      "execution_count": null,
      "outputs": []
    },
    {
      "cell_type": "code",
      "source": [
        "import pyomo.environ as pyEnv"
      ],
      "metadata": {
        "id": "urdo8FivDLRT"
      },
      "execution_count": null,
      "outputs": []
    },
    {
      "cell_type": "code",
      "execution_count": null,
      "metadata": {
        "id": "gRoo8PCXzL_5"
      },
      "outputs": [],
      "source": [
        "file = open('17.txt')\n",
        "lines = file.readlines()\n",
        "file.close()\n",
        "\n",
        "cost_matrix = []\n",
        "\n",
        "for i in range(len(lines)):\n",
        "    aux = lines[i][:-1].split('\\t')\n",
        "    aux = [int(i) for i in aux if i!= '']\n",
        "    cost_matrix.append(aux)\n",
        "\n",
        "n = len(cost_matrix)"
      ]
    },
    {
      "cell_type": "code",
      "source": [
        "#Model\n",
        "model = pyEnv.ConcreteModel()\n",
        "\n",
        "#Indexes for the cities\n",
        "model.M = pyEnv.RangeSet(n)\n",
        "model.N = pyEnv.RangeSet(n)\n",
        "\n",
        "#Index for the dummy variable u\n",
        "model.U = pyEnv.RangeSet(2,n)\n",
        "\n",
        "#Decision variables xij\n",
        "model.x = pyEnv.Var(model.N,model.M, within=pyEnv.Binary)\n",
        "\n",
        "#Dummy variable ui\n",
        "model.u = pyEnv.Var(model.N, within=pyEnv.NonNegativeReals,bounds=(0,n-1))\n",
        "\n",
        "#Cost Matrix cij\n",
        "model.c = pyEnv.Param(model.N, model.M,initialize=lambda model, i, j: cost_matrix[i-1][j-1])\n",
        "\n",
        "def obj_func(model):\n",
        "    return sum(model.x[i,j] * model.c[i,j] for i in model.N for j in model.M)\n",
        "\n",
        "model.objective = pyEnv.Objective(rule=obj_func,sense=pyEnv.minimize)\n",
        "\n",
        "def rule_const1(model,M):\n",
        "    return sum(model.x[i,M] for i in model.N if i!=M ) == 1\n",
        "\n",
        "model.const1 = pyEnv.Constraint(model.M,rule=rule_const1)\n",
        "\n",
        "def rule_const2(model,N):\n",
        "    return sum(model.x[N,j] for j in model.M if j!=N) == 1\n",
        "\n",
        "model.rest2 = pyEnv.Constraint(model.N,rule=rule_const2)\n",
        "\n",
        "def rule_const3(model,i,j):\n",
        "    if i!=j:\n",
        "        return model.u[i] - model.u[j] + model.x[i,j] * n <= n-1\n",
        "    else:\n",
        "        #Yeah, this else doesn't say anything\n",
        "        return model.u[i] - model.u[i] == 0\n",
        "\n",
        "model.rest3 = pyEnv.Constraint(model.U,model.N,rule=rule_const3)\n",
        "\n",
        "#Prints the entire model\n",
        "##model.pprint()"
      ],
      "metadata": {
        "id": "7uYFNjLjzUKi"
      },
      "execution_count": null,
      "outputs": []
    },
    {
      "cell_type": "code",
      "source": [
        "#Solve model\n",
        "solver = pyEnv.SolverFactory('cbc')\n",
        "solver.options[\"Sec\"] = 120    ##Max solving time for cbc\n",
        "result = solver.solve(model,tee = True)\n",
        "\n",
        "##Prints the results\n",
        "##print(result)"
      ],
      "metadata": {
        "id": "YzODwV55zu2s"
      },
      "execution_count": null,
      "outputs": []
    },
    {
      "cell_type": "code",
      "source": [
        "l = list(model.x.keys())\n",
        "for i in l:\n",
        "    if model.x[i]() != 0:\n",
        "        print(i,'--', model.x[i]())\n"
      ],
      "metadata": {
        "id": "u8zZU0pgzYma"
      },
      "execution_count": null,
      "outputs": []
    },
    {
      "cell_type": "code",
      "source": [],
      "metadata": {
        "id": "OhUjdDryzbQL"
      },
      "execution_count": null,
      "outputs": []
    }
  ]
}