{
  "nbformat": 4,
  "nbformat_minor": 0,
  "metadata": {
    "colab": {
      "name": "Método_inversa.ipynb",
      "provenance": [],
      "authorship_tag": "ABX9TyMyrblbHYYfh7Gg7TPZXt94",
      "include_colab_link": true
    },
    "kernelspec": {
      "name": "python3",
      "display_name": "Python 3"
    }
  },
  "cells": [
    {
      "cell_type": "markdown",
      "metadata": {
        "id": "view-in-github",
        "colab_type": "text"
      },
      "source": [
        "<a href=\"https://colab.research.google.com/github/anselmo-pitombeira/Notebooks/blob/master/M%C3%A9todo_inversa.ipynb\" target=\"_parent\"><img src=\"https://colab.research.google.com/assets/colab-badge.svg\" alt=\"Open In Colab\"/></a>"
      ]
    },
    {
      "cell_type": "markdown",
      "metadata": {
        "id": "qHB1TtcddT8O"
      },
      "source": [
        "# Método da Inversa\r\n",
        "\r\n",
        "Neste notebook, ilustramos a simulação de amostras da distribuição exponencial por meio do método da inversa."
      ]
    },
    {
      "cell_type": "code",
      "metadata": {
        "colab": {
          "base_uri": "https://localhost:8080/",
          "height": 508
        },
        "id": "th1ElyaUdQBp",
        "outputId": "35c71b11-2ff7-490c-ccdb-24b5e73a5963"
      },
      "source": [
        "import numpy as np\r\n",
        "import numpy.random as rd\r\n",
        "import matplotlib.pyplot as plt\r\n",
        "\r\n",
        "rd.seed(1010)\r\n",
        "\r\n",
        "lambd = 2.0                      ##Parametro lambda\r\n",
        "N = 10000                        ##Tamanho da amostra\r\n",
        "\r\n",
        "u = rd.uniform(0,1,N)            ##N números uniformes\r\n",
        "x = -(1/lambd)*np.log(1-u)       ##N números exponenciais\r\n",
        "\r\n",
        "plt.hist(x, bins=30)             ##Histograma da amostra gerada"
      ],
      "execution_count": 1,
      "outputs": [
        {
          "output_type": "execute_result",
          "data": {
            "text/plain": [
              "(array([3.456e+03, 2.239e+03, 1.504e+03, 9.680e+02, 6.740e+02, 3.890e+02,\n",
              "        2.680e+02, 1.860e+02, 1.150e+02, 6.900e+01, 4.400e+01, 3.100e+01,\n",
              "        1.900e+01, 9.000e+00, 1.300e+01, 5.000e+00, 5.000e+00, 2.000e+00,\n",
              "        1.000e+00, 2.000e+00, 0.000e+00, 0.000e+00, 0.000e+00, 0.000e+00,\n",
              "        0.000e+00, 0.000e+00, 0.000e+00, 0.000e+00, 0.000e+00, 1.000e+00]),\n",
              " array([2.63547101e-05, 2.14738251e-01, 4.29450147e-01, 6.44162043e-01,\n",
              "        8.58873939e-01, 1.07358583e+00, 1.28829773e+00, 1.50300963e+00,\n",
              "        1.71772152e+00, 1.93243342e+00, 2.14714531e+00, 2.36185721e+00,\n",
              "        2.57656911e+00, 2.79128100e+00, 3.00599290e+00, 3.22070479e+00,\n",
              "        3.43541669e+00, 3.65012859e+00, 3.86484048e+00, 4.07955238e+00,\n",
              "        4.29426427e+00, 4.50897617e+00, 4.72368807e+00, 4.93839996e+00,\n",
              "        5.15311186e+00, 5.36782375e+00, 5.58253565e+00, 5.79724755e+00,\n",
              "        6.01195944e+00, 6.22667134e+00, 6.44138323e+00]),\n",
              " <a list of 30 Patch objects>)"
            ]
          },
          "metadata": {
            "tags": []
          },
          "execution_count": 1
        },
        {
          "output_type": "display_data",
          "data": {
            "image/png": "[encoded data removed]",
            "text/plain": [
              "<Figure size 432x288 with 1 Axes>"
            ]
          },
          "metadata": {
            "tags": [],
            "needs_background": "light"
          }
        }
      ]
    }
  ]
}